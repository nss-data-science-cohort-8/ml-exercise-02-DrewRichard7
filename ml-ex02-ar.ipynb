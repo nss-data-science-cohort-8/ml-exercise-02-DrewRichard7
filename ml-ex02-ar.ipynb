{
 "cells": [
  {
   "cell_type": "markdown",
   "id": "5669c28f",
   "metadata": {},
   "source": [
    "<!-- ---\n",
    "title: \"ml exercise 2\"\n",
    "author: \"andrew richard\"\n",
    "format: \n",
    "    html:\n",
    "        code-fold: false\n",
    "output: html\n",
    "jupyter: python3\n",
    "execute:\n",
    "    enabled: true\n",
    "--- -->\n",
    "## Machine Learning Exercise 2: Classification Basics\n",
    "\n",
    "In this exercise, you'll be working with a dataset containing information about passengers on the Titanic. You can get more information about this dataset [here](https://www.kaggle.com/competitions/titanic). Our goal will be to build a model to predict whether a passenger survived the voyage.\n"
   ]
  },
  {
   "cell_type": "code",
   "execution_count": 318,
   "id": "a9e6b303",
   "metadata": {},
   "outputs": [],
   "source": [
    "\n",
    "import pandas as pd\n",
    "import matplotlib.pyplot as plt\n",
    "import numpy as np\n",
    "import seaborn as sns\n",
    "import plotly.express as px\n",
    "import plotly.graph_objects as go\n",
    "import itables\n",
    "from sklearn.preprocessing import OneHotEncoder, Normalizer\n",
    "from sklearn.model_selection import train_test_split, cross_val_score, KFold, GridSearchCV\n",
    "from sklearn.linear_model import LinearRegression, LogisticRegression, Ridge, Lasso \n",
    "from sklearn.neighbors import KNeighborsClassifier, KNeighborsRegressor\n",
    "from sklearn.tree import DecisionTreeClassifier\n",
    "from sklearn import metrics\n",
    "from sklearn.metrics import r2_score, mean_squared_error, mean_absolute_error, root_mean_squared_error, mean_absolute_percentage_error, confusion_matrix, classification_report, roc_curve, roc_auc_score, RocCurveDisplay\n",
    "from sklearn.compose import TransformedTargetRegressor, ColumnTransformer\n",
    "from sklearn.impute import SimpleImputer\n",
    "from sklearn.pipeline import Pipeline\n",
    "\n"
   ]
  },
  {
   "cell_type": "markdown",
   "id": "9d56200c",
   "metadata": {},
   "source": [
    "Let's start by building a model using Age as a predictor variable.\n",
    "\n",
    "When performing a train/test split, you usually want to make sure that the ratios of target values look the same in the training set and in the test set. This is especially true with imbalanced targets, where there are more observations in one class than the other. This can be done by, instead of a completely random split, by performing a **stratified** split.\n",
    "\n",
    "1.  Create a DataFrame, X, which contains one column, Age, and a Series, y, which contains the target variable. Perform a 70/30 train/test split, stratifying by the target variable. Make sure that you set a random_state during this split. \n"
   ]
  },
  {
   "cell_type": "markdown",
   "id": "1fc75a0b",
   "metadata": {},
   "source": [
    "**initial setup**"
   ]
  },
  {
   "cell_type": "code",
   "execution_count": 319,
   "id": "7ffc5939",
   "metadata": {},
   "outputs": [
    {
     "name": "stdout",
     "output_type": "stream",
     "text": [
      "(891, 1) (891,)\n"
     ]
    }
   ],
   "source": [
    "titanic = pd.DataFrame(pd.read_csv(\"./data/titanic.csv\"))\n",
    "X = titanic[[\"Age\"]]\n",
    "y = titanic[\"Survived\"]\n",
    "print(X.shape, y.shape)\n"
   ]
  },
  {
   "cell_type": "markdown",
   "id": "547db44c",
   "metadata": {},
   "source": [
    "\n",
    "\n",
    "**train-test-split**\n"
   ]
  },
  {
   "cell_type": "code",
   "execution_count": 320,
   "id": "a997bd3e",
   "metadata": {},
   "outputs": [],
   "source": [
    "X_train, X_test, y_train, y_test = train_test_split(X, y, test_size = 0.3, random_state = 42, stratify = y)"
   ]
  },
  {
   "cell_type": "markdown",
   "id": "9ee621f5",
   "metadata": {},
   "source": [
    "\n",
    "2. Now, try and fit a logistic regression model using the [LogisticRegression class](https://scikit-learn.org/stable/modules/generated/sklearn.linear_model.LogisticRegression.html). When you do this, you're likely to encounter an error, that \"Input X contains NaN.\" If you check, you'll find that there are some missing values in the Age column. In the next step, we'll address this issue."
   ]
  },
  {
   "cell_type": "markdown",
   "id": "5ceeb6b7",
   "metadata": {},
   "source": [
    "**Logistic Regression attempt**"
   ]
  },
  {
   "cell_type": "markdown",
   "id": "4e756f86",
   "metadata": {},
   "source": [
    "```python\n",
    "logm = LogisticRegression()\n",
    "log_fit = logm.fit(X_train, y_train)\n",
    "```\n",
    "```\n",
    "ValueError: Input X contains NaN.\n",
    "LogisticRegression does not accept missing values encoded as NaN natively. For supervised learning, you might want to consider sklearn.ensemble.HistGradientBoostingClassifier and Regressor which accept missing values encoded as NaNs natively. Alternatively, it is possible to preprocess the data, for instance by using an imputer transformer in a pipeline or drop samples with missing values. See https://scikit-learn.org/stable/modules/impute.html You can find a list of all estimators that handle NaN values at the following page: https://scikit-learn.org/stable/modules/impute.html#estimators-that-handle-nan-values\n",
    "```\n",
    "One option when a column contains missing values is to **impute** them, meaning to replace the missing values with an estimate. A simple way to impute is to fill missing values using the mean value. **Important Note:** When imputing with the mean, you should calculate the mean value only on the training data. In order to have an unbiased estimate of model performance, it is important that the model has access to no information about the test set.\n"
   ]
  },
  {
   "cell_type": "markdown",
   "id": "d695cc2f",
   "metadata": {},
   "source": [
    "\n",
    "3. Using a [SimpleImputer](https://scikit-learn.org/stable/modules/generated/sklearn.impute.SimpleImputer.html), fit the training data and then use it to transform both the training and test data. \n"
   ]
  },
  {
   "cell_type": "code",
   "execution_count": 321,
   "id": "35414d8d",
   "metadata": {},
   "outputs": [],
   "source": [
    "imputer = SimpleImputer(missing_values = np.nan, strategy = \"mean\")\n",
    "X_train = imputer.fit_transform(X_train)\n",
    "X_test = imputer.transform(X_test) # don't want to refit to the test data, only transform"
   ]
  },
  {
   "cell_type": "markdown",
   "id": "0646b16d",
   "metadata": {},
   "source": [
    "\n",
    "4. Now, fit your logistic regression model to the training data and generate predictions on the test data.\n"
   ]
  },
  {
   "cell_type": "code",
   "execution_count": null,
   "id": "58b7d430",
   "metadata": {},
   "outputs": [],
   "source": [
    "logreg = LogisticRegression()\n",
    "logreg.fit(X_train, y_train)\n",
    "y_pred = logreg.predict(X_test)"
   ]
  },
  {
   "cell_type": "markdown",
   "id": "d2cf5111",
   "metadata": {},
   "source": [
    "There are multiple ways we can assess the performance of a classification model. A common way is put those predictions into a [confusion matrix](https://en.wikipedia.org/wiki/Confusion_matrix), which compares the predicted and actual values. \n",
    "\n",
    "5. Create a confusion matrix out of the predictions. What do you find?\n"
   ]
  },
  {
   "cell_type": "code",
   "execution_count": 323,
   "id": "d93bc431",
   "metadata": {},
   "outputs": [
    {
     "name": "stdout",
     "output_type": "stream",
     "text": [
      "<class 'pandas.core.frame.DataFrame'>      0  1\n",
      "0  165  0\n",
      "1  103  0\n"
     ]
    }
   ],
   "source": [
    "conf = pd.DataFrame(confusion_matrix(y_test, y_pred))\n",
    "print(type(conf), conf)"
   ]
  },
  {
   "cell_type": "markdown",
   "id": "d3daf8e9",
   "metadata": {},
   "source": [
    "6. Plot the ROC curve. How well does your model do? Hint: You can use the [RocCurveDisplay](https://scikit-learn.org/stable/modules/generated/sklearn.metrics.RocCurveDisplay.html) to create this plot.\n"
   ]
  },
  {
   "cell_type": "markdown",
   "id": "2b83aa99",
   "metadata": {},
   "source": [
    "TPR = TP / (TP + FN)\n",
    "FPR = FP / (TN + FP)"
   ]
  },
  {
   "cell_type": "markdown",
   "id": "0e7825d5",
   "metadata": {},
   "source": [
    " If you use .predict_proba() it will output an array with the probabilities of each class (probability of surviving, probability of death). that's why for binary classifiers we select only one column with [:, 1]. If you have more than one class (non-binary) you can just run predict_proba() and get probabilities of each class occurring. "
   ]
  },
  {
   "cell_type": "code",
   "execution_count": null,
   "id": "9d1a1f86",
   "metadata": {},
   "outputs": [
    {
     "data": {
      "image/png": "[encoded data removed]",
      "text/plain": [
       "<Figure size 640x480 with 1 Axes>"
      ]
     },
     "metadata": {},
     "output_type": "display_data"
    },
    {
     "data": {
      "text/plain": [
       "<sklearn.metrics._plot.roc_curve.RocCurveDisplay at 0x132421250>"
      ]
     },
     "execution_count": 324,
     "metadata": {},
     "output_type": "execute_result"
    },
    {
     "data": {
      "image/png": "[encoded data removed]",
      "text/plain": [
       "<Figure size 640x480 with 1 Axes>"
      ]
     },
     "metadata": {},
     "output_type": "display_data"
    }
   ],
   "source": [
    "# the datacamp way\n",
    "y_pred_probs = logreg.predict_proba(X_test)[:, 1]\n",
    "fpr, tpr, thresholds = roc_curve(y_test, y_pred_probs)\n",
    "plt.plot(fpr, tpr)\n",
    "plt.xlabel('False Positive Rate')\n",
    "plt.ylabel('True Positive Rate')\n",
    "plt.title('ROC Curve')\n",
    "plt.show()\n",
    "\n",
    "# with RocCurveDisplay\n",
    "# roc_auc = metrics.auc(fpr, tpr)\n",
    "# print(roc_auc)\n",
    "# RocCurveDisplay(fpr=fpr, tpr=tpr, roc_auc=roc_auc).plot()\n",
    "\n",
    "RocCurveDisplay.from_estimator(logreg, X_test, y_test)"
   ]
  },
  {
   "cell_type": "markdown",
   "id": "ff7725e4",
   "metadata": {},
   "source": [
    "\n",
    "You are likely to see that the model does not tend to predict that individuals survived the voyage. Let's see if we can determine why.\n",
    "\n",
    "7. Look at the average age of survivors vs. those that did not survive the voyage. What do you find?\n"
   ]
  },
  {
   "cell_type": "code",
   "execution_count": 325,
   "id": "83e6ad19",
   "metadata": {},
   "outputs": [
    {
     "name": "stdout",
     "output_type": "stream",
     "text": [
      "avg survivor age: 28.343689655172415, avg dead age: 30.62617924528302\n"
     ]
    }
   ],
   "source": [
    "survivors = titanic[titanic[\"Survived\"] == 1]\n",
    "dead = titanic[titanic[\"Survived\"] == 0]\n",
    "\n",
    "avg_surv_age = survivors[\"Age\"].mean()\n",
    "avg_dead_age = dead[\"Age\"].mean()\n",
    "\n",
    "print(f'avg survivor age: {avg_surv_age}, avg dead age: {avg_dead_age}')"
   ]
  },
  {
   "cell_type": "code",
   "execution_count": 326,
   "id": "23d2ff6a",
   "metadata": {},
   "outputs": [
    {
     "data": {
      "text/plain": [
       "<Axes: >"
      ]
     },
     "execution_count": 326,
     "metadata": {},
     "output_type": "execute_result"
    },
    {
     "data": {
      "image/png": "[encoded data removed]",
      "text/plain": [
       "<Figure size 640x480 with 1 Axes>"
      ]
     },
     "metadata": {},
     "output_type": "display_data"
    }
   ],
   "source": [
    "sns.scatterplot(x = X_test[:, 0], y=y_pred_probs, hue=y_test)"
   ]
  },
  {
   "cell_type": "markdown",
   "id": "d4722222",
   "metadata": {},
   "source": [
    "8. Perhaps the actual age number is as important as whether a passenger was a child or an adult. Create a Boolean column that indicates whether a passenger was a child or an adult. Pick a cutoff age and if they were less than this age, label as a child. We'll see later on how we can make choosing the age part of our model building pipeline, but for now, choose an age or do some calculations to pick an age that you think might do well."
   ]
  },
  {
   "cell_type": "code",
   "execution_count": 327,
   "id": "5850406a",
   "metadata": {},
   "outputs": [
    {
     "name": "stdout",
     "output_type": "stream",
     "text": [
      "Number of \"children\": 113\n"
     ]
    }
   ],
   "source": [
    "cutoff_age = 18\n",
    "\n",
    "titanic[\"is_child\"] = [1 if pd.notna(x) and x < cutoff_age else 0 for x in titanic[\"Age\"]]\n",
    "print(f'Number of \"children\": {titanic[\"is_child\"].sum()}')"
   ]
  },
  {
   "cell_type": "markdown",
   "id": "9e4f6db5",
   "metadata": {},
   "source": [
    "9. When imputing the missing values, you'll need to change the strategy from mean to most_frequent. Impute the missing values, then fit the model using this new variable, generate predictions, and view the confusion matrix. How did your model do?"
   ]
  },
  {
   "cell_type": "code",
   "execution_count": 328,
   "id": "541102ae",
   "metadata": {},
   "outputs": [
    {
     "name": "stdout",
     "output_type": "stream",
     "text": [
      "[[143  22]\n",
      " [ 84  19]]\n"
     ]
    }
   ],
   "source": [
    "# specify target and predictor(s)\n",
    "predictors = ['is_child']\n",
    "target = 'Survived'\n",
    "\n",
    "X = titanic[predictors]\n",
    "y = titanic[target]\n",
    "\n",
    "X_train, X_test, y_train, y_test = train_test_split(X, y, test_size=.3, random_state=42, stratify=y)\n",
    "\n",
    "imputer = SimpleImputer(missing_values=np.nan, strategy='most_frequent')\n",
    "X_train = imputer.fit_transform(X_train)\n",
    "X_test = imputer.transform(X_test)\n",
    "\n",
    "# initializing our logistic regression model\n",
    "logreg = LogisticRegression()\n",
    "logreg.fit(X_train, y_train)\n",
    "y_pred = logreg.predict(X_test)\n",
    "\n",
    "# print confusion matrix for model\n",
    "print(confusion_matrix(y_test, y_pred))"
   ]
  },
  {
   "cell_type": "code",
   "execution_count": null,
   "id": "4b91026f",
   "metadata": {},
   "outputs": [
    {
     "name": "stdout",
     "output_type": "stream",
     "text": [
      "     0   1\n",
      "0  143  22\n",
      "1   84  19\n"
     ]
    }
   ],
   "source": [
    "# declare new predictor variable\n",
    "X = titanic[['is_child']]\n",
    "\n",
    "# new train test split for new X\n",
    "X_train, X_test, y_train, y_test = train_test_split(X, y, test_size = 0.3, random_state=42, stratify=y)\n",
    "\n",
    "# Impute missing values\n",
    "imputer = SimpleImputer(missing_values = np.nan, strategy = \"most_frequent\")\n",
    "X_train = imputer.fit_transform(X_train)\n",
    "X_test = imputer.transform(X_test)\n",
    "\n",
    "# make predictions\n",
    "logreg = LogisticRegression()\n",
    "logreg.fit(X_train, y_train)\n",
    "y_pred = logreg.predict(X_test)\n",
    "\n",
    "# confusion matrix\n",
    "conf = pd.DataFrame(confusion_matrix(y_test, y_pred))\n",
    "print(conf)\n"
   ]
  },
  {
   "cell_type": "markdown",
   "id": "618a729c",
   "metadata": {},
   "source": [
    "\n",
    "Other common metrics for classification include accuracy, precision, and recall. For more information, see https://developers.google.com/machine-learning/crash-course/classification/accuracy-precision-recall. These metrics can be viewed using the [classification_report function](https://scikit-learn.org/stable/modules/generated/sklearn.metrics.classification_report.html). "
   ]
  },
  {
   "cell_type": "markdown",
   "id": "0a7832ec",
   "metadata": {},
   "source": [
    "10. Generate a classification report for your model."
   ]
  },
  {
   "cell_type": "code",
   "execution_count": 330,
   "id": "c7ff42a8",
   "metadata": {},
   "outputs": [
    {
     "name": "stdout",
     "output_type": "stream",
     "text": [
      "              precision    recall  f1-score   support\n",
      "\n",
      "    Died (0)       0.63      0.87      0.73       165\n",
      "Survived (1)       0.46      0.18      0.26       103\n",
      "\n",
      "    accuracy                           0.60       268\n",
      "   macro avg       0.55      0.53      0.50       268\n",
      "weighted avg       0.57      0.60      0.55       268\n",
      "\n"
     ]
    }
   ],
   "source": [
    "target_names = ['Died (0)', 'Survived (1)']\n",
    "classification_rep = metrics.classification_report(y_test, y_pred, target_names=target_names)\n",
    "print(classification_rep)"
   ]
  },
  {
   "cell_type": "markdown",
   "id": "028829e4",
   "metadata": {},
   "source": [
    "\n",
    "Another important variable is the Sex variable. \n",
    "\n",
    "11. Create a DataFrame, X, which contains one column, Sex, and a Series, y, which contains the target variable. Perform a 70/30 train/test split, stratifying by the target variable. Make sure that you set a random_state during this split. "
   ]
  },
  {
   "cell_type": "code",
   "execution_count": 331,
   "id": "742aff4f",
   "metadata": {},
   "outputs": [],
   "source": [
    "predictors = [\"Sex\"]\n",
    "target = \"Survived\"\n",
    "\n",
    "X = titanic[predictors]\n",
    "y = titanic[target]\n",
    "\n",
    "X_train, X_test, y_train, y_test = train_test_split(\n",
    "    X, \n",
    "    y,\n",
    "    test_size = 0.3,\n",
    "    random_state = 42,\n",
    "    stratify = y\n",
    ")"
   ]
  },
  {
   "cell_type": "markdown",
   "id": "f11c80e0",
   "metadata": {},
   "source": [
    "If you inspect the Sex variable, you'll find that it is encoded as a string. We need to convert it to a numeric type so that our model can use it. We can do this using a [OneHotEncoder](https://scikit-learn.org/stable/modules/generated/sklearn.preprocessing.OneHotEncoder.html).\n"
   ]
  },
  {
   "cell_type": "markdown",
   "id": "404fdd72",
   "metadata": {},
   "source": [
    "\n",
    "12. Fit a OneHotEncoder to the training data and then transform both the training and test sets. Fit a model and evaluate the performance of this model.\n"
   ]
  },
  {
   "cell_type": "code",
   "execution_count": 332,
   "id": "b0cee0c2",
   "metadata": {},
   "outputs": [
    {
     "name": "stdout",
     "output_type": "stream",
     "text": [
      "     0   1\n",
      "0  138  33\n",
      "1   27  70\n"
     ]
    }
   ],
   "source": [
    "encoder = OneHotEncoder(sparse_output=False, handle_unknown='ignore')\n",
    "X_train_encoded = encoder.fit_transform(X_train)\n",
    "X_test_encoded = encoder.transform(X_test)\n",
    "\n",
    "logreg = LogisticRegression()\n",
    "logreg.fit(X_train_encoded, y_train)\n",
    "y_pred = logreg.predict(X_test_encoded)\n",
    "\n",
    "print(pd.DataFrame(confusion_matrix(y_pred, y_test)))"
   ]
  },
  {
   "cell_type": "markdown",
   "id": "e50cdfc5",
   "metadata": {},
   "source": [
    "\n",
    "Notice how we have used different types of transformations, an imputer for the age-related variables and a OneHotEncoder for the Sex variable. When we need to use multiple types of transformations, a [ColumnTransformer](https://scikit-learn.org/stable/modules/generated/sklearn.compose.ColumnTransformer.html) is useful. \n",
    "\n",
    "In the next part, we'll fit a model using both the Sex column and our column indicating whether the passenger was a child. \n"
   ]
  },
  {
   "cell_type": "markdown",
   "id": "41184f5c",
   "metadata": {},
   "source": [
    "13. \n",
    "    a. Create a DataFrame, X, which: contains two columns, Sex and the child indicator column, and a Series, y, which contains the target variable.\n",
    "\n",
    "    b. Perform a 70/30 train/test split, stratifying by the target variable. Make sure that you set a random_state during this split. \n",
    "\n",
    "    c. Then create a ColumnTransformer which will apply a SimpleImputer to the child column and a OneHotEncoder to the Sex column. \n",
    "\n",
    "    d. Fit it on the training data and then transform the test data. \n",
    "    \n",
    "    e. Then fit a model on this and see how well it does.\n"
   ]
  },
  {
   "cell_type": "code",
   "execution_count": 333,
   "id": "9011bafa",
   "metadata": {},
   "outputs": [
    {
     "name": "stdout",
     "output_type": "stream",
     "text": [
      "     0   1\n",
      "0  138  33\n",
      "1   27  70\n"
     ]
    },
    {
     "data": {
      "text/plain": [
       "array([[138,  33],\n",
       "       [ 27,  70]])"
      ]
     },
     "execution_count": 333,
     "metadata": {},
     "output_type": "execute_result"
    }
   ],
   "source": [
    "# identify variables of interest\n",
    "predictors = [\"Sex\", \"is_child\"]\n",
    "target = \"Survived\"\n",
    "\n",
    "X = titanic[predictors]\n",
    "y = titanic[target]\n",
    "\n",
    "X_train, X_test, y_train, y_test = train_test_split(\n",
    "    X, \n",
    "    y,\n",
    "    test_size = 0.3,\n",
    "    random_state = 42,\n",
    "    stratify = y\n",
    ")\n",
    "\n",
    "ct = ColumnTransformer(\n",
    "    transformers=[\n",
    "        (\"imputer\", SimpleImputer(strategy=\"most_frequent\"), [\"is_child\"]),\n",
    "        (\"ohe\", OneHotEncoder(), [\"Sex\"]),\n",
    "    ]\n",
    ")\n",
    "X_train_ct = ct.fit_transform(X_train)\n",
    "X_test_ct = ct.transform(X_test)\n",
    "\n",
    "logreg = LogisticRegression()\n",
    "logreg.fit(X_train_ct, y_train)\n",
    "y_pred = logreg.predict(X_test_ct)\n",
    "\n",
    "print(pd.DataFrame(confusion_matrix(y_pred, y_test)))\n",
    "confusion_matrix(y_pred, y_test)"
   ]
  },
  {
   "cell_type": "markdown",
   "id": "617df7d5",
   "metadata": {},
   "source": [
    "\n",
    "Finally, let's see how we can do all of this in a slightly more compact manner. We can use a [Pipeline](https://scikit-learn.org/stable/modules/generated/sklearn.pipeline.Pipeline.html) which allows us to specify preprocessing steps (like the ColumnTransformer we used earlier) as well as the model we want to fit. \n",
    "\n",
    "14. Create a Pipeline which contains the ColumnTransformer and the LogisticRegression model. \n"
   ]
  },
  {
   "cell_type": "code",
   "execution_count": 334,
   "id": "baa5d2a6",
   "metadata": {},
   "outputs": [
    {
     "data": {
      "text/html": [
       "<style>#sk-container-id-16 {\n",
       "  /* Definition of color scheme common for light and dark mode */\n",
       "  --sklearn-color-text: #000;\n",
       "  --sklearn-color-text-muted: #666;\n",
       "  --sklearn-color-line: gray;\n",
       "  /* Definition of color scheme for unfitted estimators */\n",
       "  --sklearn-color-unfitted-level-0: #fff5e6;\n",
       "  --sklearn-color-unfitted-level-1: #f6e4d2;\n",
       "  --sklearn-color-unfitted-level-2: #ffe0b3;\n",
       "  --sklearn-color-unfitted-level-3: chocolate;\n",
       "  /* Definition of color scheme for fitted estimators */\n",
       "  --sklearn-color-fitted-level-0: #f0f8ff;\n",
       "  --sklearn-color-fitted-level-1: #d4ebff;\n",
       "  --sklearn-color-fitted-level-2: #b3dbfd;\n",
       "  --sklearn-color-fitted-level-3: cornflowerblue;\n",
       "\n",
       "  /* Specific color for light theme */\n",
       "  --sklearn-color-text-on-default-background: var(--sg-text-color, var(--theme-code-foreground, var(--jp-content-font-color1, black)));\n",
       "  --sklearn-color-background: var(--sg-background-color, var(--theme-background, var(--jp-layout-color0, white)));\n",
       "  --sklearn-color-border-box: var(--sg-text-color, var(--theme-code-foreground, var(--jp-content-font-color1, black)));\n",
       "  --sklearn-color-icon: #696969;\n",
       "\n",
       "  @media (prefers-color-scheme: dark) {\n",
       "    /* Redefinition of color scheme for dark theme */\n",
       "    --sklearn-color-text-on-default-background: var(--sg-text-color, var(--theme-code-foreground, var(--jp-content-font-color1, white)));\n",
       "    --sklearn-color-background: var(--sg-background-color, var(--theme-background, var(--jp-layout-color0, #111)));\n",
       "    --sklearn-color-border-box: var(--sg-text-color, var(--theme-code-foreground, var(--jp-content-font-color1, white)));\n",
       "    --sklearn-color-icon: #878787;\n",
       "  }\n",
       "}\n",
       "\n",
       "#sk-container-id-16 {\n",
       "  color: var(--sklearn-color-text);\n",
       "}\n",
       "\n",
       "#sk-container-id-16 pre {\n",
       "  padding: 0;\n",
       "}\n",
       "\n",
       "#sk-container-id-16 input.sk-hidden--visually {\n",
       "  border: 0;\n",
       "  clip: rect(1px 1px 1px 1px);\n",
       "  clip: rect(1px, 1px, 1px, 1px);\n",
       "  height: 1px;\n",
       "  margin: -1px;\n",
       "  overflow: hidden;\n",
       "  padding: 0;\n",
       "  position: absolute;\n",
       "  width: 1px;\n",
       "}\n",
       "\n",
       "#sk-container-id-16 div.sk-dashed-wrapped {\n",
       "  border: 1px dashed var(--sklearn-color-line);\n",
       "  margin: 0 0.4em 0.5em 0.4em;\n",
       "  box-sizing: border-box;\n",
       "  padding-bottom: 0.4em;\n",
       "  background-color: var(--sklearn-color-background);\n",
       "}\n",
       "\n",
       "#sk-container-id-16 div.sk-container {\n",
       "  /* jupyter's `normalize.less` sets `[hidden] { display: none; }`\n",
       "     but bootstrap.min.css set `[hidden] { display: none !important; }`\n",
       "     so we also need the `!important` here to be able to override the\n",
       "     default hidden behavior on the sphinx rendered scikit-learn.org.\n",
       "     See: https://github.com/scikit-learn/scikit-learn/issues/21755 */\n",
       "  display: inline-block !important;\n",
       "  position: relative;\n",
       "}\n",
       "\n",
       "#sk-container-id-16 div.sk-text-repr-fallback {\n",
       "  display: none;\n",
       "}\n",
       "\n",
       "div.sk-parallel-item,\n",
       "div.sk-serial,\n",
       "div.sk-item {\n",
       "  /* draw centered vertical line to link estimators */\n",
       "  background-image: linear-gradient(var(--sklearn-color-text-on-default-background), var(--sklearn-color-text-on-default-background));\n",
       "  background-size: 2px 100%;\n",
       "  background-repeat: no-repeat;\n",
       "  background-position: center center;\n",
       "}\n",
       "\n",
       "/* Parallel-specific style estimator block */\n",
       "\n",
       "#sk-container-id-16 div.sk-parallel-item::after {\n",
       "  content: \"\";\n",
       "  width: 100%;\n",
       "  border-bottom: 2px solid var(--sklearn-color-text-on-default-background);\n",
       "  flex-grow: 1;\n",
       "}\n",
       "\n",
       "#sk-container-id-16 div.sk-parallel {\n",
       "  display: flex;\n",
       "  align-items: stretch;\n",
       "  justify-content: center;\n",
       "  background-color: var(--sklearn-color-background);\n",
       "  position: relative;\n",
       "}\n",
       "\n",
       "#sk-container-id-16 div.sk-parallel-item {\n",
       "  display: flex;\n",
       "  flex-direction: column;\n",
       "}\n",
       "\n",
       "#sk-container-id-16 div.sk-parallel-item:first-child::after {\n",
       "  align-self: flex-end;\n",
       "  width: 50%;\n",
       "}\n",
       "\n",
       "#sk-container-id-16 div.sk-parallel-item:last-child::after {\n",
       "  align-self: flex-start;\n",
       "  width: 50%;\n",
       "}\n",
       "\n",
       "#sk-container-id-16 div.sk-parallel-item:only-child::after {\n",
       "  width: 0;\n",
       "}\n",
       "\n",
       "/* Serial-specific style estimator block */\n",
       "\n",
       "#sk-container-id-16 div.sk-serial {\n",
       "  display: flex;\n",
       "  flex-direction: column;\n",
       "  align-items: center;\n",
       "  background-color: var(--sklearn-color-background);\n",
       "  padding-right: 1em;\n",
       "  padding-left: 1em;\n",
       "}\n",
       "\n",
       "\n",
       "/* Toggleable style: style used for estimator/Pipeline/ColumnTransformer box that is\n",
       "clickable and can be expanded/collapsed.\n",
       "- Pipeline and ColumnTransformer use this feature and define the default style\n",
       "- Estimators will overwrite some part of the style using the `sk-estimator` class\n",
       "*/\n",
       "\n",
       "/* Pipeline and ColumnTransformer style (default) */\n",
       "\n",
       "#sk-container-id-16 div.sk-toggleable {\n",
       "  /* Default theme specific background. It is overwritten whether we have a\n",
       "  specific estimator or a Pipeline/ColumnTransformer */\n",
       "  background-color: var(--sklearn-color-background);\n",
       "}\n",
       "\n",
       "/* Toggleable label */\n",
       "#sk-container-id-16 label.sk-toggleable__label {\n",
       "  cursor: pointer;\n",
       "  display: flex;\n",
       "  width: 100%;\n",
       "  margin-bottom: 0;\n",
       "  padding: 0.5em;\n",
       "  box-sizing: border-box;\n",
       "  text-align: center;\n",
       "  align-items: start;\n",
       "  justify-content: space-between;\n",
       "  gap: 0.5em;\n",
       "}\n",
       "\n",
       "#sk-container-id-16 label.sk-toggleable__label .caption {\n",
       "  font-size: 0.6rem;\n",
       "  font-weight: lighter;\n",
       "  color: var(--sklearn-color-text-muted);\n",
       "}\n",
       "\n",
       "#sk-container-id-16 label.sk-toggleable__label-arrow:before {\n",
       "  /* Arrow on the left of the label */\n",
       "  content: \"▸\";\n",
       "  float: left;\n",
       "  margin-right: 0.25em;\n",
       "  color: var(--sklearn-color-icon);\n",
       "}\n",
       "\n",
       "#sk-container-id-16 label.sk-toggleable__label-arrow:hover:before {\n",
       "  color: var(--sklearn-color-text);\n",
       "}\n",
       "\n",
       "/* Toggleable content - dropdown */\n",
       "\n",
       "#sk-container-id-16 div.sk-toggleable__content {\n",
       "  max-height: 0;\n",
       "  max-width: 0;\n",
       "  overflow: hidden;\n",
       "  text-align: left;\n",
       "  /* unfitted */\n",
       "  background-color: var(--sklearn-color-unfitted-level-0);\n",
       "}\n",
       "\n",
       "#sk-container-id-16 div.sk-toggleable__content.fitted {\n",
       "  /* fitted */\n",
       "  background-color: var(--sklearn-color-fitted-level-0);\n",
       "}\n",
       "\n",
       "#sk-container-id-16 div.sk-toggleable__content pre {\n",
       "  margin: 0.2em;\n",
       "  border-radius: 0.25em;\n",
       "  color: var(--sklearn-color-text);\n",
       "  /* unfitted */\n",
       "  background-color: var(--sklearn-color-unfitted-level-0);\n",
       "}\n",
       "\n",
       "#sk-container-id-16 div.sk-toggleable__content.fitted pre {\n",
       "  /* unfitted */\n",
       "  background-color: var(--sklearn-color-fitted-level-0);\n",
       "}\n",
       "\n",
       "#sk-container-id-16 input.sk-toggleable__control:checked~div.sk-toggleable__content {\n",
       "  /* Expand drop-down */\n",
       "  max-height: 200px;\n",
       "  max-width: 100%;\n",
       "  overflow: auto;\n",
       "}\n",
       "\n",
       "#sk-container-id-16 input.sk-toggleable__control:checked~label.sk-toggleable__label-arrow:before {\n",
       "  content: \"▾\";\n",
       "}\n",
       "\n",
       "/* Pipeline/ColumnTransformer-specific style */\n",
       "\n",
       "#sk-container-id-16 div.sk-label input.sk-toggleable__control:checked~label.sk-toggleable__label {\n",
       "  color: var(--sklearn-color-text);\n",
       "  background-color: var(--sklearn-color-unfitted-level-2);\n",
       "}\n",
       "\n",
       "#sk-container-id-16 div.sk-label.fitted input.sk-toggleable__control:checked~label.sk-toggleable__label {\n",
       "  background-color: var(--sklearn-color-fitted-level-2);\n",
       "}\n",
       "\n",
       "/* Estimator-specific style */\n",
       "\n",
       "/* Colorize estimator box */\n",
       "#sk-container-id-16 div.sk-estimator input.sk-toggleable__control:checked~label.sk-toggleable__label {\n",
       "  /* unfitted */\n",
       "  background-color: var(--sklearn-color-unfitted-level-2);\n",
       "}\n",
       "\n",
       "#sk-container-id-16 div.sk-estimator.fitted input.sk-toggleable__control:checked~label.sk-toggleable__label {\n",
       "  /* fitted */\n",
       "  background-color: var(--sklearn-color-fitted-level-2);\n",
       "}\n",
       "\n",
       "#sk-container-id-16 div.sk-label label.sk-toggleable__label,\n",
       "#sk-container-id-16 div.sk-label label {\n",
       "  /* The background is the default theme color */\n",
       "  color: var(--sklearn-color-text-on-default-background);\n",
       "}\n",
       "\n",
       "/* On hover, darken the color of the background */\n",
       "#sk-container-id-16 div.sk-label:hover label.sk-toggleable__label {\n",
       "  color: var(--sklearn-color-text);\n",
       "  background-color: var(--sklearn-color-unfitted-level-2);\n",
       "}\n",
       "\n",
       "/* Label box, darken color on hover, fitted */\n",
       "#sk-container-id-16 div.sk-label.fitted:hover label.sk-toggleable__label.fitted {\n",
       "  color: var(--sklearn-color-text);\n",
       "  background-color: var(--sklearn-color-fitted-level-2);\n",
       "}\n",
       "\n",
       "/* Estimator label */\n",
       "\n",
       "#sk-container-id-16 div.sk-label label {\n",
       "  font-family: monospace;\n",
       "  font-weight: bold;\n",
       "  display: inline-block;\n",
       "  line-height: 1.2em;\n",
       "}\n",
       "\n",
       "#sk-container-id-16 div.sk-label-container {\n",
       "  text-align: center;\n",
       "}\n",
       "\n",
       "/* Estimator-specific */\n",
       "#sk-container-id-16 div.sk-estimator {\n",
       "  font-family: monospace;\n",
       "  border: 1px dotted var(--sklearn-color-border-box);\n",
       "  border-radius: 0.25em;\n",
       "  box-sizing: border-box;\n",
       "  margin-bottom: 0.5em;\n",
       "  /* unfitted */\n",
       "  background-color: var(--sklearn-color-unfitted-level-0);\n",
       "}\n",
       "\n",
       "#sk-container-id-16 div.sk-estimator.fitted {\n",
       "  /* fitted */\n",
       "  background-color: var(--sklearn-color-fitted-level-0);\n",
       "}\n",
       "\n",
       "/* on hover */\n",
       "#sk-container-id-16 div.sk-estimator:hover {\n",
       "  /* unfitted */\n",
       "  background-color: var(--sklearn-color-unfitted-level-2);\n",
       "}\n",
       "\n",
       "#sk-container-id-16 div.sk-estimator.fitted:hover {\n",
       "  /* fitted */\n",
       "  background-color: var(--sklearn-color-fitted-level-2);\n",
       "}\n",
       "\n",
       "/* Specification for estimator info (e.g. \"i\" and \"?\") */\n",
       "\n",
       "/* Common style for \"i\" and \"?\" */\n",
       "\n",
       ".sk-estimator-doc-link,\n",
       "a:link.sk-estimator-doc-link,\n",
       "a:visited.sk-estimator-doc-link {\n",
       "  float: right;\n",
       "  font-size: smaller;\n",
       "  line-height: 1em;\n",
       "  font-family: monospace;\n",
       "  background-color: var(--sklearn-color-background);\n",
       "  border-radius: 1em;\n",
       "  height: 1em;\n",
       "  width: 1em;\n",
       "  text-decoration: none !important;\n",
       "  margin-left: 0.5em;\n",
       "  text-align: center;\n",
       "  /* unfitted */\n",
       "  border: var(--sklearn-color-unfitted-level-1) 1pt solid;\n",
       "  color: var(--sklearn-color-unfitted-level-1);\n",
       "}\n",
       "\n",
       ".sk-estimator-doc-link.fitted,\n",
       "a:link.sk-estimator-doc-link.fitted,\n",
       "a:visited.sk-estimator-doc-link.fitted {\n",
       "  /* fitted */\n",
       "  border: var(--sklearn-color-fitted-level-1) 1pt solid;\n",
       "  color: var(--sklearn-color-fitted-level-1);\n",
       "}\n",
       "\n",
       "/* On hover */\n",
       "div.sk-estimator:hover .sk-estimator-doc-link:hover,\n",
       ".sk-estimator-doc-link:hover,\n",
       "div.sk-label-container:hover .sk-estimator-doc-link:hover,\n",
       ".sk-estimator-doc-link:hover {\n",
       "  /* unfitted */\n",
       "  background-color: var(--sklearn-color-unfitted-level-3);\n",
       "  color: var(--sklearn-color-background);\n",
       "  text-decoration: none;\n",
       "}\n",
       "\n",
       "div.sk-estimator.fitted:hover .sk-estimator-doc-link.fitted:hover,\n",
       ".sk-estimator-doc-link.fitted:hover,\n",
       "div.sk-label-container:hover .sk-estimator-doc-link.fitted:hover,\n",
       ".sk-estimator-doc-link.fitted:hover {\n",
       "  /* fitted */\n",
       "  background-color: var(--sklearn-color-fitted-level-3);\n",
       "  color: var(--sklearn-color-background);\n",
       "  text-decoration: none;\n",
       "}\n",
       "\n",
       "/* Span, style for the box shown on hovering the info icon */\n",
       ".sk-estimator-doc-link span {\n",
       "  display: none;\n",
       "  z-index: 9999;\n",
       "  position: relative;\n",
       "  font-weight: normal;\n",
       "  right: .2ex;\n",
       "  padding: .5ex;\n",
       "  margin: .5ex;\n",
       "  width: min-content;\n",
       "  min-width: 20ex;\n",
       "  max-width: 50ex;\n",
       "  color: var(--sklearn-color-text);\n",
       "  box-shadow: 2pt 2pt 4pt #999;\n",
       "  /* unfitted */\n",
       "  background: var(--sklearn-color-unfitted-level-0);\n",
       "  border: .5pt solid var(--sklearn-color-unfitted-level-3);\n",
       "}\n",
       "\n",
       ".sk-estimator-doc-link.fitted span {\n",
       "  /* fitted */\n",
       "  background: var(--sklearn-color-fitted-level-0);\n",
       "  border: var(--sklearn-color-fitted-level-3);\n",
       "}\n",
       "\n",
       ".sk-estimator-doc-link:hover span {\n",
       "  display: block;\n",
       "}\n",
       "\n",
       "/* \"?\"-specific style due to the `<a>` HTML tag */\n",
       "\n",
       "#sk-container-id-16 a.estimator_doc_link {\n",
       "  float: right;\n",
       "  font-size: 1rem;\n",
       "  line-height: 1em;\n",
       "  font-family: monospace;\n",
       "  background-color: var(--sklearn-color-background);\n",
       "  border-radius: 1rem;\n",
       "  height: 1rem;\n",
       "  width: 1rem;\n",
       "  text-decoration: none;\n",
       "  /* unfitted */\n",
       "  color: var(--sklearn-color-unfitted-level-1);\n",
       "  border: var(--sklearn-color-unfitted-level-1) 1pt solid;\n",
       "}\n",
       "\n",
       "#sk-container-id-16 a.estimator_doc_link.fitted {\n",
       "  /* fitted */\n",
       "  border: var(--sklearn-color-fitted-level-1) 1pt solid;\n",
       "  color: var(--sklearn-color-fitted-level-1);\n",
       "}\n",
       "\n",
       "/* On hover */\n",
       "#sk-container-id-16 a.estimator_doc_link:hover {\n",
       "  /* unfitted */\n",
       "  background-color: var(--sklearn-color-unfitted-level-3);\n",
       "  color: var(--sklearn-color-background);\n",
       "  text-decoration: none;\n",
       "}\n",
       "\n",
       "#sk-container-id-16 a.estimator_doc_link.fitted:hover {\n",
       "  /* fitted */\n",
       "  background-color: var(--sklearn-color-fitted-level-3);\n",
       "}\n",
       "</style><div id=\"sk-container-id-16\" class=\"sk-top-container\"><div class=\"sk-text-repr-fallback\"><pre>Pipeline(steps=[(&#x27;ct&#x27;,\n",
       "                 ColumnTransformer(transformers=[(&#x27;imputer&#x27;,\n",
       "                                                  SimpleImputer(strategy=&#x27;most_frequent&#x27;),\n",
       "                                                  [&#x27;is_child&#x27;]),\n",
       "                                                 (&#x27;ohe&#x27;, OneHotEncoder(),\n",
       "                                                  [&#x27;Sex&#x27;])])),\n",
       "                (&#x27;logreg&#x27;, LogisticRegression())])</pre><b>In a Jupyter environment, please rerun this cell to show the HTML representation or trust the notebook. <br />On GitHub, the HTML representation is unable to render, please try loading this page with nbviewer.org.</b></div><div class=\"sk-container\" hidden><div class=\"sk-item sk-dashed-wrapped\"><div class=\"sk-label-container\"><div class=\"sk-label fitted sk-toggleable\"><input class=\"sk-toggleable__control sk-hidden--visually\" id=\"sk-estimator-id-106\" type=\"checkbox\" ><label for=\"sk-estimator-id-106\" class=\"sk-toggleable__label fitted sk-toggleable__label-arrow\"><div><div>Pipeline</div></div><div><a class=\"sk-estimator-doc-link fitted\" rel=\"noreferrer\" target=\"_blank\" href=\"https://scikit-learn.org/1.6/modules/generated/sklearn.pipeline.Pipeline.html\">?<span>Documentation for Pipeline</span></a><span class=\"sk-estimator-doc-link fitted\">i<span>Fitted</span></span></div></label><div class=\"sk-toggleable__content fitted\"><pre>Pipeline(steps=[(&#x27;ct&#x27;,\n",
       "                 ColumnTransformer(transformers=[(&#x27;imputer&#x27;,\n",
       "                                                  SimpleImputer(strategy=&#x27;most_frequent&#x27;),\n",
       "                                                  [&#x27;is_child&#x27;]),\n",
       "                                                 (&#x27;ohe&#x27;, OneHotEncoder(),\n",
       "                                                  [&#x27;Sex&#x27;])])),\n",
       "                (&#x27;logreg&#x27;, LogisticRegression())])</pre></div> </div></div><div class=\"sk-serial\"><div class=\"sk-item sk-dashed-wrapped\"><div class=\"sk-label-container\"><div class=\"sk-label fitted sk-toggleable\"><input class=\"sk-toggleable__control sk-hidden--visually\" id=\"sk-estimator-id-107\" type=\"checkbox\" ><label for=\"sk-estimator-id-107\" class=\"sk-toggleable__label fitted sk-toggleable__label-arrow\"><div><div>ct: ColumnTransformer</div></div><div><a class=\"sk-estimator-doc-link fitted\" rel=\"noreferrer\" target=\"_blank\" href=\"https://scikit-learn.org/1.6/modules/generated/sklearn.compose.ColumnTransformer.html\">?<span>Documentation for ct: ColumnTransformer</span></a></div></label><div class=\"sk-toggleable__content fitted\"><pre>ColumnTransformer(transformers=[(&#x27;imputer&#x27;,\n",
       "                                 SimpleImputer(strategy=&#x27;most_frequent&#x27;),\n",
       "                                 [&#x27;is_child&#x27;]),\n",
       "                                (&#x27;ohe&#x27;, OneHotEncoder(), [&#x27;Sex&#x27;])])</pre></div> </div></div><div class=\"sk-parallel\"><div class=\"sk-parallel-item\"><div class=\"sk-item\"><div class=\"sk-label-container\"><div class=\"sk-label fitted sk-toggleable\"><input class=\"sk-toggleable__control sk-hidden--visually\" id=\"sk-estimator-id-108\" type=\"checkbox\" ><label for=\"sk-estimator-id-108\" class=\"sk-toggleable__label fitted sk-toggleable__label-arrow\"><div><div>imputer</div></div></label><div class=\"sk-toggleable__content fitted\"><pre>[&#x27;is_child&#x27;]</pre></div> </div></div><div class=\"sk-serial\"><div class=\"sk-item\"><div class=\"sk-estimator fitted sk-toggleable\"><input class=\"sk-toggleable__control sk-hidden--visually\" id=\"sk-estimator-id-109\" type=\"checkbox\" ><label for=\"sk-estimator-id-109\" class=\"sk-toggleable__label fitted sk-toggleable__label-arrow\"><div><div>SimpleImputer</div></div><div><a class=\"sk-estimator-doc-link fitted\" rel=\"noreferrer\" target=\"_blank\" href=\"https://scikit-learn.org/1.6/modules/generated/sklearn.impute.SimpleImputer.html\">?<span>Documentation for SimpleImputer</span></a></div></label><div class=\"sk-toggleable__content fitted\"><pre>SimpleImputer(strategy=&#x27;most_frequent&#x27;)</pre></div> </div></div></div></div></div><div class=\"sk-parallel-item\"><div class=\"sk-item\"><div class=\"sk-label-container\"><div class=\"sk-label fitted sk-toggleable\"><input class=\"sk-toggleable__control sk-hidden--visually\" id=\"sk-estimator-id-110\" type=\"checkbox\" ><label for=\"sk-estimator-id-110\" class=\"sk-toggleable__label fitted sk-toggleable__label-arrow\"><div><div>ohe</div></div></label><div class=\"sk-toggleable__content fitted\"><pre>[&#x27;Sex&#x27;]</pre></div> </div></div><div class=\"sk-serial\"><div class=\"sk-item\"><div class=\"sk-estimator fitted sk-toggleable\"><input class=\"sk-toggleable__control sk-hidden--visually\" id=\"sk-estimator-id-111\" type=\"checkbox\" ><label for=\"sk-estimator-id-111\" class=\"sk-toggleable__label fitted sk-toggleable__label-arrow\"><div><div>OneHotEncoder</div></div><div><a class=\"sk-estimator-doc-link fitted\" rel=\"noreferrer\" target=\"_blank\" href=\"https://scikit-learn.org/1.6/modules/generated/sklearn.preprocessing.OneHotEncoder.html\">?<span>Documentation for OneHotEncoder</span></a></div></label><div class=\"sk-toggleable__content fitted\"><pre>OneHotEncoder()</pre></div> </div></div></div></div></div></div></div><div class=\"sk-item\"><div class=\"sk-estimator fitted sk-toggleable\"><input class=\"sk-toggleable__control sk-hidden--visually\" id=\"sk-estimator-id-112\" type=\"checkbox\" ><label for=\"sk-estimator-id-112\" class=\"sk-toggleable__label fitted sk-toggleable__label-arrow\"><div><div>LogisticRegression</div></div><div><a class=\"sk-estimator-doc-link fitted\" rel=\"noreferrer\" target=\"_blank\" href=\"https://scikit-learn.org/1.6/modules/generated/sklearn.linear_model.LogisticRegression.html\">?<span>Documentation for LogisticRegression</span></a></div></label><div class=\"sk-toggleable__content fitted\"><pre>LogisticRegression()</pre></div> </div></div></div></div></div></div>"
      ],
      "text/plain": [
       "Pipeline(steps=[('ct',\n",
       "                 ColumnTransformer(transformers=[('imputer',\n",
       "                                                  SimpleImputer(strategy='most_frequent'),\n",
       "                                                  ['is_child']),\n",
       "                                                 ('ohe', OneHotEncoder(),\n",
       "                                                  ['Sex'])])),\n",
       "                ('logreg', LogisticRegression())])"
      ]
     },
     "execution_count": 334,
     "metadata": {},
     "output_type": "execute_result"
    }
   ],
   "source": [
    "predictors = [\"Sex\", \"is_child\"]\n",
    "target = \"Survived\"\n",
    "\n",
    "X = titanic[predictors]\n",
    "y = titanic[target]\n",
    "\n",
    "X_train, X_test, y_train, y_test = train_test_split(\n",
    "    X, \n",
    "    y,\n",
    "    test_size = 0.3,\n",
    "    random_state = 42,\n",
    "    stratify = y\n",
    ")\n",
    "ct = ColumnTransformer(\n",
    "    transformers=[\n",
    "        (\"imputer\", SimpleImputer(strategy=\"most_frequent\"), [\"is_child\"]),\n",
    "        (\"ohe\", OneHotEncoder(), [\"Sex\"]),\n",
    "    ]\n",
    ")\n",
    "\n",
    "steps = [\n",
    "    (\"ct\", ct),\n",
    "    (\"logreg\", LogisticRegression())\n",
    "]\n",
    "\n",
    "pipeline = Pipeline(steps)\n",
    "pipeline.fit(X_train, y_train)\n",
    "\n"
   ]
  },
  {
   "cell_type": "markdown",
   "id": "7476481f",
   "metadata": {},
   "source": [
    "** If you've reached this point, let your instructors know so that they can check in with you. **"
   ]
  },
  {
   "cell_type": "markdown",
   "id": "f8254550",
   "metadata": {},
   "source": [
    "Stretch Goals\n",
    "\n",
    "1. Try adding additional features and see how this affects your model. Think carefully about if you want passenger class to be treated as a numeric or a categorical variable."
   ]
  },
  {
   "cell_type": "code",
   "execution_count": 335,
   "id": "8ac83d82",
   "metadata": {},
   "outputs": [
    {
     "data": {
      "text/html": [
       "<table id=\"itables_571027e5_d639_48f4_a362_81edce3fda11\" class=\"display nowrap\" data-quarto-disable-processing=\"true\" style=\"table-layout:auto;width:auto;margin:auto;caption-side:bottom\">\n",
       "<thead>\n",
       "    <tr style=\"text-align: right;\">\n",
       "      \n",
       "      <th>PassengerId</th>\n",
       "      <th>Survived</th>\n",
       "      <th>Pclass</th>\n",
       "      <th>Name</th>\n",
       "      <th>Sex</th>\n",
       "      <th>Age</th>\n",
       "      <th>SibSp</th>\n",
       "      <th>Parch</th>\n",
       "      <th>Ticket</th>\n",
       "      <th>Fare</th>\n",
       "      <th>Cabin</th>\n",
       "      <th>Embarked</th>\n",
       "      <th>is_child</th>\n",
       "    </tr>\n",
       "  </thead><tbody><tr>\n",
       "<td style=\"vertical-align:middle; text-align:left\">\n",
       "<a href=https://mwouts.github.io/itables/><svg class=\"main-svg\" xmlns=\"http://www.w3.org/2000/svg\" xmlns:xlink=\"http://www.w3.org/1999/xlink\"\n",
       "width=\"64\" viewBox=\"0 0 500 400\" style=\"font-family: 'Droid Sans', sans-serif;\">\n",
       "    <g style=\"fill:#d9d7fc\">\n",
       "        <path d=\"M100,400H500V357H100Z\" />\n",
       "        <path d=\"M100,300H400V257H100Z\" />\n",
       "        <path d=\"M0,200H400V157H0Z\" />\n",
       "        <path d=\"M100,100H500V57H100Z\" />\n",
       "        <path d=\"M100,350H500V307H100Z\" />\n",
       "        <path d=\"M100,250H400V207H100Z\" />\n",
       "        <path d=\"M0,150H400V107H0Z\" />\n",
       "        <path d=\"M100,50H500V7H100Z\" />\n",
       "    </g>\n",
       "    <g style=\"fill:#1a1366;stroke:#1a1366;\">\n",
       "   <rect x=\"100\" y=\"7\" width=\"400\" height=\"43\">\n",
       "    <animate\n",
       "      attributeName=\"width\"\n",
       "      values=\"0;400;0\"\n",
       "      dur=\"5s\"\n",
       "      repeatCount=\"indefinite\" />\n",
       "      <animate\n",
       "      attributeName=\"x\"\n",
       "      values=\"100;100;500\"\n",
       "      dur=\"5s\"\n",
       "      repeatCount=\"indefinite\" />\n",
       "  </rect>\n",
       "        <rect x=\"0\" y=\"107\" width=\"400\" height=\"43\">\n",
       "    <animate\n",
       "      attributeName=\"width\"\n",
       "      values=\"0;400;0\"\n",
       "      dur=\"3.5s\"\n",
       "      repeatCount=\"indefinite\" />\n",
       "    <animate\n",
       "      attributeName=\"x\"\n",
       "      values=\"0;0;400\"\n",
       "      dur=\"3.5s\"\n",
       "      repeatCount=\"indefinite\" />\n",
       "  </rect>\n",
       "        <rect x=\"100\" y=\"207\" width=\"300\" height=\"43\">\n",
       "    <animate\n",
       "      attributeName=\"width\"\n",
       "      values=\"0;300;0\"\n",
       "      dur=\"3s\"\n",
       "      repeatCount=\"indefinite\" />\n",
       "    <animate\n",
       "      attributeName=\"x\"\n",
       "      values=\"100;100;400\"\n",
       "      dur=\"3s\"\n",
       "      repeatCount=\"indefinite\" />\n",
       "  </rect>\n",
       "        <rect x=\"100\" y=\"307\" width=\"400\" height=\"43\">\n",
       "    <animate\n",
       "      attributeName=\"width\"\n",
       "      values=\"0;400;0\"\n",
       "      dur=\"4s\"\n",
       "      repeatCount=\"indefinite\" />\n",
       "      <animate\n",
       "      attributeName=\"x\"\n",
       "      values=\"100;100;500\"\n",
       "      dur=\"4s\"\n",
       "      repeatCount=\"indefinite\" />\n",
       "  </rect>\n",
       "        <g style=\"fill:transparent;stroke-width:8; stroke-linejoin:round\" rx=\"5\">\n",
       "            <g transform=\"translate(45 50) rotate(-45)\">\n",
       "                <circle r=\"33\" cx=\"0\" cy=\"0\" />\n",
       "                <rect x=\"-8\" y=\"32\" width=\"16\" height=\"30\" />\n",
       "            </g>\n",
       "\n",
       "            <g transform=\"translate(450 152)\">\n",
       "                <polyline points=\"-15,-20 -35,-20 -35,40 25,40 25,20\" />\n",
       "                <rect x=\"-15\" y=\"-40\" width=\"60\" height=\"60\" />\n",
       "            </g>\n",
       "\n",
       "            <g transform=\"translate(50 352)\">\n",
       "                <polygon points=\"-35,-5 0,-40 35,-5\" />\n",
       "                <polygon points=\"-35,10 0,45 35,10\" />\n",
       "            </g>\n",
       "\n",
       "            <g transform=\"translate(75 250)\">\n",
       "                <polyline points=\"-30,30 -60,0 -30,-30\" />\n",
       "                <polyline points=\"0,30 -30,0 0,-30\" />\n",
       "            </g>\n",
       "\n",
       "            <g transform=\"translate(425 250) rotate(180)\">\n",
       "                <polyline points=\"-30,30 -60,0 -30,-30\" />\n",
       "                <polyline points=\"0,30 -30,0 0,-30\" />\n",
       "            </g>\n",
       "        </g>\n",
       "    </g>\n",
       "</svg>\n",
       "</a>\n",
       "Loading ITables v2.3.0 from the internet...\n",
       "(need <a href=https://mwouts.github.io/itables/troubleshooting.html>help</a>?)</td>\n",
       "</tr></tbody>\n",
       "</table>\n",
       "<link href=\"https://www.unpkg.com/dt_for_itables@2.2.0/dt_bundle.css\" rel=\"stylesheet\">\n",
       "<script type=\"module\">\n",
       "    import {DataTable, jQuery as $} from 'https://www.unpkg.com/dt_for_itables@2.2.0/dt_bundle.js';\n",
       "\n",
       "    document.querySelectorAll(\"#itables_571027e5_d639_48f4_a362_81edce3fda11:not(.dataTable)\").forEach(table => {\n",
       "        if (!(table instanceof HTMLTableElement))\n",
       "            return;\n",
       "\n",
       "        // Define the table data\n",
       "        const data = [[1, 0, 3, \"Braund, Mr. Owen Harris\", \"male\", 22.0, 1, 0, \"A/5 21171\", 7.25, \"NaN\", \"S\", 0], [2, 1, 1, \"Cumings, Mrs. John Bradley (Florence Briggs Thayer)\", \"female\", 38.0, 1, 0, \"PC 17599\", 71.2833, \"C85\", \"C\", 0], [3, 1, 3, \"Heikkinen, Miss. Laina\", \"female\", 26.0, 0, 0, \"STON/O2. 3101282\", 7.925, \"NaN\", \"S\", 0], [4, 1, 1, \"Futrelle, Mrs. Jacques Heath (Lily May Peel)\", \"female\", 35.0, 1, 0, \"113803\", 53.1, \"C123\", \"S\", 0], [5, 0, 3, \"Allen, Mr. William Henry\", \"male\", 35.0, 0, 0, \"373450\", 8.05, \"NaN\", \"S\", 0], [6, 0, 3, \"Moran, Mr. James\", \"male\", NaN, 0, 0, \"330877\", 8.4583, \"NaN\", \"Q\", 0], [7, 0, 1, \"McCarthy, Mr. Timothy J\", \"male\", 54.0, 0, 0, \"17463\", 51.8625, \"E46\", \"S\", 0], [8, 0, 3, \"Palsson, Master. Gosta Leonard\", \"male\", 2.0, 3, 1, \"349909\", 21.075, \"NaN\", \"S\", 1], [9, 1, 3, \"Johnson, Mrs. Oscar W (Elisabeth Vilhelmina Berg)\", \"female\", 27.0, 0, 2, \"347742\", 11.1333, \"NaN\", \"S\", 0], [10, 1, 2, \"Nasser, Mrs. Nicholas (Adele Achem)\", \"female\", 14.0, 1, 0, \"237736\", 30.0708, \"NaN\", \"C\", 1], [11, 1, 3, \"Sandstrom, Miss. Marguerite Rut\", \"female\", 4.0, 1, 1, \"PP 9549\", 16.7, \"G6\", \"S\", 1], [12, 1, 1, \"Bonnell, Miss. Elizabeth\", \"female\", 58.0, 0, 0, \"113783\", 26.55, \"C103\", \"S\", 0], [13, 0, 3, \"Saundercock, Mr. William Henry\", \"male\", 20.0, 0, 0, \"A/5. 2151\", 8.05, \"NaN\", \"S\", 0], [14, 0, 3, \"Andersson, Mr. Anders Johan\", \"male\", 39.0, 1, 5, \"347082\", 31.275, \"NaN\", \"S\", 0], [15, 0, 3, \"Vestrom, Miss. Hulda Amanda Adolfina\", \"female\", 14.0, 0, 0, \"350406\", 7.8542, \"NaN\", \"S\", 1], [16, 1, 2, \"Hewlett, Mrs. (Mary D Kingcome) \", \"female\", 55.0, 0, 0, \"248706\", 16.0, \"NaN\", \"S\", 0], [17, 0, 3, \"Rice, Master. Eugene\", \"male\", 2.0, 4, 1, \"382652\", 29.125, \"NaN\", \"Q\", 1], [18, 1, 2, \"Williams, Mr. Charles Eugene\", \"male\", NaN, 0, 0, \"244373\", 13.0, \"NaN\", \"S\", 0], [19, 0, 3, \"Vander Planke, Mrs. Julius (Emelia Maria Vandemoortele)\", \"female\", 31.0, 1, 0, \"345763\", 18.0, \"NaN\", \"S\", 0], [20, 1, 3, \"Masselmani, Mrs. Fatima\", \"female\", NaN, 0, 0, \"2649\", 7.225, \"NaN\", \"C\", 0], [21, 0, 2, \"Fynney, Mr. Joseph J\", \"male\", 35.0, 0, 0, \"239865\", 26.0, \"NaN\", \"S\", 0], [22, 1, 2, \"Beesley, Mr. Lawrence\", \"male\", 34.0, 0, 0, \"248698\", 13.0, \"D56\", \"S\", 0], [23, 1, 3, \"McGowan, Miss. Anna \\\"Annie\\\"\", \"female\", 15.0, 0, 0, \"330923\", 8.0292, \"NaN\", \"Q\", 1], [24, 1, 1, \"Sloper, Mr. William Thompson\", \"male\", 28.0, 0, 0, \"113788\", 35.5, \"A6\", \"S\", 0], [25, 0, 3, \"Palsson, Miss. Torborg Danira\", \"female\", 8.0, 3, 1, \"349909\", 21.075, \"NaN\", \"S\", 1], [26, 1, 3, \"Asplund, Mrs. Carl Oscar (Selma Augusta Emilia Johansson)\", \"female\", 38.0, 1, 5, \"347077\", 31.3875, \"NaN\", \"S\", 0], [27, 0, 3, \"Emir, Mr. Farred Chehab\", \"male\", NaN, 0, 0, \"2631\", 7.225, \"NaN\", \"C\", 0], [28, 0, 1, \"Fortune, Mr. Charles Alexander\", \"male\", 19.0, 3, 2, \"19950\", 263.0, \"C23 C25 C27\", \"S\", 0], [29, 1, 3, \"O'Dwyer, Miss. Ellen \\\"Nellie\\\"\", \"female\", NaN, 0, 0, \"330959\", 7.8792, \"NaN\", \"Q\", 0], [30, 0, 3, \"Todoroff, Mr. Lalio\", \"male\", NaN, 0, 0, \"349216\", 7.8958, \"NaN\", \"S\", 0], [31, 0, 1, \"Uruchurtu, Don. Manuel E\", \"male\", 40.0, 0, 0, \"PC 17601\", 27.7208, \"NaN\", \"C\", 0], [32, 1, 1, \"Spencer, Mrs. William Augustus (Marie Eugenie)\", \"female\", NaN, 1, 0, \"PC 17569\", 146.5208, \"B78\", \"C\", 0], [33, 1, 3, \"Glynn, Miss. Mary Agatha\", \"female\", NaN, 0, 0, \"335677\", 7.75, \"NaN\", \"Q\", 0], [34, 0, 2, \"Wheadon, Mr. Edward H\", \"male\", 66.0, 0, 0, \"C.A. 24579\", 10.5, \"NaN\", \"S\", 0], [35, 0, 1, \"Meyer, Mr. Edgar Joseph\", \"male\", 28.0, 1, 0, \"PC 17604\", 82.1708, \"NaN\", \"C\", 0], [36, 0, 1, \"Holverson, Mr. Alexander Oskar\", \"male\", 42.0, 1, 0, \"113789\", 52.0, \"NaN\", \"S\", 0], [37, 1, 3, \"Mamee, Mr. Hanna\", \"male\", NaN, 0, 0, \"2677\", 7.2292, \"NaN\", \"C\", 0], [38, 0, 3, \"Cann, Mr. Ernest Charles\", \"male\", 21.0, 0, 0, \"A./5. 2152\", 8.05, \"NaN\", \"S\", 0], [39, 0, 3, \"Vander Planke, Miss. Augusta Maria\", \"female\", 18.0, 2, 0, \"345764\", 18.0, \"NaN\", \"S\", 0], [40, 1, 3, \"Nicola-Yarred, Miss. Jamila\", \"female\", 14.0, 1, 0, \"2651\", 11.2417, \"NaN\", \"C\", 1], [41, 0, 3, \"Ahlin, Mrs. Johan (Johanna Persdotter Larsson)\", \"female\", 40.0, 1, 0, \"7546\", 9.475, \"NaN\", \"S\", 0], [42, 0, 2, \"Turpin, Mrs. William John Robert (Dorothy Ann Wonnacott)\", \"female\", 27.0, 1, 0, \"11668\", 21.0, \"NaN\", \"S\", 0], [43, 0, 3, \"Kraeff, Mr. Theodor\", \"male\", NaN, 0, 0, \"349253\", 7.8958, \"NaN\", \"C\", 0], [44, 1, 2, \"Laroche, Miss. Simonne Marie Anne Andree\", \"female\", 3.0, 1, 2, \"SC/Paris 2123\", 41.5792, \"NaN\", \"C\", 1], [45, 1, 3, \"Devaney, Miss. Margaret Delia\", \"female\", 19.0, 0, 0, \"330958\", 7.8792, \"NaN\", \"Q\", 0], [46, 0, 3, \"Rogers, Mr. William John\", \"male\", NaN, 0, 0, \"S.C./A.4. 23567\", 8.05, \"NaN\", \"S\", 0], [47, 0, 3, \"Lennon, Mr. Denis\", \"male\", NaN, 1, 0, \"370371\", 15.5, \"NaN\", \"Q\", 0], [48, 1, 3, \"O'Driscoll, Miss. Bridget\", \"female\", NaN, 0, 0, \"14311\", 7.75, \"NaN\", \"Q\", 0], [49, 0, 3, \"Samaan, Mr. Youssef\", \"male\", NaN, 2, 0, \"2662\", 21.6792, \"NaN\", \"C\", 0], [50, 0, 3, \"Arnold-Franchi, Mrs. Josef (Josefine Franchi)\", \"female\", 18.0, 1, 0, \"349237\", 17.8, \"NaN\", \"S\", 0], [51, 0, 3, \"Panula, Master. Juha Niilo\", \"male\", 7.0, 4, 1, \"3101295\", 39.6875, \"NaN\", \"S\", 1], [52, 0, 3, \"Nosworthy, Mr. Richard Cater\", \"male\", 21.0, 0, 0, \"A/4. 39886\", 7.8, \"NaN\", \"S\", 0], [53, 1, 1, \"Harper, Mrs. Henry Sleeper (Myna Haxtun)\", \"female\", 49.0, 1, 0, \"PC 17572\", 76.7292, \"D33\", \"C\", 0], [54, 1, 2, \"Faunthorpe, Mrs. Lizzie (Elizabeth Anne Wilkinson)\", \"female\", 29.0, 1, 0, \"2926\", 26.0, \"NaN\", \"S\", 0], [55, 0, 1, \"Ostby, Mr. Engelhart Cornelius\", \"male\", 65.0, 0, 1, \"113509\", 61.9792, \"B30\", \"C\", 0], [56, 1, 1, \"Woolner, Mr. Hugh\", \"male\", NaN, 0, 0, \"19947\", 35.5, \"C52\", \"S\", 0], [57, 1, 2, \"Rugg, Miss. Emily\", \"female\", 21.0, 0, 0, \"C.A. 31026\", 10.5, \"NaN\", \"S\", 0], [58, 0, 3, \"Novel, Mr. Mansouer\", \"male\", 28.5, 0, 0, \"2697\", 7.2292, \"NaN\", \"C\", 0], [59, 1, 2, \"West, Miss. Constance Mirium\", \"female\", 5.0, 1, 2, \"C.A. 34651\", 27.75, \"NaN\", \"S\", 1], [60, 0, 3, \"Goodwin, Master. William Frederick\", \"male\", 11.0, 5, 2, \"CA 2144\", 46.9, \"NaN\", \"S\", 1], [61, 0, 3, \"Sirayanian, Mr. Orsen\", \"male\", 22.0, 0, 0, \"2669\", 7.2292, \"NaN\", \"C\", 0], [62, 1, 1, \"Icard, Miss. Amelie\", \"female\", 38.0, 0, 0, \"113572\", 80.0, \"B28\", \"NaN\", 0], [63, 0, 1, \"Harris, Mr. Henry Birkhardt\", \"male\", 45.0, 1, 0, \"36973\", 83.475, \"C83\", \"S\", 0], [64, 0, 3, \"Skoog, Master. Harald\", \"male\", 4.0, 3, 2, \"347088\", 27.9, \"NaN\", \"S\", 1], [65, 0, 1, \"Stewart, Mr. Albert A\", \"male\", NaN, 0, 0, \"PC 17605\", 27.7208, \"NaN\", \"C\", 0], [66, 1, 3, \"Moubarek, Master. Gerios\", \"male\", NaN, 1, 1, \"2661\", 15.2458, \"NaN\", \"C\", 0], [67, 1, 2, \"Nye, Mrs. (Elizabeth Ramell)\", \"female\", 29.0, 0, 0, \"C.A. 29395\", 10.5, \"F33\", \"S\", 0], [68, 0, 3, \"Crease, Mr. Ernest James\", \"male\", 19.0, 0, 0, \"S.P. 3464\", 8.1583, \"NaN\", \"S\", 0], [69, 1, 3, \"Andersson, Miss. Erna Alexandra\", \"female\", 17.0, 4, 2, \"3101281\", 7.925, \"NaN\", \"S\", 1], [70, 0, 3, \"Kink, Mr. Vincenz\", \"male\", 26.0, 2, 0, \"315151\", 8.6625, \"NaN\", \"S\", 0], [71, 0, 2, \"Jenkin, Mr. Stephen Curnow\", \"male\", 32.0, 0, 0, \"C.A. 33111\", 10.5, \"NaN\", \"S\", 0], [72, 0, 3, \"Goodwin, Miss. Lillian Amy\", \"female\", 16.0, 5, 2, \"CA 2144\", 46.9, \"NaN\", \"S\", 1], [73, 0, 2, \"Hood, Mr. Ambrose Jr\", \"male\", 21.0, 0, 0, \"S.O.C. 14879\", 73.5, \"NaN\", \"S\", 0], [74, 0, 3, \"Chronopoulos, Mr. Apostolos\", \"male\", 26.0, 1, 0, \"2680\", 14.4542, \"NaN\", \"C\", 0], [75, 1, 3, \"Bing, Mr. Lee\", \"male\", 32.0, 0, 0, \"1601\", 56.4958, \"NaN\", \"S\", 0], [76, 0, 3, \"Moen, Mr. Sigurd Hansen\", \"male\", 25.0, 0, 0, \"348123\", 7.65, \"F G73\", \"S\", 0], [77, 0, 3, \"Staneff, Mr. Ivan\", \"male\", NaN, 0, 0, \"349208\", 7.8958, \"NaN\", \"S\", 0], [78, 0, 3, \"Moutal, Mr. Rahamin Haim\", \"male\", NaN, 0, 0, \"374746\", 8.05, \"NaN\", \"S\", 0], [79, 1, 2, \"Caldwell, Master. Alden Gates\", \"male\", 0.83, 0, 2, \"248738\", 29.0, \"NaN\", \"S\", 1], [80, 1, 3, \"Dowdell, Miss. Elizabeth\", \"female\", 30.0, 0, 0, \"364516\", 12.475, \"NaN\", \"S\", 0], [81, 0, 3, \"Waelens, Mr. Achille\", \"male\", 22.0, 0, 0, \"345767\", 9.0, \"NaN\", \"S\", 0], [82, 1, 3, \"Sheerlinck, Mr. Jan Baptist\", \"male\", 29.0, 0, 0, \"345779\", 9.5, \"NaN\", \"S\", 0], [83, 1, 3, \"McDermott, Miss. Brigdet Delia\", \"female\", NaN, 0, 0, \"330932\", 7.7875, \"NaN\", \"Q\", 0], [84, 0, 1, \"Carrau, Mr. Francisco M\", \"male\", 28.0, 0, 0, \"113059\", 47.1, \"NaN\", \"S\", 0], [85, 1, 2, \"Ilett, Miss. Bertha\", \"female\", 17.0, 0, 0, \"SO/C 14885\", 10.5, \"NaN\", \"S\", 1], [86, 1, 3, \"Backstrom, Mrs. Karl Alfred (Maria Mathilda Gustafsson)\", \"female\", 33.0, 3, 0, \"3101278\", 15.85, \"NaN\", \"S\", 0], [87, 0, 3, \"Ford, Mr. William Neal\", \"male\", 16.0, 1, 3, \"W./C. 6608\", 34.375, \"NaN\", \"S\", 1], [88, 0, 3, \"Slocovski, Mr. Selman Francis\", \"male\", NaN, 0, 0, \"SOTON/OQ 392086\", 8.05, \"NaN\", \"S\", 0], [89, 1, 1, \"Fortune, Miss. Mabel Helen\", \"female\", 23.0, 3, 2, \"19950\", 263.0, \"C23 C25 C27\", \"S\", 0], [90, 0, 3, \"Celotti, Mr. Francesco\", \"male\", 24.0, 0, 0, \"343275\", 8.05, \"NaN\", \"S\", 0], [91, 0, 3, \"Christmann, Mr. Emil\", \"male\", 29.0, 0, 0, \"343276\", 8.05, \"NaN\", \"S\", 0], [92, 0, 3, \"Andreasson, Mr. Paul Edvin\", \"male\", 20.0, 0, 0, \"347466\", 7.8542, \"NaN\", \"S\", 0], [93, 0, 1, \"Chaffee, Mr. Herbert Fuller\", \"male\", 46.0, 1, 0, \"W.E.P. 5734\", 61.175, \"E31\", \"S\", 0], [94, 0, 3, \"Dean, Mr. Bertram Frank\", \"male\", 26.0, 1, 2, \"C.A. 2315\", 20.575, \"NaN\", \"S\", 0], [95, 0, 3, \"Coxon, Mr. Daniel\", \"male\", 59.0, 0, 0, \"364500\", 7.25, \"NaN\", \"S\", 0], [96, 0, 3, \"Shorney, Mr. Charles Joseph\", \"male\", NaN, 0, 0, \"374910\", 8.05, \"NaN\", \"S\", 0], [97, 0, 1, \"Goldschmidt, Mr. George B\", \"male\", 71.0, 0, 0, \"PC 17754\", 34.6542, \"A5\", \"C\", 0], [98, 1, 1, \"Greenfield, Mr. William Bertram\", \"male\", 23.0, 0, 1, \"PC 17759\", 63.3583, \"D10 D12\", \"C\", 0], [99, 1, 2, \"Doling, Mrs. John T (Ada Julia Bone)\", \"female\", 34.0, 0, 1, \"231919\", 23.0, \"NaN\", \"S\", 0], [100, 0, 2, \"Kantor, Mr. Sinai\", \"male\", 34.0, 1, 0, \"244367\", 26.0, \"NaN\", \"S\", 0], [101, 0, 3, \"Petranec, Miss. Matilda\", \"female\", 28.0, 0, 0, \"349245\", 7.8958, \"NaN\", \"S\", 0], [102, 0, 3, \"Petroff, Mr. Pastcho (\\\"Pentcho\\\")\", \"male\", NaN, 0, 0, \"349215\", 7.8958, \"NaN\", \"S\", 0], [103, 0, 1, \"White, Mr. Richard Frasar\", \"male\", 21.0, 0, 1, \"35281\", 77.2875, \"D26\", \"S\", 0], [104, 0, 3, \"Johansson, Mr. Gustaf Joel\", \"male\", 33.0, 0, 0, \"7540\", 8.6542, \"NaN\", \"S\", 0], [105, 0, 3, \"Gustafsson, Mr. Anders Vilhelm\", \"male\", 37.0, 2, 0, \"3101276\", 7.925, \"NaN\", \"S\", 0], [106, 0, 3, \"Mionoff, Mr. Stoytcho\", \"male\", 28.0, 0, 0, \"349207\", 7.8958, \"NaN\", \"S\", 0], [107, 1, 3, \"Salkjelsvik, Miss. Anna Kristine\", \"female\", 21.0, 0, 0, \"343120\", 7.65, \"NaN\", \"S\", 0], [108, 1, 3, \"Moss, Mr. Albert Johan\", \"male\", NaN, 0, 0, \"312991\", 7.775, \"NaN\", \"S\", 0], [109, 0, 3, \"Rekic, Mr. Tido\", \"male\", 38.0, 0, 0, \"349249\", 7.8958, \"NaN\", \"S\", 0], [110, 1, 3, \"Moran, Miss. Bertha\", \"female\", NaN, 1, 0, \"371110\", 24.15, \"NaN\", \"Q\", 0], [111, 0, 1, \"Porter, Mr. Walter Chamberlain\", \"male\", 47.0, 0, 0, \"110465\", 52.0, \"C110\", \"S\", 0], [112, 0, 3, \"Zabour, Miss. Hileni\", \"female\", 14.5, 1, 0, \"2665\", 14.4542, \"NaN\", \"C\", 1], [113, 0, 3, \"Barton, Mr. David John\", \"male\", 22.0, 0, 0, \"324669\", 8.05, \"NaN\", \"S\", 0], [114, 0, 3, \"Jussila, Miss. Katriina\", \"female\", 20.0, 1, 0, \"4136\", 9.825, \"NaN\", \"S\", 0], [115, 0, 3, \"Attalah, Miss. Malake\", \"female\", 17.0, 0, 0, \"2627\", 14.4583, \"NaN\", \"C\", 1], [116, 0, 3, \"Pekoniemi, Mr. Edvard\", \"male\", 21.0, 0, 0, \"STON/O 2. 3101294\", 7.925, \"NaN\", \"S\", 0], [117, 0, 3, \"Connors, Mr. Patrick\", \"male\", 70.5, 0, 0, \"370369\", 7.75, \"NaN\", \"Q\", 0], [118, 0, 2, \"Turpin, Mr. William John Robert\", \"male\", 29.0, 1, 0, \"11668\", 21.0, \"NaN\", \"S\", 0], [119, 0, 1, \"Baxter, Mr. Quigg Edmond\", \"male\", 24.0, 0, 1, \"PC 17558\", 247.5208, \"B58 B60\", \"C\", 0], [120, 0, 3, \"Andersson, Miss. Ellis Anna Maria\", \"female\", 2.0, 4, 2, \"347082\", 31.275, \"NaN\", \"S\", 1], [121, 0, 2, \"Hickman, Mr. Stanley George\", \"male\", 21.0, 2, 0, \"S.O.C. 14879\", 73.5, \"NaN\", \"S\", 0], [122, 0, 3, \"Moore, Mr. Leonard Charles\", \"male\", NaN, 0, 0, \"A4. 54510\", 8.05, \"NaN\", \"S\", 0], [123, 0, 2, \"Nasser, Mr. Nicholas\", \"male\", 32.5, 1, 0, \"237736\", 30.0708, \"NaN\", \"C\", 0], [124, 1, 2, \"Webber, Miss. Susan\", \"female\", 32.5, 0, 0, \"27267\", 13.0, \"E101\", \"S\", 0], [125, 0, 1, \"White, Mr. Percival Wayland\", \"male\", 54.0, 0, 1, \"35281\", 77.2875, \"D26\", \"S\", 0], [126, 1, 3, \"Nicola-Yarred, Master. Elias\", \"male\", 12.0, 1, 0, \"2651\", 11.2417, \"NaN\", \"C\", 1], [127, 0, 3, \"McMahon, Mr. Martin\", \"male\", NaN, 0, 0, \"370372\", 7.75, \"NaN\", \"Q\", 0], [128, 1, 3, \"Madsen, Mr. Fridtjof Arne\", \"male\", 24.0, 0, 0, \"C 17369\", 7.1417, \"NaN\", \"S\", 0], [129, 1, 3, \"Peter, Miss. Anna\", \"female\", NaN, 1, 1, \"2668\", 22.3583, \"F E69\", \"C\", 0], [130, 0, 3, \"Ekstrom, Mr. Johan\", \"male\", 45.0, 0, 0, \"347061\", 6.975, \"NaN\", \"S\", 0], [131, 0, 3, \"Drazenoic, Mr. Jozef\", \"male\", 33.0, 0, 0, \"349241\", 7.8958, \"NaN\", \"C\", 0], [132, 0, 3, \"Coelho, Mr. Domingos Fernandeo\", \"male\", 20.0, 0, 0, \"SOTON/O.Q. 3101307\", 7.05, \"NaN\", \"S\", 0], [133, 0, 3, \"Robins, Mrs. Alexander A (Grace Charity Laury)\", \"female\", 47.0, 1, 0, \"A/5. 3337\", 14.5, \"NaN\", \"S\", 0], [134, 1, 2, \"Weisz, Mrs. Leopold (Mathilde Francoise Pede)\", \"female\", 29.0, 1, 0, \"228414\", 26.0, \"NaN\", \"S\", 0], [135, 0, 2, \"Sobey, Mr. Samuel James Hayden\", \"male\", 25.0, 0, 0, \"C.A. 29178\", 13.0, \"NaN\", \"S\", 0], [136, 0, 2, \"Richard, Mr. Emile\", \"male\", 23.0, 0, 0, \"SC/PARIS 2133\", 15.0458, \"NaN\", \"C\", 0], [137, 1, 1, \"Newsom, Miss. Helen Monypeny\", \"female\", 19.0, 0, 2, \"11752\", 26.2833, \"D47\", \"S\", 0], [138, 0, 1, \"Futrelle, Mr. Jacques Heath\", \"male\", 37.0, 1, 0, \"113803\", 53.1, \"C123\", \"S\", 0], [139, 0, 3, \"Osen, Mr. Olaf Elon\", \"male\", 16.0, 0, 0, \"7534\", 9.2167, \"NaN\", \"S\", 1], [140, 0, 1, \"Giglio, Mr. Victor\", \"male\", 24.0, 0, 0, \"PC 17593\", 79.2, \"B86\", \"C\", 0], [141, 0, 3, \"Boulos, Mrs. Joseph (Sultana)\", \"female\", NaN, 0, 2, \"2678\", 15.2458, \"NaN\", \"C\", 0], [142, 1, 3, \"Nysten, Miss. Anna Sofia\", \"female\", 22.0, 0, 0, \"347081\", 7.75, \"NaN\", \"S\", 0], [143, 1, 3, \"Hakkarainen, Mrs. Pekka Pietari (Elin Matilda Dolck)\", \"female\", 24.0, 1, 0, \"STON/O2. 3101279\", 15.85, \"NaN\", \"S\", 0], [144, 0, 3, \"Burke, Mr. Jeremiah\", \"male\", 19.0, 0, 0, \"365222\", 6.75, \"NaN\", \"Q\", 0], [145, 0, 2, \"Andrew, Mr. Edgardo Samuel\", \"male\", 18.0, 0, 0, \"231945\", 11.5, \"NaN\", \"S\", 0], [146, 0, 2, \"Nicholls, Mr. Joseph Charles\", \"male\", 19.0, 1, 1, \"C.A. 33112\", 36.75, \"NaN\", \"S\", 0], [147, 1, 3, \"Andersson, Mr. August Edvard (\\\"Wennerstrom\\\")\", \"male\", 27.0, 0, 0, \"350043\", 7.7958, \"NaN\", \"S\", 0], [148, 0, 3, \"Ford, Miss. Robina Maggie \\\"Ruby\\\"\", \"female\", 9.0, 2, 2, \"W./C. 6608\", 34.375, \"NaN\", \"S\", 1], [149, 0, 2, \"Navratil, Mr. Michel (\\\"Louis M Hoffman\\\")\", \"male\", 36.5, 0, 2, \"230080\", 26.0, \"F2\", \"S\", 0], [150, 0, 2, \"Byles, Rev. Thomas Roussel Davids\", \"male\", 42.0, 0, 0, \"244310\", 13.0, \"NaN\", \"S\", 0], [151, 0, 2, \"Bateman, Rev. Robert James\", \"male\", 51.0, 0, 0, \"S.O.P. 1166\", 12.525, \"NaN\", \"S\", 0], [152, 1, 1, \"Pears, Mrs. Thomas (Edith Wearne)\", \"female\", 22.0, 1, 0, \"113776\", 66.6, \"C2\", \"S\", 0], [153, 0, 3, \"Meo, Mr. Alfonzo\", \"male\", 55.5, 0, 0, \"A.5. 11206\", 8.05, \"NaN\", \"S\", 0], [154, 0, 3, \"van Billiard, Mr. Austin Blyler\", \"male\", 40.5, 0, 2, \"A/5. 851\", 14.5, \"NaN\", \"S\", 0], [155, 0, 3, \"Olsen, Mr. Ole Martin\", \"male\", NaN, 0, 0, \"Fa 265302\", 7.3125, \"NaN\", \"S\", 0], [156, 0, 1, \"Williams, Mr. Charles Duane\", \"male\", 51.0, 0, 1, \"PC 17597\", 61.3792, \"NaN\", \"C\", 0], [157, 1, 3, \"Gilnagh, Miss. Katherine \\\"Katie\\\"\", \"female\", 16.0, 0, 0, \"35851\", 7.7333, \"NaN\", \"Q\", 1], [158, 0, 3, \"Corn, Mr. Harry\", \"male\", 30.0, 0, 0, \"SOTON/OQ 392090\", 8.05, \"NaN\", \"S\", 0], [159, 0, 3, \"Smiljanic, Mr. Mile\", \"male\", NaN, 0, 0, \"315037\", 8.6625, \"NaN\", \"S\", 0], [160, 0, 3, \"Sage, Master. Thomas Henry\", \"male\", NaN, 8, 2, \"CA. 2343\", 69.55, \"NaN\", \"S\", 0], [161, 0, 3, \"Cribb, Mr. John Hatfield\", \"male\", 44.0, 0, 1, \"371362\", 16.1, \"NaN\", \"S\", 0], [162, 1, 2, \"Watt, Mrs. James (Elizabeth \\\"Bessie\\\" Inglis Milne)\", \"female\", 40.0, 0, 0, \"C.A. 33595\", 15.75, \"NaN\", \"S\", 0], [163, 0, 3, \"Bengtsson, Mr. John Viktor\", \"male\", 26.0, 0, 0, \"347068\", 7.775, \"NaN\", \"S\", 0], [164, 0, 3, \"Calic, Mr. Jovo\", \"male\", 17.0, 0, 0, \"315093\", 8.6625, \"NaN\", \"S\", 1], [165, 0, 3, \"Panula, Master. Eino Viljami\", \"male\", 1.0, 4, 1, \"3101295\", 39.6875, \"NaN\", \"S\", 1], [166, 1, 3, \"Goldsmith, Master. Frank John William \\\"Frankie\\\"\", \"male\", 9.0, 0, 2, \"363291\", 20.525, \"NaN\", \"S\", 1], [167, 1, 1, \"Chibnall, Mrs. (Edith Martha Bowerman)\", \"female\", NaN, 0, 1, \"113505\", 55.0, \"E33\", \"S\", 0], [168, 0, 3, \"Skoog, Mrs. William (Anna Bernhardina Karlsson)\", \"female\", 45.0, 1, 4, \"347088\", 27.9, \"NaN\", \"S\", 0], [169, 0, 1, \"Baumann, Mr. John D\", \"male\", NaN, 0, 0, \"PC 17318\", 25.925, \"NaN\", \"S\", 0], [170, 0, 3, \"Ling, Mr. Lee\", \"male\", 28.0, 0, 0, \"1601\", 56.4958, \"NaN\", \"S\", 0], [171, 0, 1, \"Van der hoef, Mr. Wyckoff\", \"male\", 61.0, 0, 0, \"111240\", 33.5, \"B19\", \"S\", 0], [172, 0, 3, \"Rice, Master. Arthur\", \"male\", 4.0, 4, 1, \"382652\", 29.125, \"NaN\", \"Q\", 1], [173, 1, 3, \"Johnson, Miss. Eleanor Ileen\", \"female\", 1.0, 1, 1, \"347742\", 11.1333, \"NaN\", \"S\", 1], [174, 0, 3, \"Sivola, Mr. Antti Wilhelm\", \"male\", 21.0, 0, 0, \"STON/O 2. 3101280\", 7.925, \"NaN\", \"S\", 0], [175, 0, 1, \"Smith, Mr. James Clinch\", \"male\", 56.0, 0, 0, \"17764\", 30.6958, \"A7\", \"C\", 0], [176, 0, 3, \"Klasen, Mr. Klas Albin\", \"male\", 18.0, 1, 1, \"350404\", 7.8542, \"NaN\", \"S\", 0], [177, 0, 3, \"Lefebre, Master. Henry Forbes\", \"male\", NaN, 3, 1, \"4133\", 25.4667, \"NaN\", \"S\", 0], [178, 0, 1, \"Isham, Miss. Ann Elizabeth\", \"female\", 50.0, 0, 0, \"PC 17595\", 28.7125, \"C49\", \"C\", 0], [179, 0, 2, \"Hale, Mr. Reginald\", \"male\", 30.0, 0, 0, \"250653\", 13.0, \"NaN\", \"S\", 0], [180, 0, 3, \"Leonard, Mr. Lionel\", \"male\", 36.0, 0, 0, \"LINE\", 0.0, \"NaN\", \"S\", 0], [181, 0, 3, \"Sage, Miss. Constance Gladys\", \"female\", NaN, 8, 2, \"CA. 2343\", 69.55, \"NaN\", \"S\", 0], [182, 0, 2, \"Pernot, Mr. Rene\", \"male\", NaN, 0, 0, \"SC/PARIS 2131\", 15.05, \"NaN\", \"C\", 0], [183, 0, 3, \"Asplund, Master. Clarence Gustaf Hugo\", \"male\", 9.0, 4, 2, \"347077\", 31.3875, \"NaN\", \"S\", 1], [184, 1, 2, \"Becker, Master. Richard F\", \"male\", 1.0, 2, 1, \"230136\", 39.0, \"F4\", \"S\", 1], [185, 1, 3, \"Kink-Heilmann, Miss. Luise Gretchen\", \"female\", 4.0, 0, 2, \"315153\", 22.025, \"NaN\", \"S\", 1], [186, 0, 1, \"Rood, Mr. Hugh Roscoe\", \"male\", NaN, 0, 0, \"113767\", 50.0, \"A32\", \"S\", 0], [187, 1, 3, \"O'Brien, Mrs. Thomas (Johanna \\\"Hannah\\\" Godfrey)\", \"female\", NaN, 1, 0, \"370365\", 15.5, \"NaN\", \"Q\", 0], [188, 1, 1, \"Romaine, Mr. Charles Hallace (\\\"Mr C Rolmane\\\")\", \"male\", 45.0, 0, 0, \"111428\", 26.55, \"NaN\", \"S\", 0], [189, 0, 3, \"Bourke, Mr. John\", \"male\", 40.0, 1, 1, \"364849\", 15.5, \"NaN\", \"Q\", 0], [190, 0, 3, \"Turcin, Mr. Stjepan\", \"male\", 36.0, 0, 0, \"349247\", 7.8958, \"NaN\", \"S\", 0], [191, 1, 2, \"Pinsky, Mrs. (Rosa)\", \"female\", 32.0, 0, 0, \"234604\", 13.0, \"NaN\", \"S\", 0], [192, 0, 2, \"Carbines, Mr. William\", \"male\", 19.0, 0, 0, \"28424\", 13.0, \"NaN\", \"S\", 0], [193, 1, 3, \"Andersen-Jensen, Miss. Carla Christine Nielsine\", \"female\", 19.0, 1, 0, \"350046\", 7.8542, \"NaN\", \"S\", 0], [194, 1, 2, \"Navratil, Master. Michel M\", \"male\", 3.0, 1, 1, \"230080\", 26.0, \"F2\", \"S\", 1], [195, 1, 1, \"Brown, Mrs. James Joseph (Margaret Tobin)\", \"female\", 44.0, 0, 0, \"PC 17610\", 27.7208, \"B4\", \"C\", 0], [196, 1, 1, \"Lurette, Miss. Elise\", \"female\", 58.0, 0, 0, \"PC 17569\", 146.5208, \"B80\", \"C\", 0], [197, 0, 3, \"Mernagh, Mr. Robert\", \"male\", NaN, 0, 0, \"368703\", 7.75, \"NaN\", \"Q\", 0], [198, 0, 3, \"Olsen, Mr. Karl Siegwart Andreas\", \"male\", 42.0, 0, 1, \"4579\", 8.4042, \"NaN\", \"S\", 0], [199, 1, 3, \"Madigan, Miss. Margaret \\\"Maggie\\\"\", \"female\", NaN, 0, 0, \"370370\", 7.75, \"NaN\", \"Q\", 0], [200, 0, 2, \"Yrois, Miss. Henriette (\\\"Mrs Harbeck\\\")\", \"female\", 24.0, 0, 0, \"248747\", 13.0, \"NaN\", \"S\", 0], [201, 0, 3, \"Vande Walle, Mr. Nestor Cyriel\", \"male\", 28.0, 0, 0, \"345770\", 9.5, \"NaN\", \"S\", 0], [202, 0, 3, \"Sage, Mr. Frederick\", \"male\", NaN, 8, 2, \"CA. 2343\", 69.55, \"NaN\", \"S\", 0], [203, 0, 3, \"Johanson, Mr. Jakob Alfred\", \"male\", 34.0, 0, 0, \"3101264\", 6.4958, \"NaN\", \"S\", 0], [204, 0, 3, \"Youseff, Mr. Gerious\", \"male\", 45.5, 0, 0, \"2628\", 7.225, \"NaN\", \"C\", 0], [205, 1, 3, \"Cohen, Mr. Gurshon \\\"Gus\\\"\", \"male\", 18.0, 0, 0, \"A/5 3540\", 8.05, \"NaN\", \"S\", 0], [206, 0, 3, \"Strom, Miss. Telma Matilda\", \"female\", 2.0, 0, 1, \"347054\", 10.4625, \"G6\", \"S\", 1], [207, 0, 3, \"Backstrom, Mr. Karl Alfred\", \"male\", 32.0, 1, 0, \"3101278\", 15.85, \"NaN\", \"S\", 0], [208, 1, 3, \"Albimona, Mr. Nassef Cassem\", \"male\", 26.0, 0, 0, \"2699\", 18.7875, \"NaN\", \"C\", 0], [209, 1, 3, \"Carr, Miss. Helen \\\"Ellen\\\"\", \"female\", 16.0, 0, 0, \"367231\", 7.75, \"NaN\", \"Q\", 1], [210, 1, 1, \"Blank, Mr. Henry\", \"male\", 40.0, 0, 0, \"112277\", 31.0, \"A31\", \"C\", 0], [211, 0, 3, \"Ali, Mr. Ahmed\", \"male\", 24.0, 0, 0, \"SOTON/O.Q. 3101311\", 7.05, \"NaN\", \"S\", 0], [212, 1, 2, \"Cameron, Miss. Clear Annie\", \"female\", 35.0, 0, 0, \"F.C.C. 13528\", 21.0, \"NaN\", \"S\", 0], [213, 0, 3, \"Perkin, Mr. John Henry\", \"male\", 22.0, 0, 0, \"A/5 21174\", 7.25, \"NaN\", \"S\", 0], [214, 0, 2, \"Givard, Mr. Hans Kristensen\", \"male\", 30.0, 0, 0, \"250646\", 13.0, \"NaN\", \"S\", 0], [215, 0, 3, \"Kiernan, Mr. Philip\", \"male\", NaN, 1, 0, \"367229\", 7.75, \"NaN\", \"Q\", 0], [216, 1, 1, \"Newell, Miss. Madeleine\", \"female\", 31.0, 1, 0, \"35273\", 113.275, \"D36\", \"C\", 0], [217, 1, 3, \"Honkanen, Miss. Eliina\", \"female\", 27.0, 0, 0, \"STON/O2. 3101283\", 7.925, \"NaN\", \"S\", 0], [218, 0, 2, \"Jacobsohn, Mr. Sidney Samuel\", \"male\", 42.0, 1, 0, \"243847\", 27.0, \"NaN\", \"S\", 0], [219, 1, 1, \"Bazzani, Miss. Albina\", \"female\", 32.0, 0, 0, \"11813\", 76.2917, \"D15\", \"C\", 0], [220, 0, 2, \"Harris, Mr. Walter\", \"male\", 30.0, 0, 0, \"W/C 14208\", 10.5, \"NaN\", \"S\", 0], [221, 1, 3, \"Sunderland, Mr. Victor Francis\", \"male\", 16.0, 0, 0, \"SOTON/OQ 392089\", 8.05, \"NaN\", \"S\", 1], [222, 0, 2, \"Bracken, Mr. James H\", \"male\", 27.0, 0, 0, \"220367\", 13.0, \"NaN\", \"S\", 0], [223, 0, 3, \"Green, Mr. George Henry\", \"male\", 51.0, 0, 0, \"21440\", 8.05, \"NaN\", \"S\", 0], [224, 0, 3, \"Nenkoff, Mr. Christo\", \"male\", NaN, 0, 0, \"349234\", 7.8958, \"NaN\", \"S\", 0], [225, 1, 1, \"Hoyt, Mr. Frederick Maxfield\", \"male\", 38.0, 1, 0, \"19943\", 90.0, \"C93\", \"S\", 0], [226, 0, 3, \"Berglund, Mr. Karl Ivar Sven\", \"male\", 22.0, 0, 0, \"PP 4348\", 9.35, \"NaN\", \"S\", 0], [227, 1, 2, \"Mellors, Mr. William John\", \"male\", 19.0, 0, 0, \"SW/PP 751\", 10.5, \"NaN\", \"S\", 0], [228, 0, 3, \"Lovell, Mr. John Hall (\\\"Henry\\\")\", \"male\", 20.5, 0, 0, \"A/5 21173\", 7.25, \"NaN\", \"S\", 0], [229, 0, 2, \"Fahlstrom, Mr. Arne Jonas\", \"male\", 18.0, 0, 0, \"236171\", 13.0, \"NaN\", \"S\", 0], [230, 0, 3, \"Lefebre, Miss. Mathilde\", \"female\", NaN, 3, 1, \"4133\", 25.4667, \"NaN\", \"S\", 0], [231, 1, 1, \"Harris, Mrs. Henry Birkhardt (Irene Wallach)\", \"female\", 35.0, 1, 0, \"36973\", 83.475, \"C83\", \"S\", 0], [232, 0, 3, \"Larsson, Mr. Bengt Edvin\", \"male\", 29.0, 0, 0, \"347067\", 7.775, \"NaN\", \"S\", 0], [233, 0, 2, \"Sjostedt, Mr. Ernst Adolf\", \"male\", 59.0, 0, 0, \"237442\", 13.5, \"NaN\", \"S\", 0], [234, 1, 3, \"Asplund, Miss. Lillian Gertrud\", \"female\", 5.0, 4, 2, \"347077\", 31.3875, \"NaN\", \"S\", 1], [235, 0, 2, \"Leyson, Mr. Robert William Norman\", \"male\", 24.0, 0, 0, \"C.A. 29566\", 10.5, \"NaN\", \"S\", 0], [236, 0, 3, \"Harknett, Miss. Alice Phoebe\", \"female\", NaN, 0, 0, \"W./C. 6609\", 7.55, \"NaN\", \"S\", 0], [237, 0, 2, \"Hold, Mr. Stephen\", \"male\", 44.0, 1, 0, \"26707\", 26.0, \"NaN\", \"S\", 0], [238, 1, 2, \"Collyer, Miss. Marjorie \\\"Lottie\\\"\", \"female\", 8.0, 0, 2, \"C.A. 31921\", 26.25, \"NaN\", \"S\", 1], [239, 0, 2, \"Pengelly, Mr. Frederick William\", \"male\", 19.0, 0, 0, \"28665\", 10.5, \"NaN\", \"S\", 0], [240, 0, 2, \"Hunt, Mr. George Henry\", \"male\", 33.0, 0, 0, \"SCO/W 1585\", 12.275, \"NaN\", \"S\", 0], [241, 0, 3, \"Zabour, Miss. Thamine\", \"female\", NaN, 1, 0, \"2665\", 14.4542, \"NaN\", \"C\", 0], [242, 1, 3, \"Murphy, Miss. Katherine \\\"Kate\\\"\", \"female\", NaN, 1, 0, \"367230\", 15.5, \"NaN\", \"Q\", 0], [243, 0, 2, \"Coleridge, Mr. Reginald Charles\", \"male\", 29.0, 0, 0, \"W./C. 14263\", 10.5, \"NaN\", \"S\", 0], [244, 0, 3, \"Maenpaa, Mr. Matti Alexanteri\", \"male\", 22.0, 0, 0, \"STON/O 2. 3101275\", 7.125, \"NaN\", \"S\", 0], [245, 0, 3, \"Attalah, Mr. Sleiman\", \"male\", 30.0, 0, 0, \"2694\", 7.225, \"NaN\", \"C\", 0], [246, 0, 1, \"Minahan, Dr. William Edward\", \"male\", 44.0, 2, 0, \"19928\", 90.0, \"C78\", \"Q\", 0], [247, 0, 3, \"Lindahl, Miss. Agda Thorilda Viktoria\", \"female\", 25.0, 0, 0, \"347071\", 7.775, \"NaN\", \"S\", 0], [248, 1, 2, \"Hamalainen, Mrs. William (Anna)\", \"female\", 24.0, 0, 2, \"250649\", 14.5, \"NaN\", \"S\", 0], [249, 1, 1, \"Beckwith, Mr. Richard Leonard\", \"male\", 37.0, 1, 1, \"11751\", 52.5542, \"D35\", \"S\", 0], [250, 0, 2, \"Carter, Rev. Ernest Courtenay\", \"male\", 54.0, 1, 0, \"244252\", 26.0, \"NaN\", \"S\", 0], [251, 0, 3, \"Reed, Mr. James George\", \"male\", NaN, 0, 0, \"362316\", 7.25, \"NaN\", \"S\", 0], [252, 0, 3, \"Strom, Mrs. Wilhelm (Elna Matilda Persson)\", \"female\", 29.0, 1, 1, \"347054\", 10.4625, \"G6\", \"S\", 0], [253, 0, 1, \"Stead, Mr. William Thomas\", \"male\", 62.0, 0, 0, \"113514\", 26.55, \"C87\", \"S\", 0], [254, 0, 3, \"Lobb, Mr. William Arthur\", \"male\", 30.0, 1, 0, \"A/5. 3336\", 16.1, \"NaN\", \"S\", 0], [255, 0, 3, \"Rosblom, Mrs. Viktor (Helena Wilhelmina)\", \"female\", 41.0, 0, 2, \"370129\", 20.2125, \"NaN\", \"S\", 0], [256, 1, 3, \"Touma, Mrs. Darwis (Hanne Youssef Razi)\", \"female\", 29.0, 0, 2, \"2650\", 15.2458, \"NaN\", \"C\", 0], [257, 1, 1, \"Thorne, Mrs. Gertrude Maybelle\", \"female\", NaN, 0, 0, \"PC 17585\", 79.2, \"NaN\", \"C\", 0], [258, 1, 1, \"Cherry, Miss. Gladys\", \"female\", 30.0, 0, 0, \"110152\", 86.5, \"B77\", \"S\", 0], [259, 1, 1, \"Ward, Miss. Anna\", \"female\", 35.0, 0, 0, \"PC 17755\", 512.3292, \"NaN\", \"C\", 0], [260, 1, 2, \"Parrish, Mrs. (Lutie Davis)\", \"female\", 50.0, 0, 1, \"230433\", 26.0, \"NaN\", \"S\", 0], [261, 0, 3, \"Smith, Mr. Thomas\", \"male\", NaN, 0, 0, \"384461\", 7.75, \"NaN\", \"Q\", 0], [262, 1, 3, \"Asplund, Master. Edvin Rojj Felix\", \"male\", 3.0, 4, 2, \"347077\", 31.3875, \"NaN\", \"S\", 1], [263, 0, 1, \"Taussig, Mr. Emil\", \"male\", 52.0, 1, 1, \"110413\", 79.65, \"E67\", \"S\", 0], [264, 0, 1, \"Harrison, Mr. William\", \"male\", 40.0, 0, 0, \"112059\", 0.0, \"B94\", \"S\", 0], [265, 0, 3, \"Henry, Miss. Delia\", \"female\", NaN, 0, 0, \"382649\", 7.75, \"NaN\", \"Q\", 0], [266, 0, 2, \"Reeves, Mr. David\", \"male\", 36.0, 0, 0, \"C.A. 17248\", 10.5, \"NaN\", \"S\", 0], [267, 0, 3, \"Panula, Mr. Ernesti Arvid\", \"male\", 16.0, 4, 1, \"3101295\", 39.6875, \"NaN\", \"S\", 1], [268, 1, 3, \"Persson, Mr. Ernst Ulrik\", \"male\", 25.0, 1, 0, \"347083\", 7.775, \"NaN\", \"S\", 0], [269, 1, 1, \"Graham, Mrs. William Thompson (Edith Junkins)\", \"female\", 58.0, 0, 1, \"PC 17582\", 153.4625, \"C125\", \"S\", 0], [270, 1, 1, \"Bissette, Miss. Amelia\", \"female\", 35.0, 0, 0, \"PC 17760\", 135.6333, \"C99\", \"S\", 0], [271, 0, 1, \"Cairns, Mr. Alexander\", \"male\", NaN, 0, 0, \"113798\", 31.0, \"NaN\", \"S\", 0], [272, 1, 3, \"Tornquist, Mr. William Henry\", \"male\", 25.0, 0, 0, \"LINE\", 0.0, \"NaN\", \"S\", 0], [273, 1, 2, \"Mellinger, Mrs. (Elizabeth Anne Maidment)\", \"female\", 41.0, 0, 1, \"250644\", 19.5, \"NaN\", \"S\", 0], [274, 0, 1, \"Natsch, Mr. Charles H\", \"male\", 37.0, 0, 1, \"PC 17596\", 29.7, \"C118\", \"C\", 0], [275, 1, 3, \"Healy, Miss. Hanora \\\"Nora\\\"\", \"female\", NaN, 0, 0, \"370375\", 7.75, \"NaN\", \"Q\", 0], [276, 1, 1, \"Andrews, Miss. Kornelia Theodosia\", \"female\", 63.0, 1, 0, \"13502\", 77.9583, \"D7\", \"S\", 0], [277, 0, 3, \"Lindblom, Miss. Augusta Charlotta\", \"female\", 45.0, 0, 0, \"347073\", 7.75, \"NaN\", \"S\", 0], [278, 0, 2, \"Parkes, Mr. Francis \\\"Frank\\\"\", \"male\", NaN, 0, 0, \"239853\", 0.0, \"NaN\", \"S\", 0], [279, 0, 3, \"Rice, Master. Eric\", \"male\", 7.0, 4, 1, \"382652\", 29.125, \"NaN\", \"Q\", 1], [280, 1, 3, \"Abbott, Mrs. Stanton (Rosa Hunt)\", \"female\", 35.0, 1, 1, \"C.A. 2673\", 20.25, \"NaN\", \"S\", 0], [281, 0, 3, \"Duane, Mr. Frank\", \"male\", 65.0, 0, 0, \"336439\", 7.75, \"NaN\", \"Q\", 0], [282, 0, 3, \"Olsson, Mr. Nils Johan Goransson\", \"male\", 28.0, 0, 0, \"347464\", 7.8542, \"NaN\", \"S\", 0], [283, 0, 3, \"de Pelsmaeker, Mr. Alfons\", \"male\", 16.0, 0, 0, \"345778\", 9.5, \"NaN\", \"S\", 1], [284, 1, 3, \"Dorking, Mr. Edward Arthur\", \"male\", 19.0, 0, 0, \"A/5. 10482\", 8.05, \"NaN\", \"S\", 0], [285, 0, 1, \"Smith, Mr. Richard William\", \"male\", NaN, 0, 0, \"113056\", 26.0, \"A19\", \"S\", 0], [286, 0, 3, \"Stankovic, Mr. Ivan\", \"male\", 33.0, 0, 0, \"349239\", 8.6625, \"NaN\", \"C\", 0], [287, 1, 3, \"de Mulder, Mr. Theodore\", \"male\", 30.0, 0, 0, \"345774\", 9.5, \"NaN\", \"S\", 0], [288, 0, 3, \"Naidenoff, Mr. Penko\", \"male\", 22.0, 0, 0, \"349206\", 7.8958, \"NaN\", \"S\", 0], [289, 1, 2, \"Hosono, Mr. Masabumi\", \"male\", 42.0, 0, 0, \"237798\", 13.0, \"NaN\", \"S\", 0], [290, 1, 3, \"Connolly, Miss. Kate\", \"female\", 22.0, 0, 0, \"370373\", 7.75, \"NaN\", \"Q\", 0], [291, 1, 1, \"Barber, Miss. Ellen \\\"Nellie\\\"\", \"female\", 26.0, 0, 0, \"19877\", 78.85, \"NaN\", \"S\", 0], [292, 1, 1, \"Bishop, Mrs. Dickinson H (Helen Walton)\", \"female\", 19.0, 1, 0, \"11967\", 91.0792, \"B49\", \"C\", 0], [293, 0, 2, \"Levy, Mr. Rene Jacques\", \"male\", 36.0, 0, 0, \"SC/Paris 2163\", 12.875, \"D\", \"C\", 0], [294, 0, 3, \"Haas, Miss. Aloisia\", \"female\", 24.0, 0, 0, \"349236\", 8.85, \"NaN\", \"S\", 0], [295, 0, 3, \"Mineff, Mr. Ivan\", \"male\", 24.0, 0, 0, \"349233\", 7.8958, \"NaN\", \"S\", 0], [296, 0, 1, \"Lewy, Mr. Ervin G\", \"male\", NaN, 0, 0, \"PC 17612\", 27.7208, \"NaN\", \"C\", 0], [297, 0, 3, \"Hanna, Mr. Mansour\", \"male\", 23.5, 0, 0, \"2693\", 7.2292, \"NaN\", \"C\", 0], [298, 0, 1, \"Allison, Miss. Helen Loraine\", \"female\", 2.0, 1, 2, \"113781\", 151.55, \"C22 C26\", \"S\", 1], [299, 1, 1, \"Saalfeld, Mr. Adolphe\", \"male\", NaN, 0, 0, \"19988\", 30.5, \"C106\", \"S\", 0], [300, 1, 1, \"Baxter, Mrs. James (Helene DeLaudeniere Chaput)\", \"female\", 50.0, 0, 1, \"PC 17558\", 247.5208, \"B58 B60\", \"C\", 0], [301, 1, 3, \"Kelly, Miss. Anna Katherine \\\"Annie Kate\\\"\", \"female\", NaN, 0, 0, \"9234\", 7.75, \"NaN\", \"Q\", 0], [302, 1, 3, \"McCoy, Mr. Bernard\", \"male\", NaN, 2, 0, \"367226\", 23.25, \"NaN\", \"Q\", 0], [303, 0, 3, \"Johnson, Mr. William Cahoone Jr\", \"male\", 19.0, 0, 0, \"LINE\", 0.0, \"NaN\", \"S\", 0], [304, 1, 2, \"Keane, Miss. Nora A\", \"female\", NaN, 0, 0, \"226593\", 12.35, \"E101\", \"Q\", 0], [305, 0, 3, \"Williams, Mr. Howard Hugh \\\"Harry\\\"\", \"male\", NaN, 0, 0, \"A/5 2466\", 8.05, \"NaN\", \"S\", 0], [306, 1, 1, \"Allison, Master. Hudson Trevor\", \"male\", 0.92, 1, 2, \"113781\", 151.55, \"C22 C26\", \"S\", 1], [307, 1, 1, \"Fleming, Miss. Margaret\", \"female\", NaN, 0, 0, \"17421\", 110.8833, \"NaN\", \"C\", 0], [308, 1, 1, \"Penasco y Castellana, Mrs. Victor de Satode (Maria Josefa Perez de Soto y Vallejo)\", \"female\", 17.0, 1, 0, \"PC 17758\", 108.9, \"C65\", \"C\", 1], [309, 0, 2, \"Abelson, Mr. Samuel\", \"male\", 30.0, 1, 0, \"P/PP 3381\", 24.0, \"NaN\", \"C\", 0], [310, 1, 1, \"Francatelli, Miss. Laura Mabel\", \"female\", 30.0, 0, 0, \"PC 17485\", 56.9292, \"E36\", \"C\", 0], [311, 1, 1, \"Hays, Miss. Margaret Bechstein\", \"female\", 24.0, 0, 0, \"11767\", 83.1583, \"C54\", \"C\", 0], [312, 1, 1, \"Ryerson, Miss. Emily Borie\", \"female\", 18.0, 2, 2, \"PC 17608\", 262.375, \"B57 B59 B63 B66\", \"C\", 0], [313, 0, 2, \"Lahtinen, Mrs. William (Anna Sylfven)\", \"female\", 26.0, 1, 1, \"250651\", 26.0, \"NaN\", \"S\", 0], [314, 0, 3, \"Hendekovic, Mr. Ignjac\", \"male\", 28.0, 0, 0, \"349243\", 7.8958, \"NaN\", \"S\", 0], [315, 0, 2, \"Hart, Mr. Benjamin\", \"male\", 43.0, 1, 1, \"F.C.C. 13529\", 26.25, \"NaN\", \"S\", 0], [316, 1, 3, \"Nilsson, Miss. Helmina Josefina\", \"female\", 26.0, 0, 0, \"347470\", 7.8542, \"NaN\", \"S\", 0], [317, 1, 2, \"Kantor, Mrs. Sinai (Miriam Sternin)\", \"female\", 24.0, 1, 0, \"244367\", 26.0, \"NaN\", \"S\", 0], [318, 0, 2, \"Moraweck, Dr. Ernest\", \"male\", 54.0, 0, 0, \"29011\", 14.0, \"NaN\", \"S\", 0], [319, 1, 1, \"Wick, Miss. Mary Natalie\", \"female\", 31.0, 0, 2, \"36928\", 164.8667, \"C7\", \"S\", 0], [320, 1, 1, \"Spedden, Mrs. Frederic Oakley (Margaretta Corning Stone)\", \"female\", 40.0, 1, 1, \"16966\", 134.5, \"E34\", \"C\", 0], [321, 0, 3, \"Dennis, Mr. Samuel\", \"male\", 22.0, 0, 0, \"A/5 21172\", 7.25, \"NaN\", \"S\", 0], [322, 0, 3, \"Danoff, Mr. Yoto\", \"male\", 27.0, 0, 0, \"349219\", 7.8958, \"NaN\", \"S\", 0], [323, 1, 2, \"Slayter, Miss. Hilda Mary\", \"female\", 30.0, 0, 0, \"234818\", 12.35, \"NaN\", \"Q\", 0], [324, 1, 2, \"Caldwell, Mrs. Albert Francis (Sylvia Mae Harbaugh)\", \"female\", 22.0, 1, 1, \"248738\", 29.0, \"NaN\", \"S\", 0], [325, 0, 3, \"Sage, Mr. George John Jr\", \"male\", NaN, 8, 2, \"CA. 2343\", 69.55, \"NaN\", \"S\", 0], [326, 1, 1, \"Young, Miss. Marie Grice\", \"female\", 36.0, 0, 0, \"PC 17760\", 135.6333, \"C32\", \"C\", 0], [327, 0, 3, \"Nysveen, Mr. Johan Hansen\", \"male\", 61.0, 0, 0, \"345364\", 6.2375, \"NaN\", \"S\", 0], [328, 1, 2, \"Ball, Mrs. (Ada E Hall)\", \"female\", 36.0, 0, 0, \"28551\", 13.0, \"D\", \"S\", 0], [329, 1, 3, \"Goldsmith, Mrs. Frank John (Emily Alice Brown)\", \"female\", 31.0, 1, 1, \"363291\", 20.525, \"NaN\", \"S\", 0], [330, 1, 1, \"Hippach, Miss. Jean Gertrude\", \"female\", 16.0, 0, 1, \"111361\", 57.9792, \"B18\", \"C\", 1], [331, 1, 3, \"McCoy, Miss. Agnes\", \"female\", NaN, 2, 0, \"367226\", 23.25, \"NaN\", \"Q\", 0], [332, 0, 1, \"Partner, Mr. Austen\", \"male\", 45.5, 0, 0, \"113043\", 28.5, \"C124\", \"S\", 0], [333, 0, 1, \"Graham, Mr. George Edward\", \"male\", 38.0, 0, 1, \"PC 17582\", 153.4625, \"C91\", \"S\", 0], [334, 0, 3, \"Vander Planke, Mr. Leo Edmondus\", \"male\", 16.0, 2, 0, \"345764\", 18.0, \"NaN\", \"S\", 1], [335, 1, 1, \"Frauenthal, Mrs. Henry William (Clara Heinsheimer)\", \"female\", NaN, 1, 0, \"PC 17611\", 133.65, \"NaN\", \"S\", 0], [336, 0, 3, \"Denkoff, Mr. Mitto\", \"male\", NaN, 0, 0, \"349225\", 7.8958, \"NaN\", \"S\", 0], [337, 0, 1, \"Pears, Mr. Thomas Clinton\", \"male\", 29.0, 1, 0, \"113776\", 66.6, \"C2\", \"S\", 0], [338, 1, 1, \"Burns, Miss. Elizabeth Margaret\", \"female\", 41.0, 0, 0, \"16966\", 134.5, \"E40\", \"C\", 0], [339, 1, 3, \"Dahl, Mr. Karl Edwart\", \"male\", 45.0, 0, 0, \"7598\", 8.05, \"NaN\", \"S\", 0], [340, 0, 1, \"Blackwell, Mr. Stephen Weart\", \"male\", 45.0, 0, 0, \"113784\", 35.5, \"T\", \"S\", 0], [341, 1, 2, \"Navratil, Master. Edmond Roger\", \"male\", 2.0, 1, 1, \"230080\", 26.0, \"F2\", \"S\", 1], [342, 1, 1, \"Fortune, Miss. Alice Elizabeth\", \"female\", 24.0, 3, 2, \"19950\", 263.0, \"C23 C25 C27\", \"S\", 0], [343, 0, 2, \"Collander, Mr. Erik Gustaf\", \"male\", 28.0, 0, 0, \"248740\", 13.0, \"NaN\", \"S\", 0], [344, 0, 2, \"Sedgwick, Mr. Charles Frederick Waddington\", \"male\", 25.0, 0, 0, \"244361\", 13.0, \"NaN\", \"S\", 0], [345, 0, 2, \"Fox, Mr. Stanley Hubert\", \"male\", 36.0, 0, 0, \"229236\", 13.0, \"NaN\", \"S\", 0], [346, 1, 2, \"Brown, Miss. Amelia \\\"Mildred\\\"\", \"female\", 24.0, 0, 0, \"248733\", 13.0, \"F33\", \"S\", 0], [347, 1, 2, \"Smith, Miss. Marion Elsie\", \"female\", 40.0, 0, 0, \"31418\", 13.0, \"NaN\", \"S\", 0], [348, 1, 3, \"Davison, Mrs. Thomas Henry (Mary E Finck)\", \"female\", NaN, 1, 0, \"386525\", 16.1, \"NaN\", \"S\", 0], [349, 1, 3, \"Coutts, Master. William Loch \\\"William\\\"\", \"male\", 3.0, 1, 1, \"C.A. 37671\", 15.9, \"NaN\", \"S\", 1], [350, 0, 3, \"Dimic, Mr. Jovan\", \"male\", 42.0, 0, 0, \"315088\", 8.6625, \"NaN\", \"S\", 0], [351, 0, 3, \"Odahl, Mr. Nils Martin\", \"male\", 23.0, 0, 0, \"7267\", 9.225, \"NaN\", \"S\", 0], [352, 0, 1, \"Williams-Lambert, Mr. Fletcher Fellows\", \"male\", NaN, 0, 0, \"113510\", 35.0, \"C128\", \"S\", 0], [353, 0, 3, \"Elias, Mr. Tannous\", \"male\", 15.0, 1, 1, \"2695\", 7.2292, \"NaN\", \"C\", 1], [354, 0, 3, \"Arnold-Franchi, Mr. Josef\", \"male\", 25.0, 1, 0, \"349237\", 17.8, \"NaN\", \"S\", 0], [355, 0, 3, \"Yousif, Mr. Wazli\", \"male\", NaN, 0, 0, \"2647\", 7.225, \"NaN\", \"C\", 0], [356, 0, 3, \"Vanden Steen, Mr. Leo Peter\", \"male\", 28.0, 0, 0, \"345783\", 9.5, \"NaN\", \"S\", 0], [357, 1, 1, \"Bowerman, Miss. Elsie Edith\", \"female\", 22.0, 0, 1, \"113505\", 55.0, \"E33\", \"S\", 0], [358, 0, 2, \"Funk, Miss. Annie Clemmer\", \"female\", 38.0, 0, 0, \"237671\", 13.0, \"NaN\", \"S\", 0], [359, 1, 3, \"McGovern, Miss. Mary\", \"female\", NaN, 0, 0, \"330931\", 7.8792, \"NaN\", \"Q\", 0], [360, 1, 3, \"Mockler, Miss. Helen Mary \\\"Ellie\\\"\", \"female\", NaN, 0, 0, \"330980\", 7.8792, \"NaN\", \"Q\", 0], [361, 0, 3, \"Skoog, Mr. Wilhelm\", \"male\", 40.0, 1, 4, \"347088\", 27.9, \"NaN\", \"S\", 0], [362, 0, 2, \"del Carlo, Mr. Sebastiano\", \"male\", 29.0, 1, 0, \"SC/PARIS 2167\", 27.7208, \"NaN\", \"C\", 0], [363, 0, 3, \"Barbara, Mrs. (Catherine David)\", \"female\", 45.0, 0, 1, \"2691\", 14.4542, \"NaN\", \"C\", 0], [364, 0, 3, \"Asim, Mr. Adola\", \"male\", 35.0, 0, 0, \"SOTON/O.Q. 3101310\", 7.05, \"NaN\", \"S\", 0], [365, 0, 3, \"O'Brien, Mr. Thomas\", \"male\", NaN, 1, 0, \"370365\", 15.5, \"NaN\", \"Q\", 0], [366, 0, 3, \"Adahl, Mr. Mauritz Nils Martin\", \"male\", 30.0, 0, 0, \"C 7076\", 7.25, \"NaN\", \"S\", 0], [367, 1, 1, \"Warren, Mrs. Frank Manley (Anna Sophia Atkinson)\", \"female\", 60.0, 1, 0, \"110813\", 75.25, \"D37\", \"C\", 0], [368, 1, 3, \"Moussa, Mrs. (Mantoura Boulos)\", \"female\", NaN, 0, 0, \"2626\", 7.2292, \"NaN\", \"C\", 0], [369, 1, 3, \"Jermyn, Miss. Annie\", \"female\", NaN, 0, 0, \"14313\", 7.75, \"NaN\", \"Q\", 0], [370, 1, 1, \"Aubart, Mme. Leontine Pauline\", \"female\", 24.0, 0, 0, \"PC 17477\", 69.3, \"B35\", \"C\", 0], [371, 1, 1, \"Harder, Mr. George Achilles\", \"male\", 25.0, 1, 0, \"11765\", 55.4417, \"E50\", \"C\", 0], [372, 0, 3, \"Wiklund, Mr. Jakob Alfred\", \"male\", 18.0, 1, 0, \"3101267\", 6.4958, \"NaN\", \"S\", 0], [373, 0, 3, \"Beavan, Mr. William Thomas\", \"male\", 19.0, 0, 0, \"323951\", 8.05, \"NaN\", \"S\", 0], [374, 0, 1, \"Ringhini, Mr. Sante\", \"male\", 22.0, 0, 0, \"PC 17760\", 135.6333, \"NaN\", \"C\", 0], [375, 0, 3, \"Palsson, Miss. Stina Viola\", \"female\", 3.0, 3, 1, \"349909\", 21.075, \"NaN\", \"S\", 1], [376, 1, 1, \"Meyer, Mrs. Edgar Joseph (Leila Saks)\", \"female\", NaN, 1, 0, \"PC 17604\", 82.1708, \"NaN\", \"C\", 0], [377, 1, 3, \"Landergren, Miss. Aurora Adelia\", \"female\", 22.0, 0, 0, \"C 7077\", 7.25, \"NaN\", \"S\", 0], [378, 0, 1, \"Widener, Mr. Harry Elkins\", \"male\", 27.0, 0, 2, \"113503\", 211.5, \"C82\", \"C\", 0], [379, 0, 3, \"Betros, Mr. Tannous\", \"male\", 20.0, 0, 0, \"2648\", 4.0125, \"NaN\", \"C\", 0], [380, 0, 3, \"Gustafsson, Mr. Karl Gideon\", \"male\", 19.0, 0, 0, \"347069\", 7.775, \"NaN\", \"S\", 0], [381, 1, 1, \"Bidois, Miss. Rosalie\", \"female\", 42.0, 0, 0, \"PC 17757\", 227.525, \"NaN\", \"C\", 0], [382, 1, 3, \"Nakid, Miss. Maria (\\\"Mary\\\")\", \"female\", 1.0, 0, 2, \"2653\", 15.7417, \"NaN\", \"C\", 1], [383, 0, 3, \"Tikkanen, Mr. Juho\", \"male\", 32.0, 0, 0, \"STON/O 2. 3101293\", 7.925, \"NaN\", \"S\", 0], [384, 1, 1, \"Holverson, Mrs. Alexander Oskar (Mary Aline Towner)\", \"female\", 35.0, 1, 0, \"113789\", 52.0, \"NaN\", \"S\", 0], [385, 0, 3, \"Plotcharsky, Mr. Vasil\", \"male\", NaN, 0, 0, \"349227\", 7.8958, \"NaN\", \"S\", 0], [386, 0, 2, \"Davies, Mr. Charles Henry\", \"male\", 18.0, 0, 0, \"S.O.C. 14879\", 73.5, \"NaN\", \"S\", 0], [387, 0, 3, \"Goodwin, Master. Sidney Leonard\", \"male\", 1.0, 5, 2, \"CA 2144\", 46.9, \"NaN\", \"S\", 1], [388, 1, 2, \"Buss, Miss. Kate\", \"female\", 36.0, 0, 0, \"27849\", 13.0, \"NaN\", \"S\", 0], [389, 0, 3, \"Sadlier, Mr. Matthew\", \"male\", NaN, 0, 0, \"367655\", 7.7292, \"NaN\", \"Q\", 0], [390, 1, 2, \"Lehmann, Miss. Bertha\", \"female\", 17.0, 0, 0, \"SC 1748\", 12.0, \"NaN\", \"C\", 1], [391, 1, 1, \"Carter, Mr. William Ernest\", \"male\", 36.0, 1, 2, \"113760\", 120.0, \"B96 B98\", \"S\", 0], [392, 1, 3, \"Jansson, Mr. Carl Olof\", \"male\", 21.0, 0, 0, \"350034\", 7.7958, \"NaN\", \"S\", 0], [393, 0, 3, \"Gustafsson, Mr. Johan Birger\", \"male\", 28.0, 2, 0, \"3101277\", 7.925, \"NaN\", \"S\", 0], [394, 1, 1, \"Newell, Miss. Marjorie\", \"female\", 23.0, 1, 0, \"35273\", 113.275, \"D36\", \"C\", 0], [395, 1, 3, \"Sandstrom, Mrs. Hjalmar (Agnes Charlotta Bengtsson)\", \"female\", 24.0, 0, 2, \"PP 9549\", 16.7, \"G6\", \"S\", 0], [396, 0, 3, \"Johansson, Mr. Erik\", \"male\", 22.0, 0, 0, \"350052\", 7.7958, \"NaN\", \"S\", 0], [397, 0, 3, \"Olsson, Miss. Elina\", \"female\", 31.0, 0, 0, \"350407\", 7.8542, \"NaN\", \"S\", 0], [398, 0, 2, \"McKane, Mr. Peter David\", \"male\", 46.0, 0, 0, \"28403\", 26.0, \"NaN\", \"S\", 0], [399, 0, 2, \"Pain, Dr. Alfred\", \"male\", 23.0, 0, 0, \"244278\", 10.5, \"NaN\", \"S\", 0], [400, 1, 2, \"Trout, Mrs. William H (Jessie L)\", \"female\", 28.0, 0, 0, \"240929\", 12.65, \"NaN\", \"S\", 0], [401, 1, 3, \"Niskanen, Mr. Juha\", \"male\", 39.0, 0, 0, \"STON/O 2. 3101289\", 7.925, \"NaN\", \"S\", 0], [402, 0, 3, \"Adams, Mr. John\", \"male\", 26.0, 0, 0, \"341826\", 8.05, \"NaN\", \"S\", 0], [403, 0, 3, \"Jussila, Miss. Mari Aina\", \"female\", 21.0, 1, 0, \"4137\", 9.825, \"NaN\", \"S\", 0], [404, 0, 3, \"Hakkarainen, Mr. Pekka Pietari\", \"male\", 28.0, 1, 0, \"STON/O2. 3101279\", 15.85, \"NaN\", \"S\", 0], [405, 0, 3, \"Oreskovic, Miss. Marija\", \"female\", 20.0, 0, 0, \"315096\", 8.6625, \"NaN\", \"S\", 0], [406, 0, 2, \"Gale, Mr. Shadrach\", \"male\", 34.0, 1, 0, \"28664\", 21.0, \"NaN\", \"S\", 0], [407, 0, 3, \"Widegren, Mr. Carl/Charles Peter\", \"male\", 51.0, 0, 0, \"347064\", 7.75, \"NaN\", \"S\", 0], [408, 1, 2, \"Richards, Master. William Rowe\", \"male\", 3.0, 1, 1, \"29106\", 18.75, \"NaN\", \"S\", 1], [409, 0, 3, \"Birkeland, Mr. Hans Martin Monsen\", \"male\", 21.0, 0, 0, \"312992\", 7.775, \"NaN\", \"S\", 0], [410, 0, 3, \"Lefebre, Miss. Ida\", \"female\", NaN, 3, 1, \"4133\", 25.4667, \"NaN\", \"S\", 0], [411, 0, 3, \"Sdycoff, Mr. Todor\", \"male\", NaN, 0, 0, \"349222\", 7.8958, \"NaN\", \"S\", 0], [412, 0, 3, \"Hart, Mr. Henry\", \"male\", NaN, 0, 0, \"394140\", 6.8583, \"NaN\", \"Q\", 0], [413, 1, 1, \"Minahan, Miss. Daisy E\", \"female\", 33.0, 1, 0, \"19928\", 90.0, \"C78\", \"Q\", 0], [414, 0, 2, \"Cunningham, Mr. Alfred Fleming\", \"male\", NaN, 0, 0, \"239853\", 0.0, \"NaN\", \"S\", 0], [415, 1, 3, \"Sundman, Mr. Johan Julian\", \"male\", 44.0, 0, 0, \"STON/O 2. 3101269\", 7.925, \"NaN\", \"S\", 0], [416, 0, 3, \"Meek, Mrs. Thomas (Annie Louise Rowley)\", \"female\", NaN, 0, 0, \"343095\", 8.05, \"NaN\", \"S\", 0], [417, 1, 2, \"Drew, Mrs. James Vivian (Lulu Thorne Christian)\", \"female\", 34.0, 1, 1, \"28220\", 32.5, \"NaN\", \"S\", 0], [418, 1, 2, \"Silven, Miss. Lyyli Karoliina\", \"female\", 18.0, 0, 2, \"250652\", 13.0, \"NaN\", \"S\", 0], [419, 0, 2, \"Matthews, Mr. William John\", \"male\", 30.0, 0, 0, \"28228\", 13.0, \"NaN\", \"S\", 0], [420, 0, 3, \"Van Impe, Miss. Catharina\", \"female\", 10.0, 0, 2, \"345773\", 24.15, \"NaN\", \"S\", 1], [421, 0, 3, \"Gheorgheff, Mr. Stanio\", \"male\", NaN, 0, 0, \"349254\", 7.8958, \"NaN\", \"C\", 0], [422, 0, 3, \"Charters, Mr. David\", \"male\", 21.0, 0, 0, \"A/5. 13032\", 7.7333, \"NaN\", \"Q\", 0], [423, 0, 3, \"Zimmerman, Mr. Leo\", \"male\", 29.0, 0, 0, \"315082\", 7.875, \"NaN\", \"S\", 0], [424, 0, 3, \"Danbom, Mrs. Ernst Gilbert (Anna Sigrid Maria Brogren)\", \"female\", 28.0, 1, 1, \"347080\", 14.4, \"NaN\", \"S\", 0], [425, 0, 3, \"Rosblom, Mr. Viktor Richard\", \"male\", 18.0, 1, 1, \"370129\", 20.2125, \"NaN\", \"S\", 0], [426, 0, 3, \"Wiseman, Mr. Phillippe\", \"male\", NaN, 0, 0, \"A/4. 34244\", 7.25, \"NaN\", \"S\", 0], [427, 1, 2, \"Clarke, Mrs. Charles V (Ada Maria Winfield)\", \"female\", 28.0, 1, 0, \"2003\", 26.0, \"NaN\", \"S\", 0], [428, 1, 2, \"Phillips, Miss. Kate Florence (\\\"Mrs Kate Louise Phillips Marshall\\\")\", \"female\", 19.0, 0, 0, \"250655\", 26.0, \"NaN\", \"S\", 0], [429, 0, 3, \"Flynn, Mr. James\", \"male\", NaN, 0, 0, \"364851\", 7.75, \"NaN\", \"Q\", 0], [430, 1, 3, \"Pickard, Mr. Berk (Berk Trembisky)\", \"male\", 32.0, 0, 0, \"SOTON/O.Q. 392078\", 8.05, \"E10\", \"S\", 0], [431, 1, 1, \"Bjornstrom-Steffansson, Mr. Mauritz Hakan\", \"male\", 28.0, 0, 0, \"110564\", 26.55, \"C52\", \"S\", 0], [432, 1, 3, \"Thorneycroft, Mrs. Percival (Florence Kate White)\", \"female\", NaN, 1, 0, \"376564\", 16.1, \"NaN\", \"S\", 0], [433, 1, 2, \"Louch, Mrs. Charles Alexander (Alice Adelaide Slow)\", \"female\", 42.0, 1, 0, \"SC/AH 3085\", 26.0, \"NaN\", \"S\", 0], [434, 0, 3, \"Kallio, Mr. Nikolai Erland\", \"male\", 17.0, 0, 0, \"STON/O 2. 3101274\", 7.125, \"NaN\", \"S\", 1], [435, 0, 1, \"Silvey, Mr. William Baird\", \"male\", 50.0, 1, 0, \"13507\", 55.9, \"E44\", \"S\", 0], [436, 1, 1, \"Carter, Miss. Lucile Polk\", \"female\", 14.0, 1, 2, \"113760\", 120.0, \"B96 B98\", \"S\", 1], [437, 0, 3, \"Ford, Miss. Doolina Margaret \\\"Daisy\\\"\", \"female\", 21.0, 2, 2, \"W./C. 6608\", 34.375, \"NaN\", \"S\", 0], [438, 1, 2, \"Richards, Mrs. Sidney (Emily Hocking)\", \"female\", 24.0, 2, 3, \"29106\", 18.75, \"NaN\", \"S\", 0], [439, 0, 1, \"Fortune, Mr. Mark\", \"male\", 64.0, 1, 4, \"19950\", 263.0, \"C23 C25 C27\", \"S\", 0], [440, 0, 2, \"Kvillner, Mr. Johan Henrik Johannesson\", \"male\", 31.0, 0, 0, \"C.A. 18723\", 10.5, \"NaN\", \"S\", 0], [441, 1, 2, \"Hart, Mrs. Benjamin (Esther Ada Bloomfield)\", \"female\", 45.0, 1, 1, \"F.C.C. 13529\", 26.25, \"NaN\", \"S\", 0], [442, 0, 3, \"Hampe, Mr. Leon\", \"male\", 20.0, 0, 0, \"345769\", 9.5, \"NaN\", \"S\", 0], [443, 0, 3, \"Petterson, Mr. Johan Emil\", \"male\", 25.0, 1, 0, \"347076\", 7.775, \"NaN\", \"S\", 0], [444, 1, 2, \"Reynaldo, Ms. Encarnacion\", \"female\", 28.0, 0, 0, \"230434\", 13.0, \"NaN\", \"S\", 0], [445, 1, 3, \"Johannesen-Bratthammer, Mr. Bernt\", \"male\", NaN, 0, 0, \"65306\", 8.1125, \"NaN\", \"S\", 0], [446, 1, 1, \"Dodge, Master. Washington\", \"male\", 4.0, 0, 2, \"33638\", 81.8583, \"A34\", \"S\", 1], [447, 1, 2, \"Mellinger, Miss. Madeleine Violet\", \"female\", 13.0, 0, 1, \"250644\", 19.5, \"NaN\", \"S\", 1], [448, 1, 1, \"Seward, Mr. Frederic Kimber\", \"male\", 34.0, 0, 0, \"113794\", 26.55, \"NaN\", \"S\", 0], [449, 1, 3, \"Baclini, Miss. Marie Catherine\", \"female\", 5.0, 2, 1, \"2666\", 19.2583, \"NaN\", \"C\", 1], [450, 1, 1, \"Peuchen, Major. Arthur Godfrey\", \"male\", 52.0, 0, 0, \"113786\", 30.5, \"C104\", \"S\", 0], [451, 0, 2, \"West, Mr. Edwy Arthur\", \"male\", 36.0, 1, 2, \"C.A. 34651\", 27.75, \"NaN\", \"S\", 0], [452, 0, 3, \"Hagland, Mr. Ingvald Olai Olsen\", \"male\", NaN, 1, 0, \"65303\", 19.9667, \"NaN\", \"S\", 0], [453, 0, 1, \"Foreman, Mr. Benjamin Laventall\", \"male\", 30.0, 0, 0, \"113051\", 27.75, \"C111\", \"C\", 0], [454, 1, 1, \"Goldenberg, Mr. Samuel L\", \"male\", 49.0, 1, 0, \"17453\", 89.1042, \"C92\", \"C\", 0], [455, 0, 3, \"Peduzzi, Mr. Joseph\", \"male\", NaN, 0, 0, \"A/5 2817\", 8.05, \"NaN\", \"S\", 0], [456, 1, 3, \"Jalsevac, Mr. Ivan\", \"male\", 29.0, 0, 0, \"349240\", 7.8958, \"NaN\", \"C\", 0], [457, 0, 1, \"Millet, Mr. Francis Davis\", \"male\", 65.0, 0, 0, \"13509\", 26.55, \"E38\", \"S\", 0], [458, 1, 1, \"Kenyon, Mrs. Frederick R (Marion)\", \"female\", NaN, 1, 0, \"17464\", 51.8625, \"D21\", \"S\", 0], [459, 1, 2, \"Toomey, Miss. Ellen\", \"female\", 50.0, 0, 0, \"F.C.C. 13531\", 10.5, \"NaN\", \"S\", 0], [460, 0, 3, \"O'Connor, Mr. Maurice\", \"male\", NaN, 0, 0, \"371060\", 7.75, \"NaN\", \"Q\", 0], [461, 1, 1, \"Anderson, Mr. Harry\", \"male\", 48.0, 0, 0, \"19952\", 26.55, \"E12\", \"S\", 0], [462, 0, 3, \"Morley, Mr. William\", \"male\", 34.0, 0, 0, \"364506\", 8.05, \"NaN\", \"S\", 0], [463, 0, 1, \"Gee, Mr. Arthur H\", \"male\", 47.0, 0, 0, \"111320\", 38.5, \"E63\", \"S\", 0], [464, 0, 2, \"Milling, Mr. Jacob Christian\", \"male\", 48.0, 0, 0, \"234360\", 13.0, \"NaN\", \"S\", 0], [465, 0, 3, \"Maisner, Mr. Simon\", \"male\", NaN, 0, 0, \"A/S 2816\", 8.05, \"NaN\", \"S\", 0], [466, 0, 3, \"Goncalves, Mr. Manuel Estanslas\", \"male\", 38.0, 0, 0, \"SOTON/O.Q. 3101306\", 7.05, \"NaN\", \"S\", 0], [467, 0, 2, \"Campbell, Mr. William\", \"male\", NaN, 0, 0, \"239853\", 0.0, \"NaN\", \"S\", 0], [468, 0, 1, \"Smart, Mr. John Montgomery\", \"male\", 56.0, 0, 0, \"113792\", 26.55, \"NaN\", \"S\", 0], [469, 0, 3, \"Scanlan, Mr. James\", \"male\", NaN, 0, 0, \"36209\", 7.725, \"NaN\", \"Q\", 0], [470, 1, 3, \"Baclini, Miss. Helene Barbara\", \"female\", 0.75, 2, 1, \"2666\", 19.2583, \"NaN\", \"C\", 1], [471, 0, 3, \"Keefe, Mr. Arthur\", \"male\", NaN, 0, 0, \"323592\", 7.25, \"NaN\", \"S\", 0], [472, 0, 3, \"Cacic, Mr. Luka\", \"male\", 38.0, 0, 0, \"315089\", 8.6625, \"NaN\", \"S\", 0], [473, 1, 2, \"West, Mrs. Edwy Arthur (Ada Mary Worth)\", \"female\", 33.0, 1, 2, \"C.A. 34651\", 27.75, \"NaN\", \"S\", 0], [474, 1, 2, \"Jerwan, Mrs. Amin S (Marie Marthe Thuillard)\", \"female\", 23.0, 0, 0, \"SC/AH Basle 541\", 13.7917, \"D\", \"C\", 0], [475, 0, 3, \"Strandberg, Miss. Ida Sofia\", \"female\", 22.0, 0, 0, \"7553\", 9.8375, \"NaN\", \"S\", 0], [476, 0, 1, \"Clifford, Mr. George Quincy\", \"male\", NaN, 0, 0, \"110465\", 52.0, \"A14\", \"S\", 0], [477, 0, 2, \"Renouf, Mr. Peter Henry\", \"male\", 34.0, 1, 0, \"31027\", 21.0, \"NaN\", \"S\", 0], [478, 0, 3, \"Braund, Mr. Lewis Richard\", \"male\", 29.0, 1, 0, \"3460\", 7.0458, \"NaN\", \"S\", 0], [479, 0, 3, \"Karlsson, Mr. Nils August\", \"male\", 22.0, 0, 0, \"350060\", 7.5208, \"NaN\", \"S\", 0], [480, 1, 3, \"Hirvonen, Miss. Hildur E\", \"female\", 2.0, 0, 1, \"3101298\", 12.2875, \"NaN\", \"S\", 1], [481, 0, 3, \"Goodwin, Master. Harold Victor\", \"male\", 9.0, 5, 2, \"CA 2144\", 46.9, \"NaN\", \"S\", 1], [482, 0, 2, \"Frost, Mr. Anthony Wood \\\"Archie\\\"\", \"male\", NaN, 0, 0, \"239854\", 0.0, \"NaN\", \"S\", 0], [483, 0, 3, \"Rouse, Mr. Richard Henry\", \"male\", 50.0, 0, 0, \"A/5 3594\", 8.05, \"NaN\", \"S\", 0], [484, 1, 3, \"Turkula, Mrs. (Hedwig)\", \"female\", 63.0, 0, 0, \"4134\", 9.5875, \"NaN\", \"S\", 0], [485, 1, 1, \"Bishop, Mr. Dickinson H\", \"male\", 25.0, 1, 0, \"11967\", 91.0792, \"B49\", \"C\", 0], [486, 0, 3, \"Lefebre, Miss. Jeannie\", \"female\", NaN, 3, 1, \"4133\", 25.4667, \"NaN\", \"S\", 0], [487, 1, 1, \"Hoyt, Mrs. Frederick Maxfield (Jane Anne Forby)\", \"female\", 35.0, 1, 0, \"19943\", 90.0, \"C93\", \"S\", 0], [488, 0, 1, \"Kent, Mr. Edward Austin\", \"male\", 58.0, 0, 0, \"11771\", 29.7, \"B37\", \"C\", 0], [489, 0, 3, \"Somerton, Mr. Francis William\", \"male\", 30.0, 0, 0, \"A.5. 18509\", 8.05, \"NaN\", \"S\", 0], [490, 1, 3, \"Coutts, Master. Eden Leslie \\\"Neville\\\"\", \"male\", 9.0, 1, 1, \"C.A. 37671\", 15.9, \"NaN\", \"S\", 1], [491, 0, 3, \"Hagland, Mr. Konrad Mathias Reiersen\", \"male\", NaN, 1, 0, \"65304\", 19.9667, \"NaN\", \"S\", 0], [492, 0, 3, \"Windelov, Mr. Einar\", \"male\", 21.0, 0, 0, \"SOTON/OQ 3101317\", 7.25, \"NaN\", \"S\", 0], [493, 0, 1, \"Molson, Mr. Harry Markland\", \"male\", 55.0, 0, 0, \"113787\", 30.5, \"C30\", \"S\", 0], [494, 0, 1, \"Artagaveytia, Mr. Ramon\", \"male\", 71.0, 0, 0, \"PC 17609\", 49.5042, \"NaN\", \"C\", 0], [495, 0, 3, \"Stanley, Mr. Edward Roland\", \"male\", 21.0, 0, 0, \"A/4 45380\", 8.05, \"NaN\", \"S\", 0], [496, 0, 3, \"Yousseff, Mr. Gerious\", \"male\", NaN, 0, 0, \"2627\", 14.4583, \"NaN\", \"C\", 0], [497, 1, 1, \"Eustis, Miss. Elizabeth Mussey\", \"female\", 54.0, 1, 0, \"36947\", 78.2667, \"D20\", \"C\", 0], [498, 0, 3, \"Shellard, Mr. Frederick William\", \"male\", NaN, 0, 0, \"C.A. 6212\", 15.1, \"NaN\", \"S\", 0], [499, 0, 1, \"Allison, Mrs. Hudson J C (Bessie Waldo Daniels)\", \"female\", 25.0, 1, 2, \"113781\", 151.55, \"C22 C26\", \"S\", 0], [500, 0, 3, \"Svensson, Mr. Olof\", \"male\", 24.0, 0, 0, \"350035\", 7.7958, \"NaN\", \"S\", 0], [501, 0, 3, \"Calic, Mr. Petar\", \"male\", 17.0, 0, 0, \"315086\", 8.6625, \"NaN\", \"S\", 1], [502, 0, 3, \"Canavan, Miss. Mary\", \"female\", 21.0, 0, 0, \"364846\", 7.75, \"NaN\", \"Q\", 0], [503, 0, 3, \"O'Sullivan, Miss. Bridget Mary\", \"female\", NaN, 0, 0, \"330909\", 7.6292, \"NaN\", \"Q\", 0], [504, 0, 3, \"Laitinen, Miss. Kristina Sofia\", \"female\", 37.0, 0, 0, \"4135\", 9.5875, \"NaN\", \"S\", 0], [505, 1, 1, \"Maioni, Miss. Roberta\", \"female\", 16.0, 0, 0, \"110152\", 86.5, \"B79\", \"S\", 1], [506, 0, 1, \"Penasco y Castellana, Mr. Victor de Satode\", \"male\", 18.0, 1, 0, \"PC 17758\", 108.9, \"C65\", \"C\", 0], [507, 1, 2, \"Quick, Mrs. Frederick Charles (Jane Richards)\", \"female\", 33.0, 0, 2, \"26360\", 26.0, \"NaN\", \"S\", 0], [508, 1, 1, \"Bradley, Mr. George (\\\"George Arthur Brayton\\\")\", \"male\", NaN, 0, 0, \"111427\", 26.55, \"NaN\", \"S\", 0], [509, 0, 3, \"Olsen, Mr. Henry Margido\", \"male\", 28.0, 0, 0, \"C 4001\", 22.525, \"NaN\", \"S\", 0], [510, 1, 3, \"Lang, Mr. Fang\", \"male\", 26.0, 0, 0, \"1601\", 56.4958, \"NaN\", \"S\", 0], [511, 1, 3, \"Daly, Mr. Eugene Patrick\", \"male\", 29.0, 0, 0, \"382651\", 7.75, \"NaN\", \"Q\", 0], [512, 0, 3, \"Webber, Mr. James\", \"male\", NaN, 0, 0, \"SOTON/OQ 3101316\", 8.05, \"NaN\", \"S\", 0], [513, 1, 1, \"McGough, Mr. James Robert\", \"male\", 36.0, 0, 0, \"PC 17473\", 26.2875, \"E25\", \"S\", 0], [514, 1, 1, \"Rothschild, Mrs. Martin (Elizabeth L. Barrett)\", \"female\", 54.0, 1, 0, \"PC 17603\", 59.4, \"NaN\", \"C\", 0], [515, 0, 3, \"Coleff, Mr. Satio\", \"male\", 24.0, 0, 0, \"349209\", 7.4958, \"NaN\", \"S\", 0], [516, 0, 1, \"Walker, Mr. William Anderson\", \"male\", 47.0, 0, 0, \"36967\", 34.0208, \"D46\", \"S\", 0], [517, 1, 2, \"Lemore, Mrs. (Amelia Milley)\", \"female\", 34.0, 0, 0, \"C.A. 34260\", 10.5, \"F33\", \"S\", 0], [518, 0, 3, \"Ryan, Mr. Patrick\", \"male\", NaN, 0, 0, \"371110\", 24.15, \"NaN\", \"Q\", 0], [519, 1, 2, \"Angle, Mrs. William A (Florence \\\"Mary\\\" Agnes Hughes)\", \"female\", 36.0, 1, 0, \"226875\", 26.0, \"NaN\", \"S\", 0], [520, 0, 3, \"Pavlovic, Mr. Stefo\", \"male\", 32.0, 0, 0, \"349242\", 7.8958, \"NaN\", \"S\", 0], [521, 1, 1, \"Perreault, Miss. Anne\", \"female\", 30.0, 0, 0, \"12749\", 93.5, \"B73\", \"S\", 0], [522, 0, 3, \"Vovk, Mr. Janko\", \"male\", 22.0, 0, 0, \"349252\", 7.8958, \"NaN\", \"S\", 0], [523, 0, 3, \"Lahoud, Mr. Sarkis\", \"male\", NaN, 0, 0, \"2624\", 7.225, \"NaN\", \"C\", 0], [524, 1, 1, \"Hippach, Mrs. Louis Albert (Ida Sophia Fischer)\", \"female\", 44.0, 0, 1, \"111361\", 57.9792, \"B18\", \"C\", 0], [525, 0, 3, \"Kassem, Mr. Fared\", \"male\", NaN, 0, 0, \"2700\", 7.2292, \"NaN\", \"C\", 0], [526, 0, 3, \"Farrell, Mr. James\", \"male\", 40.5, 0, 0, \"367232\", 7.75, \"NaN\", \"Q\", 0], [527, 1, 2, \"Ridsdale, Miss. Lucy\", \"female\", 50.0, 0, 0, \"W./C. 14258\", 10.5, \"NaN\", \"S\", 0], [528, 0, 1, \"Farthing, Mr. John\", \"male\", NaN, 0, 0, \"PC 17483\", 221.7792, \"C95\", \"S\", 0], [529, 0, 3, \"Salonen, Mr. Johan Werner\", \"male\", 39.0, 0, 0, \"3101296\", 7.925, \"NaN\", \"S\", 0], [530, 0, 2, \"Hocking, Mr. Richard George\", \"male\", 23.0, 2, 1, \"29104\", 11.5, \"NaN\", \"S\", 0], [531, 1, 2, \"Quick, Miss. Phyllis May\", \"female\", 2.0, 1, 1, \"26360\", 26.0, \"NaN\", \"S\", 1], [532, 0, 3, \"Toufik, Mr. Nakli\", \"male\", NaN, 0, 0, \"2641\", 7.2292, \"NaN\", \"C\", 0], [533, 0, 3, \"Elias, Mr. Joseph Jr\", \"male\", 17.0, 1, 1, \"2690\", 7.2292, \"NaN\", \"C\", 1], [534, 1, 3, \"Peter, Mrs. Catherine (Catherine Rizk)\", \"female\", NaN, 0, 2, \"2668\", 22.3583, \"NaN\", \"C\", 0], [535, 0, 3, \"Cacic, Miss. Marija\", \"female\", 30.0, 0, 0, \"315084\", 8.6625, \"NaN\", \"S\", 0], [536, 1, 2, \"Hart, Miss. Eva Miriam\", \"female\", 7.0, 0, 2, \"F.C.C. 13529\", 26.25, \"NaN\", \"S\", 1], [537, 0, 1, \"Butt, Major. Archibald Willingham\", \"male\", 45.0, 0, 0, \"113050\", 26.55, \"B38\", \"S\", 0], [538, 1, 1, \"LeRoy, Miss. Bertha\", \"female\", 30.0, 0, 0, \"PC 17761\", 106.425, \"NaN\", \"C\", 0], [539, 0, 3, \"Risien, Mr. Samuel Beard\", \"male\", NaN, 0, 0, \"364498\", 14.5, \"NaN\", \"S\", 0], [540, 1, 1, \"Frolicher, Miss. Hedwig Margaritha\", \"female\", 22.0, 0, 2, \"13568\", 49.5, \"B39\", \"C\", 0], [541, 1, 1, \"Crosby, Miss. Harriet R\", \"female\", 36.0, 0, 2, \"WE/P 5735\", 71.0, \"B22\", \"S\", 0], [542, 0, 3, \"Andersson, Miss. Ingeborg Constanzia\", \"female\", 9.0, 4, 2, \"347082\", 31.275, \"NaN\", \"S\", 1], [543, 0, 3, \"Andersson, Miss. Sigrid Elisabeth\", \"female\", 11.0, 4, 2, \"347082\", 31.275, \"NaN\", \"S\", 1], [544, 1, 2, \"Beane, Mr. Edward\", \"male\", 32.0, 1, 0, \"2908\", 26.0, \"NaN\", \"S\", 0], [545, 0, 1, \"Douglas, Mr. Walter Donald\", \"male\", 50.0, 1, 0, \"PC 17761\", 106.425, \"C86\", \"C\", 0], [546, 0, 1, \"Nicholson, Mr. Arthur Ernest\", \"male\", 64.0, 0, 0, \"693\", 26.0, \"NaN\", \"S\", 0], [547, 1, 2, \"Beane, Mrs. Edward (Ethel Clarke)\", \"female\", 19.0, 1, 0, \"2908\", 26.0, \"NaN\", \"S\", 0], [548, 1, 2, \"Padro y Manent, Mr. Julian\", \"male\", NaN, 0, 0, \"SC/PARIS 2146\", 13.8625, \"NaN\", \"C\", 0], [549, 0, 3, \"Goldsmith, Mr. Frank John\", \"male\", 33.0, 1, 1, \"363291\", 20.525, \"NaN\", \"S\", 0], [550, 1, 2, \"Davies, Master. John Morgan Jr\", \"male\", 8.0, 1, 1, \"C.A. 33112\", 36.75, \"NaN\", \"S\", 1], [551, 1, 1, \"Thayer, Mr. John Borland Jr\", \"male\", 17.0, 0, 2, \"17421\", 110.8833, \"C70\", \"C\", 1], [552, 0, 2, \"Sharp, Mr. Percival James R\", \"male\", 27.0, 0, 0, \"244358\", 26.0, \"NaN\", \"S\", 0], [553, 0, 3, \"O'Brien, Mr. Timothy\", \"male\", NaN, 0, 0, \"330979\", 7.8292, \"NaN\", \"Q\", 0], [554, 1, 3, \"Leeni, Mr. Fahim (\\\"Philip Zenni\\\")\", \"male\", 22.0, 0, 0, \"2620\", 7.225, \"NaN\", \"C\", 0], [555, 1, 3, \"Ohman, Miss. Velin\", \"female\", 22.0, 0, 0, \"347085\", 7.775, \"NaN\", \"S\", 0], [556, 0, 1, \"Wright, Mr. George\", \"male\", 62.0, 0, 0, \"113807\", 26.55, \"NaN\", \"S\", 0], [557, 1, 1, \"Duff Gordon, Lady. (Lucille Christiana Sutherland) (\\\"Mrs Morgan\\\")\", \"female\", 48.0, 1, 0, \"11755\", 39.6, \"A16\", \"C\", 0], [558, 0, 1, \"Robbins, Mr. Victor\", \"male\", NaN, 0, 0, \"PC 17757\", 227.525, \"NaN\", \"C\", 0], [559, 1, 1, \"Taussig, Mrs. Emil (Tillie Mandelbaum)\", \"female\", 39.0, 1, 1, \"110413\", 79.65, \"E67\", \"S\", 0], [560, 1, 3, \"de Messemaeker, Mrs. Guillaume Joseph (Emma)\", \"female\", 36.0, 1, 0, \"345572\", 17.4, \"NaN\", \"S\", 0], [561, 0, 3, \"Morrow, Mr. Thomas Rowan\", \"male\", NaN, 0, 0, \"372622\", 7.75, \"NaN\", \"Q\", 0], [562, 0, 3, \"Sivic, Mr. Husein\", \"male\", 40.0, 0, 0, \"349251\", 7.8958, \"NaN\", \"S\", 0], [563, 0, 2, \"Norman, Mr. Robert Douglas\", \"male\", 28.0, 0, 0, \"218629\", 13.5, \"NaN\", \"S\", 0], [564, 0, 3, \"Simmons, Mr. John\", \"male\", NaN, 0, 0, \"SOTON/OQ 392082\", 8.05, \"NaN\", \"S\", 0], [565, 0, 3, \"Meanwell, Miss. (Marion Ogden)\", \"female\", NaN, 0, 0, \"SOTON/O.Q. 392087\", 8.05, \"NaN\", \"S\", 0], [566, 0, 3, \"Davies, Mr. Alfred J\", \"male\", 24.0, 2, 0, \"A/4 48871\", 24.15, \"NaN\", \"S\", 0], [567, 0, 3, \"Stoytcheff, Mr. Ilia\", \"male\", 19.0, 0, 0, \"349205\", 7.8958, \"NaN\", \"S\", 0], [568, 0, 3, \"Palsson, Mrs. Nils (Alma Cornelia Berglund)\", \"female\", 29.0, 0, 4, \"349909\", 21.075, \"NaN\", \"S\", 0], [569, 0, 3, \"Doharr, Mr. Tannous\", \"male\", NaN, 0, 0, \"2686\", 7.2292, \"NaN\", \"C\", 0], [570, 1, 3, \"Jonsson, Mr. Carl\", \"male\", 32.0, 0, 0, \"350417\", 7.8542, \"NaN\", \"S\", 0], [571, 1, 2, \"Harris, Mr. George\", \"male\", 62.0, 0, 0, \"S.W./PP 752\", 10.5, \"NaN\", \"S\", 0], [572, 1, 1, \"Appleton, Mrs. Edward Dale (Charlotte Lamson)\", \"female\", 53.0, 2, 0, \"11769\", 51.4792, \"C101\", \"S\", 0], [573, 1, 1, \"Flynn, Mr. John Irwin (\\\"Irving\\\")\", \"male\", 36.0, 0, 0, \"PC 17474\", 26.3875, \"E25\", \"S\", 0], [574, 1, 3, \"Kelly, Miss. Mary\", \"female\", NaN, 0, 0, \"14312\", 7.75, \"NaN\", \"Q\", 0], [575, 0, 3, \"Rush, Mr. Alfred George John\", \"male\", 16.0, 0, 0, \"A/4. 20589\", 8.05, \"NaN\", \"S\", 1], [576, 0, 3, \"Patchett, Mr. George\", \"male\", 19.0, 0, 0, \"358585\", 14.5, \"NaN\", \"S\", 0], [577, 1, 2, \"Garside, Miss. Ethel\", \"female\", 34.0, 0, 0, \"243880\", 13.0, \"NaN\", \"S\", 0], [578, 1, 1, \"Silvey, Mrs. William Baird (Alice Munger)\", \"female\", 39.0, 1, 0, \"13507\", 55.9, \"E44\", \"S\", 0], [579, 0, 3, \"Caram, Mrs. Joseph (Maria Elias)\", \"female\", NaN, 1, 0, \"2689\", 14.4583, \"NaN\", \"C\", 0], [580, 1, 3, \"Jussila, Mr. Eiriik\", \"male\", 32.0, 0, 0, \"STON/O 2. 3101286\", 7.925, \"NaN\", \"S\", 0], [581, 1, 2, \"Christy, Miss. Julie Rachel\", \"female\", 25.0, 1, 1, \"237789\", 30.0, \"NaN\", \"S\", 0], [582, 1, 1, \"Thayer, Mrs. John Borland (Marian Longstreth Morris)\", \"female\", 39.0, 1, 1, \"17421\", 110.8833, \"C68\", \"C\", 0], [583, 0, 2, \"Downton, Mr. William James\", \"male\", 54.0, 0, 0, \"28403\", 26.0, \"NaN\", \"S\", 0], [584, 0, 1, \"Ross, Mr. John Hugo\", \"male\", 36.0, 0, 0, \"13049\", 40.125, \"A10\", \"C\", 0], [585, 0, 3, \"Paulner, Mr. Uscher\", \"male\", NaN, 0, 0, \"3411\", 8.7125, \"NaN\", \"C\", 0], [586, 1, 1, \"Taussig, Miss. Ruth\", \"female\", 18.0, 0, 2, \"110413\", 79.65, \"E68\", \"S\", 0], [587, 0, 2, \"Jarvis, Mr. John Denzil\", \"male\", 47.0, 0, 0, \"237565\", 15.0, \"NaN\", \"S\", 0], [588, 1, 1, \"Frolicher-Stehli, Mr. Maxmillian\", \"male\", 60.0, 1, 1, \"13567\", 79.2, \"B41\", \"C\", 0], [589, 0, 3, \"Gilinski, Mr. Eliezer\", \"male\", 22.0, 0, 0, \"14973\", 8.05, \"NaN\", \"S\", 0], [590, 0, 3, \"Murdlin, Mr. Joseph\", \"male\", NaN, 0, 0, \"A./5. 3235\", 8.05, \"NaN\", \"S\", 0], [591, 0, 3, \"Rintamaki, Mr. Matti\", \"male\", 35.0, 0, 0, \"STON/O 2. 3101273\", 7.125, \"NaN\", \"S\", 0], [592, 1, 1, \"Stephenson, Mrs. Walter Bertram (Martha Eustis)\", \"female\", 52.0, 1, 0, \"36947\", 78.2667, \"D20\", \"C\", 0], [593, 0, 3, \"Elsbury, Mr. William James\", \"male\", 47.0, 0, 0, \"A/5 3902\", 7.25, \"NaN\", \"S\", 0], [594, 0, 3, \"Bourke, Miss. Mary\", \"female\", NaN, 0, 2, \"364848\", 7.75, \"NaN\", \"Q\", 0], [595, 0, 2, \"Chapman, Mr. John Henry\", \"male\", 37.0, 1, 0, \"SC/AH 29037\", 26.0, \"NaN\", \"S\", 0], [596, 0, 3, \"Van Impe, Mr. Jean Baptiste\", \"male\", 36.0, 1, 1, \"345773\", 24.15, \"NaN\", \"S\", 0], [597, 1, 2, \"Leitch, Miss. Jessie Wills\", \"female\", NaN, 0, 0, \"248727\", 33.0, \"NaN\", \"S\", 0], [598, 0, 3, \"Johnson, Mr. Alfred\", \"male\", 49.0, 0, 0, \"LINE\", 0.0, \"NaN\", \"S\", 0], [599, 0, 3, \"Boulos, Mr. Hanna\", \"male\", NaN, 0, 0, \"2664\", 7.225, \"NaN\", \"C\", 0], [600, 1, 1, \"Duff Gordon, Sir. Cosmo Edmund (\\\"Mr Morgan\\\")\", \"male\", 49.0, 1, 0, \"PC 17485\", 56.9292, \"A20\", \"C\", 0], [601, 1, 2, \"Jacobsohn, Mrs. Sidney Samuel (Amy Frances Christy)\", \"female\", 24.0, 2, 1, \"243847\", 27.0, \"NaN\", \"S\", 0], [602, 0, 3, \"Slabenoff, Mr. Petco\", \"male\", NaN, 0, 0, \"349214\", 7.8958, \"NaN\", \"S\", 0], [603, 0, 1, \"Harrington, Mr. Charles H\", \"male\", NaN, 0, 0, \"113796\", 42.4, \"NaN\", \"S\", 0], [604, 0, 3, \"Torber, Mr. Ernst William\", \"male\", 44.0, 0, 0, \"364511\", 8.05, \"NaN\", \"S\", 0], [605, 1, 1, \"Homer, Mr. Harry (\\\"Mr E Haven\\\")\", \"male\", 35.0, 0, 0, \"111426\", 26.55, \"NaN\", \"C\", 0], [606, 0, 3, \"Lindell, Mr. Edvard Bengtsson\", \"male\", 36.0, 1, 0, \"349910\", 15.55, \"NaN\", \"S\", 0], [607, 0, 3, \"Karaic, Mr. Milan\", \"male\", 30.0, 0, 0, \"349246\", 7.8958, \"NaN\", \"S\", 0], [608, 1, 1, \"Daniel, Mr. Robert Williams\", \"male\", 27.0, 0, 0, \"113804\", 30.5, \"NaN\", \"S\", 0], [609, 1, 2, \"Laroche, Mrs. Joseph (Juliette Marie Louise Lafargue)\", \"female\", 22.0, 1, 2, \"SC/Paris 2123\", 41.5792, \"NaN\", \"C\", 0], [610, 1, 1, \"Shutes, Miss. Elizabeth W\", \"female\", 40.0, 0, 0, \"PC 17582\", 153.4625, \"C125\", \"S\", 0], [611, 0, 3, \"Andersson, Mrs. Anders Johan (Alfrida Konstantia Brogren)\", \"female\", 39.0, 1, 5, \"347082\", 31.275, \"NaN\", \"S\", 0], [612, 0, 3, \"Jardin, Mr. Jose Neto\", \"male\", NaN, 0, 0, \"SOTON/O.Q. 3101305\", 7.05, \"NaN\", \"S\", 0], [613, 1, 3, \"Murphy, Miss. Margaret Jane\", \"female\", NaN, 1, 0, \"367230\", 15.5, \"NaN\", \"Q\", 0], [614, 0, 3, \"Horgan, Mr. John\", \"male\", NaN, 0, 0, \"370377\", 7.75, \"NaN\", \"Q\", 0], [615, 0, 3, \"Brocklebank, Mr. William Alfred\", \"male\", 35.0, 0, 0, \"364512\", 8.05, \"NaN\", \"S\", 0], [616, 1, 2, \"Herman, Miss. Alice\", \"female\", 24.0, 1, 2, \"220845\", 65.0, \"NaN\", \"S\", 0], [617, 0, 3, \"Danbom, Mr. Ernst Gilbert\", \"male\", 34.0, 1, 1, \"347080\", 14.4, \"NaN\", \"S\", 0], [618, 0, 3, \"Lobb, Mrs. William Arthur (Cordelia K Stanlick)\", \"female\", 26.0, 1, 0, \"A/5. 3336\", 16.1, \"NaN\", \"S\", 0], [619, 1, 2, \"Becker, Miss. Marion Louise\", \"female\", 4.0, 2, 1, \"230136\", 39.0, \"F4\", \"S\", 1], [620, 0, 2, \"Gavey, Mr. Lawrence\", \"male\", 26.0, 0, 0, \"31028\", 10.5, \"NaN\", \"S\", 0], [621, 0, 3, \"Yasbeck, Mr. Antoni\", \"male\", 27.0, 1, 0, \"2659\", 14.4542, \"NaN\", \"C\", 0], [622, 1, 1, \"Kimball, Mr. Edwin Nelson Jr\", \"male\", 42.0, 1, 0, \"11753\", 52.5542, \"D19\", \"S\", 0], [623, 1, 3, \"Nakid, Mr. Sahid\", \"male\", 20.0, 1, 1, \"2653\", 15.7417, \"NaN\", \"C\", 0], [624, 0, 3, \"Hansen, Mr. Henry Damsgaard\", \"male\", 21.0, 0, 0, \"350029\", 7.8542, \"NaN\", \"S\", 0], [625, 0, 3, \"Bowen, Mr. David John \\\"Dai\\\"\", \"male\", 21.0, 0, 0, \"54636\", 16.1, \"NaN\", \"S\", 0], [626, 0, 1, \"Sutton, Mr. Frederick\", \"male\", 61.0, 0, 0, \"36963\", 32.3208, \"D50\", \"S\", 0], [627, 0, 2, \"Kirkland, Rev. Charles Leonard\", \"male\", 57.0, 0, 0, \"219533\", 12.35, \"NaN\", \"Q\", 0], [628, 1, 1, \"Longley, Miss. Gretchen Fiske\", \"female\", 21.0, 0, 0, \"13502\", 77.9583, \"D9\", \"S\", 0], [629, 0, 3, \"Bostandyeff, Mr. Guentcho\", \"male\", 26.0, 0, 0, \"349224\", 7.8958, \"NaN\", \"S\", 0], [630, 0, 3, \"O'Connell, Mr. Patrick D\", \"male\", NaN, 0, 0, \"334912\", 7.7333, \"NaN\", \"Q\", 0], [631, 1, 1, \"Barkworth, Mr. Algernon Henry Wilson\", \"male\", 80.0, 0, 0, \"27042\", 30.0, \"A23\", \"S\", 0], [632, 0, 3, \"Lundahl, Mr. Johan Svensson\", \"male\", 51.0, 0, 0, \"347743\", 7.0542, \"NaN\", \"S\", 0], [633, 1, 1, \"Stahelin-Maeglin, Dr. Max\", \"male\", 32.0, 0, 0, \"13214\", 30.5, \"B50\", \"C\", 0], [634, 0, 1, \"Parr, Mr. William Henry Marsh\", \"male\", NaN, 0, 0, \"112052\", 0.0, \"NaN\", \"S\", 0], [635, 0, 3, \"Skoog, Miss. Mabel\", \"female\", 9.0, 3, 2, \"347088\", 27.9, \"NaN\", \"S\", 1], [636, 1, 2, \"Davis, Miss. Mary\", \"female\", 28.0, 0, 0, \"237668\", 13.0, \"NaN\", \"S\", 0], [637, 0, 3, \"Leinonen, Mr. Antti Gustaf\", \"male\", 32.0, 0, 0, \"STON/O 2. 3101292\", 7.925, \"NaN\", \"S\", 0], [638, 0, 2, \"Collyer, Mr. Harvey\", \"male\", 31.0, 1, 1, \"C.A. 31921\", 26.25, \"NaN\", \"S\", 0], [639, 0, 3, \"Panula, Mrs. Juha (Maria Emilia Ojala)\", \"female\", 41.0, 0, 5, \"3101295\", 39.6875, \"NaN\", \"S\", 0], [640, 0, 3, \"Thorneycroft, Mr. Percival\", \"male\", NaN, 1, 0, \"376564\", 16.1, \"NaN\", \"S\", 0], [641, 0, 3, \"Jensen, Mr. Hans Peder\", \"male\", 20.0, 0, 0, \"350050\", 7.8542, \"NaN\", \"S\", 0], [642, 1, 1, \"Sagesser, Mlle. Emma\", \"female\", 24.0, 0, 0, \"PC 17477\", 69.3, \"B35\", \"C\", 0], [643, 0, 3, \"Skoog, Miss. Margit Elizabeth\", \"female\", 2.0, 3, 2, \"347088\", 27.9, \"NaN\", \"S\", 1], [644, 1, 3, \"Foo, Mr. Choong\", \"male\", NaN, 0, 0, \"1601\", 56.4958, \"NaN\", \"S\", 0], [645, 1, 3, \"Baclini, Miss. Eugenie\", \"female\", 0.75, 2, 1, \"2666\", 19.2583, \"NaN\", \"C\", 1], [646, 1, 1, \"Harper, Mr. Henry Sleeper\", \"male\", 48.0, 1, 0, \"PC 17572\", 76.7292, \"D33\", \"C\", 0], [647, 0, 3, \"Cor, Mr. Liudevit\", \"male\", 19.0, 0, 0, \"349231\", 7.8958, \"NaN\", \"S\", 0], [648, 1, 1, \"Simonius-Blumer, Col. Oberst Alfons\", \"male\", 56.0, 0, 0, \"13213\", 35.5, \"A26\", \"C\", 0], [649, 0, 3, \"Willey, Mr. Edward\", \"male\", NaN, 0, 0, \"S.O./P.P. 751\", 7.55, \"NaN\", \"S\", 0], [650, 1, 3, \"Stanley, Miss. Amy Zillah Elsie\", \"female\", 23.0, 0, 0, \"CA. 2314\", 7.55, \"NaN\", \"S\", 0], [651, 0, 3, \"Mitkoff, Mr. Mito\", \"male\", NaN, 0, 0, \"349221\", 7.8958, \"NaN\", \"S\", 0], [652, 1, 2, \"Doling, Miss. Elsie\", \"female\", 18.0, 0, 1, \"231919\", 23.0, \"NaN\", \"S\", 0], [653, 0, 3, \"Kalvik, Mr. Johannes Halvorsen\", \"male\", 21.0, 0, 0, \"8475\", 8.4333, \"NaN\", \"S\", 0], [654, 1, 3, \"O'Leary, Miss. Hanora \\\"Norah\\\"\", \"female\", NaN, 0, 0, \"330919\", 7.8292, \"NaN\", \"Q\", 0], [655, 0, 3, \"Hegarty, Miss. Hanora \\\"Nora\\\"\", \"female\", 18.0, 0, 0, \"365226\", 6.75, \"NaN\", \"Q\", 0], [656, 0, 2, \"Hickman, Mr. Leonard Mark\", \"male\", 24.0, 2, 0, \"S.O.C. 14879\", 73.5, \"NaN\", \"S\", 0], [657, 0, 3, \"Radeff, Mr. Alexander\", \"male\", NaN, 0, 0, \"349223\", 7.8958, \"NaN\", \"S\", 0], [658, 0, 3, \"Bourke, Mrs. John (Catherine)\", \"female\", 32.0, 1, 1, \"364849\", 15.5, \"NaN\", \"Q\", 0], [659, 0, 2, \"Eitemiller, Mr. George Floyd\", \"male\", 23.0, 0, 0, \"29751\", 13.0, \"NaN\", \"S\", 0], [660, 0, 1, \"Newell, Mr. Arthur Webster\", \"male\", 58.0, 0, 2, \"35273\", 113.275, \"D48\", \"C\", 0], [661, 1, 1, \"Frauenthal, Dr. Henry William\", \"male\", 50.0, 2, 0, \"PC 17611\", 133.65, \"NaN\", \"S\", 0], [662, 0, 3, \"Badt, Mr. Mohamed\", \"male\", 40.0, 0, 0, \"2623\", 7.225, \"NaN\", \"C\", 0], [663, 0, 1, \"Colley, Mr. Edward Pomeroy\", \"male\", 47.0, 0, 0, \"5727\", 25.5875, \"E58\", \"S\", 0], [664, 0, 3, \"Coleff, Mr. Peju\", \"male\", 36.0, 0, 0, \"349210\", 7.4958, \"NaN\", \"S\", 0], [665, 1, 3, \"Lindqvist, Mr. Eino William\", \"male\", 20.0, 1, 0, \"STON/O 2. 3101285\", 7.925, \"NaN\", \"S\", 0], [666, 0, 2, \"Hickman, Mr. Lewis\", \"male\", 32.0, 2, 0, \"S.O.C. 14879\", 73.5, \"NaN\", \"S\", 0], [667, 0, 2, \"Butler, Mr. Reginald Fenton\", \"male\", 25.0, 0, 0, \"234686\", 13.0, \"NaN\", \"S\", 0], [668, 0, 3, \"Rommetvedt, Mr. Knud Paust\", \"male\", NaN, 0, 0, \"312993\", 7.775, \"NaN\", \"S\", 0], [669, 0, 3, \"Cook, Mr. Jacob\", \"male\", 43.0, 0, 0, \"A/5 3536\", 8.05, \"NaN\", \"S\", 0], [670, 1, 1, \"Taylor, Mrs. Elmer Zebley (Juliet Cummins Wright)\", \"female\", NaN, 1, 0, \"19996\", 52.0, \"C126\", \"S\", 0], [671, 1, 2, \"Brown, Mrs. Thomas William Solomon (Elizabeth Catherine Ford)\", \"female\", 40.0, 1, 1, \"29750\", 39.0, \"NaN\", \"S\", 0], [672, 0, 1, \"Davidson, Mr. Thornton\", \"male\", 31.0, 1, 0, \"F.C. 12750\", 52.0, \"B71\", \"S\", 0], [673, 0, 2, \"Mitchell, Mr. Henry Michael\", \"male\", 70.0, 0, 0, \"C.A. 24580\", 10.5, \"NaN\", \"S\", 0], [674, 1, 2, \"Wilhelms, Mr. Charles\", \"male\", 31.0, 0, 0, \"244270\", 13.0, \"NaN\", \"S\", 0], [675, 0, 2, \"Watson, Mr. Ennis Hastings\", \"male\", NaN, 0, 0, \"239856\", 0.0, \"NaN\", \"S\", 0], [676, 0, 3, \"Edvardsson, Mr. Gustaf Hjalmar\", \"male\", 18.0, 0, 0, \"349912\", 7.775, \"NaN\", \"S\", 0], [677, 0, 3, \"Sawyer, Mr. Frederick Charles\", \"male\", 24.5, 0, 0, \"342826\", 8.05, \"NaN\", \"S\", 0], [678, 1, 3, \"Turja, Miss. Anna Sofia\", \"female\", 18.0, 0, 0, \"4138\", 9.8417, \"NaN\", \"S\", 0], [679, 0, 3, \"Goodwin, Mrs. Frederick (Augusta Tyler)\", \"female\", 43.0, 1, 6, \"CA 2144\", 46.9, \"NaN\", \"S\", 0], [680, 1, 1, \"Cardeza, Mr. Thomas Drake Martinez\", \"male\", 36.0, 0, 1, \"PC 17755\", 512.3292, \"B51 B53 B55\", \"C\", 0], [681, 0, 3, \"Peters, Miss. Katie\", \"female\", NaN, 0, 0, \"330935\", 8.1375, \"NaN\", \"Q\", 0], [682, 1, 1, \"Hassab, Mr. Hammad\", \"male\", 27.0, 0, 0, \"PC 17572\", 76.7292, \"D49\", \"C\", 0], [683, 0, 3, \"Olsvigen, Mr. Thor Anderson\", \"male\", 20.0, 0, 0, \"6563\", 9.225, \"NaN\", \"S\", 0], [684, 0, 3, \"Goodwin, Mr. Charles Edward\", \"male\", 14.0, 5, 2, \"CA 2144\", 46.9, \"NaN\", \"S\", 1], [685, 0, 2, \"Brown, Mr. Thomas William Solomon\", \"male\", 60.0, 1, 1, \"29750\", 39.0, \"NaN\", \"S\", 0], [686, 0, 2, \"Laroche, Mr. Joseph Philippe Lemercier\", \"male\", 25.0, 1, 2, \"SC/Paris 2123\", 41.5792, \"NaN\", \"C\", 0], [687, 0, 3, \"Panula, Mr. Jaako Arnold\", \"male\", 14.0, 4, 1, \"3101295\", 39.6875, \"NaN\", \"S\", 1], [688, 0, 3, \"Dakic, Mr. Branko\", \"male\", 19.0, 0, 0, \"349228\", 10.1708, \"NaN\", \"S\", 0], [689, 0, 3, \"Fischer, Mr. Eberhard Thelander\", \"male\", 18.0, 0, 0, \"350036\", 7.7958, \"NaN\", \"S\", 0], [690, 1, 1, \"Madill, Miss. Georgette Alexandra\", \"female\", 15.0, 0, 1, \"24160\", 211.3375, \"B5\", \"S\", 1], [691, 1, 1, \"Dick, Mr. Albert Adrian\", \"male\", 31.0, 1, 0, \"17474\", 57.0, \"B20\", \"S\", 0], [692, 1, 3, \"Karun, Miss. Manca\", \"female\", 4.0, 0, 1, \"349256\", 13.4167, \"NaN\", \"C\", 1], [693, 1, 3, \"Lam, Mr. Ali\", \"male\", NaN, 0, 0, \"1601\", 56.4958, \"NaN\", \"S\", 0], [694, 0, 3, \"Saad, Mr. Khalil\", \"male\", 25.0, 0, 0, \"2672\", 7.225, \"NaN\", \"C\", 0], [695, 0, 1, \"Weir, Col. John\", \"male\", 60.0, 0, 0, \"113800\", 26.55, \"NaN\", \"S\", 0], [696, 0, 2, \"Chapman, Mr. Charles Henry\", \"male\", 52.0, 0, 0, \"248731\", 13.5, \"NaN\", \"S\", 0], [697, 0, 3, \"Kelly, Mr. James\", \"male\", 44.0, 0, 0, \"363592\", 8.05, \"NaN\", \"S\", 0], [698, 1, 3, \"Mullens, Miss. Katherine \\\"Katie\\\"\", \"female\", NaN, 0, 0, \"35852\", 7.7333, \"NaN\", \"Q\", 0], [699, 0, 1, \"Thayer, Mr. John Borland\", \"male\", 49.0, 1, 1, \"17421\", 110.8833, \"C68\", \"C\", 0], [700, 0, 3, \"Humblen, Mr. Adolf Mathias Nicolai Olsen\", \"male\", 42.0, 0, 0, \"348121\", 7.65, \"F G63\", \"S\", 0], [701, 1, 1, \"Astor, Mrs. John Jacob (Madeleine Talmadge Force)\", \"female\", 18.0, 1, 0, \"PC 17757\", 227.525, \"C62 C64\", \"C\", 0], [702, 1, 1, \"Silverthorne, Mr. Spencer Victor\", \"male\", 35.0, 0, 0, \"PC 17475\", 26.2875, \"E24\", \"S\", 0], [703, 0, 3, \"Barbara, Miss. Saiide\", \"female\", 18.0, 0, 1, \"2691\", 14.4542, \"NaN\", \"C\", 0], [704, 0, 3, \"Gallagher, Mr. Martin\", \"male\", 25.0, 0, 0, \"36864\", 7.7417, \"NaN\", \"Q\", 0], [705, 0, 3, \"Hansen, Mr. Henrik Juul\", \"male\", 26.0, 1, 0, \"350025\", 7.8542, \"NaN\", \"S\", 0], [706, 0, 2, \"Morley, Mr. Henry Samuel (\\\"Mr Henry Marshall\\\")\", \"male\", 39.0, 0, 0, \"250655\", 26.0, \"NaN\", \"S\", 0], [707, 1, 2, \"Kelly, Mrs. Florence \\\"Fannie\\\"\", \"female\", 45.0, 0, 0, \"223596\", 13.5, \"NaN\", \"S\", 0], [708, 1, 1, \"Calderhead, Mr. Edward Pennington\", \"male\", 42.0, 0, 0, \"PC 17476\", 26.2875, \"E24\", \"S\", 0], [709, 1, 1, \"Cleaver, Miss. Alice\", \"female\", 22.0, 0, 0, \"113781\", 151.55, \"NaN\", \"S\", 0], [710, 1, 3, \"Moubarek, Master. Halim Gonios (\\\"William George\\\")\", \"male\", NaN, 1, 1, \"2661\", 15.2458, \"NaN\", \"C\", 0], [711, 1, 1, \"Mayne, Mlle. Berthe Antonine (\\\"Mrs de Villiers\\\")\", \"female\", 24.0, 0, 0, \"PC 17482\", 49.5042, \"C90\", \"C\", 0], [712, 0, 1, \"Klaber, Mr. Herman\", \"male\", NaN, 0, 0, \"113028\", 26.55, \"C124\", \"S\", 0], [713, 1, 1, \"Taylor, Mr. Elmer Zebley\", \"male\", 48.0, 1, 0, \"19996\", 52.0, \"C126\", \"S\", 0], [714, 0, 3, \"Larsson, Mr. August Viktor\", \"male\", 29.0, 0, 0, \"7545\", 9.4833, \"NaN\", \"S\", 0], [715, 0, 2, \"Greenberg, Mr. Samuel\", \"male\", 52.0, 0, 0, \"250647\", 13.0, \"NaN\", \"S\", 0], [716, 0, 3, \"Soholt, Mr. Peter Andreas Lauritz Andersen\", \"male\", 19.0, 0, 0, \"348124\", 7.65, \"F G73\", \"S\", 0], [717, 1, 1, \"Endres, Miss. Caroline Louise\", \"female\", 38.0, 0, 0, \"PC 17757\", 227.525, \"C45\", \"C\", 0], [718, 1, 2, \"Troutt, Miss. Edwina Celia \\\"Winnie\\\"\", \"female\", 27.0, 0, 0, \"34218\", 10.5, \"E101\", \"S\", 0], [719, 0, 3, \"McEvoy, Mr. Michael\", \"male\", NaN, 0, 0, \"36568\", 15.5, \"NaN\", \"Q\", 0], [720, 0, 3, \"Johnson, Mr. Malkolm Joackim\", \"male\", 33.0, 0, 0, \"347062\", 7.775, \"NaN\", \"S\", 0], [721, 1, 2, \"Harper, Miss. Annie Jessie \\\"Nina\\\"\", \"female\", 6.0, 0, 1, \"248727\", 33.0, \"NaN\", \"S\", 1], [722, 0, 3, \"Jensen, Mr. Svend Lauritz\", \"male\", 17.0, 1, 0, \"350048\", 7.0542, \"NaN\", \"S\", 1], [723, 0, 2, \"Gillespie, Mr. William Henry\", \"male\", 34.0, 0, 0, \"12233\", 13.0, \"NaN\", \"S\", 0], [724, 0, 2, \"Hodges, Mr. Henry Price\", \"male\", 50.0, 0, 0, \"250643\", 13.0, \"NaN\", \"S\", 0], [725, 1, 1, \"Chambers, Mr. Norman Campbell\", \"male\", 27.0, 1, 0, \"113806\", 53.1, \"E8\", \"S\", 0], [726, 0, 3, \"Oreskovic, Mr. Luka\", \"male\", 20.0, 0, 0, \"315094\", 8.6625, \"NaN\", \"S\", 0], [727, 1, 2, \"Renouf, Mrs. Peter Henry (Lillian Jefferys)\", \"female\", 30.0, 3, 0, \"31027\", 21.0, \"NaN\", \"S\", 0], [728, 1, 3, \"Mannion, Miss. Margareth\", \"female\", NaN, 0, 0, \"36866\", 7.7375, \"NaN\", \"Q\", 0], [729, 0, 2, \"Bryhl, Mr. Kurt Arnold Gottfrid\", \"male\", 25.0, 1, 0, \"236853\", 26.0, \"NaN\", \"S\", 0], [730, 0, 3, \"Ilmakangas, Miss. Pieta Sofia\", \"female\", 25.0, 1, 0, \"STON/O2. 3101271\", 7.925, \"NaN\", \"S\", 0], [731, 1, 1, \"Allen, Miss. Elisabeth Walton\", \"female\", 29.0, 0, 0, \"24160\", 211.3375, \"B5\", \"S\", 0], [732, 0, 3, \"Hassan, Mr. Houssein G N\", \"male\", 11.0, 0, 0, \"2699\", 18.7875, \"NaN\", \"C\", 1], [733, 0, 2, \"Knight, Mr. Robert J\", \"male\", NaN, 0, 0, \"239855\", 0.0, \"NaN\", \"S\", 0], [734, 0, 2, \"Berriman, Mr. William John\", \"male\", 23.0, 0, 0, \"28425\", 13.0, \"NaN\", \"S\", 0], [735, 0, 2, \"Troupiansky, Mr. Moses Aaron\", \"male\", 23.0, 0, 0, \"233639\", 13.0, \"NaN\", \"S\", 0], [736, 0, 3, \"Williams, Mr. Leslie\", \"male\", 28.5, 0, 0, \"54636\", 16.1, \"NaN\", \"S\", 0], [737, 0, 3, \"Ford, Mrs. Edward (Margaret Ann Watson)\", \"female\", 48.0, 1, 3, \"W./C. 6608\", 34.375, \"NaN\", \"S\", 0], [738, 1, 1, \"Lesurer, Mr. Gustave J\", \"male\", 35.0, 0, 0, \"PC 17755\", 512.3292, \"B101\", \"C\", 0], [739, 0, 3, \"Ivanoff, Mr. Kanio\", \"male\", NaN, 0, 0, \"349201\", 7.8958, \"NaN\", \"S\", 0], [740, 0, 3, \"Nankoff, Mr. Minko\", \"male\", NaN, 0, 0, \"349218\", 7.8958, \"NaN\", \"S\", 0], [741, 1, 1, \"Hawksford, Mr. Walter James\", \"male\", NaN, 0, 0, \"16988\", 30.0, \"D45\", \"S\", 0], [742, 0, 1, \"Cavendish, Mr. Tyrell William\", \"male\", 36.0, 1, 0, \"19877\", 78.85, \"C46\", \"S\", 0], [743, 1, 1, \"Ryerson, Miss. Susan Parker \\\"Suzette\\\"\", \"female\", 21.0, 2, 2, \"PC 17608\", 262.375, \"B57 B59 B63 B66\", \"C\", 0], [744, 0, 3, \"McNamee, Mr. Neal\", \"male\", 24.0, 1, 0, \"376566\", 16.1, \"NaN\", \"S\", 0], [745, 1, 3, \"Stranden, Mr. Juho\", \"male\", 31.0, 0, 0, \"STON/O 2. 3101288\", 7.925, \"NaN\", \"S\", 0], [746, 0, 1, \"Crosby, Capt. Edward Gifford\", \"male\", 70.0, 1, 1, \"WE/P 5735\", 71.0, \"B22\", \"S\", 0], [747, 0, 3, \"Abbott, Mr. Rossmore Edward\", \"male\", 16.0, 1, 1, \"C.A. 2673\", 20.25, \"NaN\", \"S\", 1], [748, 1, 2, \"Sinkkonen, Miss. Anna\", \"female\", 30.0, 0, 0, \"250648\", 13.0, \"NaN\", \"S\", 0], [749, 0, 1, \"Marvin, Mr. Daniel Warner\", \"male\", 19.0, 1, 0, \"113773\", 53.1, \"D30\", \"S\", 0], [750, 0, 3, \"Connaghton, Mr. Michael\", \"male\", 31.0, 0, 0, \"335097\", 7.75, \"NaN\", \"Q\", 0], [751, 1, 2, \"Wells, Miss. Joan\", \"female\", 4.0, 1, 1, \"29103\", 23.0, \"NaN\", \"S\", 1], [752, 1, 3, \"Moor, Master. Meier\", \"male\", 6.0, 0, 1, \"392096\", 12.475, \"E121\", \"S\", 1], [753, 0, 3, \"Vande Velde, Mr. Johannes Joseph\", \"male\", 33.0, 0, 0, \"345780\", 9.5, \"NaN\", \"S\", 0], [754, 0, 3, \"Jonkoff, Mr. Lalio\", \"male\", 23.0, 0, 0, \"349204\", 7.8958, \"NaN\", \"S\", 0], [755, 1, 2, \"Herman, Mrs. Samuel (Jane Laver)\", \"female\", 48.0, 1, 2, \"220845\", 65.0, \"NaN\", \"S\", 0], [756, 1, 2, \"Hamalainen, Master. Viljo\", \"male\", 0.67, 1, 1, \"250649\", 14.5, \"NaN\", \"S\", 1], [757, 0, 3, \"Carlsson, Mr. August Sigfrid\", \"male\", 28.0, 0, 0, \"350042\", 7.7958, \"NaN\", \"S\", 0], [758, 0, 2, \"Bailey, Mr. Percy Andrew\", \"male\", 18.0, 0, 0, \"29108\", 11.5, \"NaN\", \"S\", 0], [759, 0, 3, \"Theobald, Mr. Thomas Leonard\", \"male\", 34.0, 0, 0, \"363294\", 8.05, \"NaN\", \"S\", 0], [760, 1, 1, \"Rothes, the Countess. of (Lucy Noel Martha Dyer-Edwards)\", \"female\", 33.0, 0, 0, \"110152\", 86.5, \"B77\", \"S\", 0], [761, 0, 3, \"Garfirth, Mr. John\", \"male\", NaN, 0, 0, \"358585\", 14.5, \"NaN\", \"S\", 0], [762, 0, 3, \"Nirva, Mr. Iisakki Antino Aijo\", \"male\", 41.0, 0, 0, \"SOTON/O2 3101272\", 7.125, \"NaN\", \"S\", 0], [763, 1, 3, \"Barah, Mr. Hanna Assi\", \"male\", 20.0, 0, 0, \"2663\", 7.2292, \"NaN\", \"C\", 0], [764, 1, 1, \"Carter, Mrs. William Ernest (Lucile Polk)\", \"female\", 36.0, 1, 2, \"113760\", 120.0, \"B96 B98\", \"S\", 0], [765, 0, 3, \"Eklund, Mr. Hans Linus\", \"male\", 16.0, 0, 0, \"347074\", 7.775, \"NaN\", \"S\", 1], [766, 1, 1, \"Hogeboom, Mrs. John C (Anna Andrews)\", \"female\", 51.0, 1, 0, \"13502\", 77.9583, \"D11\", \"S\", 0], [767, 0, 1, \"Brewe, Dr. Arthur Jackson\", \"male\", NaN, 0, 0, \"112379\", 39.6, \"NaN\", \"C\", 0], [768, 0, 3, \"Mangan, Miss. Mary\", \"female\", 30.5, 0, 0, \"364850\", 7.75, \"NaN\", \"Q\", 0], [769, 0, 3, \"Moran, Mr. Daniel J\", \"male\", NaN, 1, 0, \"371110\", 24.15, \"NaN\", \"Q\", 0], [770, 0, 3, \"Gronnestad, Mr. Daniel Danielsen\", \"male\", 32.0, 0, 0, \"8471\", 8.3625, \"NaN\", \"S\", 0], [771, 0, 3, \"Lievens, Mr. Rene Aime\", \"male\", 24.0, 0, 0, \"345781\", 9.5, \"NaN\", \"S\", 0], [772, 0, 3, \"Jensen, Mr. Niels Peder\", \"male\", 48.0, 0, 0, \"350047\", 7.8542, \"NaN\", \"S\", 0], [773, 0, 2, \"Mack, Mrs. (Mary)\", \"female\", 57.0, 0, 0, \"S.O./P.P. 3\", 10.5, \"E77\", \"S\", 0], [774, 0, 3, \"Elias, Mr. Dibo\", \"male\", NaN, 0, 0, \"2674\", 7.225, \"NaN\", \"C\", 0], [775, 1, 2, \"Hocking, Mrs. Elizabeth (Eliza Needs)\", \"female\", 54.0, 1, 3, \"29105\", 23.0, \"NaN\", \"S\", 0], [776, 0, 3, \"Myhrman, Mr. Pehr Fabian Oliver Malkolm\", \"male\", 18.0, 0, 0, \"347078\", 7.75, \"NaN\", \"S\", 0], [777, 0, 3, \"Tobin, Mr. Roger\", \"male\", NaN, 0, 0, \"383121\", 7.75, \"F38\", \"Q\", 0], [778, 1, 3, \"Emanuel, Miss. Virginia Ethel\", \"female\", 5.0, 0, 0, \"364516\", 12.475, \"NaN\", \"S\", 1], [779, 0, 3, \"Kilgannon, Mr. Thomas J\", \"male\", NaN, 0, 0, \"36865\", 7.7375, \"NaN\", \"Q\", 0], [780, 1, 1, \"Robert, Mrs. Edward Scott (Elisabeth Walton McMillan)\", \"female\", 43.0, 0, 1, \"24160\", 211.3375, \"B3\", \"S\", 0], [781, 1, 3, \"Ayoub, Miss. Banoura\", \"female\", 13.0, 0, 0, \"2687\", 7.2292, \"NaN\", \"C\", 1], [782, 1, 1, \"Dick, Mrs. Albert Adrian (Vera Gillespie)\", \"female\", 17.0, 1, 0, \"17474\", 57.0, \"B20\", \"S\", 1], [783, 0, 1, \"Long, Mr. Milton Clyde\", \"male\", 29.0, 0, 0, \"113501\", 30.0, \"D6\", \"S\", 0], [784, 0, 3, \"Johnston, Mr. Andrew G\", \"male\", NaN, 1, 2, \"W./C. 6607\", 23.45, \"NaN\", \"S\", 0], [785, 0, 3, \"Ali, Mr. William\", \"male\", 25.0, 0, 0, \"SOTON/O.Q. 3101312\", 7.05, \"NaN\", \"S\", 0], [786, 0, 3, \"Harmer, Mr. Abraham (David Lishin)\", \"male\", 25.0, 0, 0, \"374887\", 7.25, \"NaN\", \"S\", 0], [787, 1, 3, \"Sjoblom, Miss. Anna Sofia\", \"female\", 18.0, 0, 0, \"3101265\", 7.4958, \"NaN\", \"S\", 0], [788, 0, 3, \"Rice, Master. George Hugh\", \"male\", 8.0, 4, 1, \"382652\", 29.125, \"NaN\", \"Q\", 1], [789, 1, 3, \"Dean, Master. Bertram Vere\", \"male\", 1.0, 1, 2, \"C.A. 2315\", 20.575, \"NaN\", \"S\", 1], [790, 0, 1, \"Guggenheim, Mr. Benjamin\", \"male\", 46.0, 0, 0, \"PC 17593\", 79.2, \"B82 B84\", \"C\", 0], [791, 0, 3, \"Keane, Mr. Andrew \\\"Andy\\\"\", \"male\", NaN, 0, 0, \"12460\", 7.75, \"NaN\", \"Q\", 0], [792, 0, 2, \"Gaskell, Mr. Alfred\", \"male\", 16.0, 0, 0, \"239865\", 26.0, \"NaN\", \"S\", 1], [793, 0, 3, \"Sage, Miss. Stella Anna\", \"female\", NaN, 8, 2, \"CA. 2343\", 69.55, \"NaN\", \"S\", 0], [794, 0, 1, \"Hoyt, Mr. William Fisher\", \"male\", NaN, 0, 0, \"PC 17600\", 30.6958, \"NaN\", \"C\", 0], [795, 0, 3, \"Dantcheff, Mr. Ristiu\", \"male\", 25.0, 0, 0, \"349203\", 7.8958, \"NaN\", \"S\", 0], [796, 0, 2, \"Otter, Mr. Richard\", \"male\", 39.0, 0, 0, \"28213\", 13.0, \"NaN\", \"S\", 0], [797, 1, 1, \"Leader, Dr. Alice (Farnham)\", \"female\", 49.0, 0, 0, \"17465\", 25.9292, \"D17\", \"S\", 0], [798, 1, 3, \"Osman, Mrs. Mara\", \"female\", 31.0, 0, 0, \"349244\", 8.6833, \"NaN\", \"S\", 0], [799, 0, 3, \"Ibrahim Shawah, Mr. Yousseff\", \"male\", 30.0, 0, 0, \"2685\", 7.2292, \"NaN\", \"C\", 0], [800, 0, 3, \"Van Impe, Mrs. Jean Baptiste (Rosalie Paula Govaert)\", \"female\", 30.0, 1, 1, \"345773\", 24.15, \"NaN\", \"S\", 0], [801, 0, 2, \"Ponesell, Mr. Martin\", \"male\", 34.0, 0, 0, \"250647\", 13.0, \"NaN\", \"S\", 0], [802, 1, 2, \"Collyer, Mrs. Harvey (Charlotte Annie Tate)\", \"female\", 31.0, 1, 1, \"C.A. 31921\", 26.25, \"NaN\", \"S\", 0], [803, 1, 1, \"Carter, Master. William Thornton II\", \"male\", 11.0, 1, 2, \"113760\", 120.0, \"B96 B98\", \"S\", 1], [804, 1, 3, \"Thomas, Master. Assad Alexander\", \"male\", 0.42, 0, 1, \"2625\", 8.5167, \"NaN\", \"C\", 1], [805, 1, 3, \"Hedman, Mr. Oskar Arvid\", \"male\", 27.0, 0, 0, \"347089\", 6.975, \"NaN\", \"S\", 0], [806, 0, 3, \"Johansson, Mr. Karl Johan\", \"male\", 31.0, 0, 0, \"347063\", 7.775, \"NaN\", \"S\", 0], [807, 0, 1, \"Andrews, Mr. Thomas Jr\", \"male\", 39.0, 0, 0, \"112050\", 0.0, \"A36\", \"S\", 0], [808, 0, 3, \"Pettersson, Miss. Ellen Natalia\", \"female\", 18.0, 0, 0, \"347087\", 7.775, \"NaN\", \"S\", 0], [809, 0, 2, \"Meyer, Mr. August\", \"male\", 39.0, 0, 0, \"248723\", 13.0, \"NaN\", \"S\", 0], [810, 1, 1, \"Chambers, Mrs. Norman Campbell (Bertha Griggs)\", \"female\", 33.0, 1, 0, \"113806\", 53.1, \"E8\", \"S\", 0], [811, 0, 3, \"Alexander, Mr. William\", \"male\", 26.0, 0, 0, \"3474\", 7.8875, \"NaN\", \"S\", 0], [812, 0, 3, \"Lester, Mr. James\", \"male\", 39.0, 0, 0, \"A/4 48871\", 24.15, \"NaN\", \"S\", 0], [813, 0, 2, \"Slemen, Mr. Richard James\", \"male\", 35.0, 0, 0, \"28206\", 10.5, \"NaN\", \"S\", 0], [814, 0, 3, \"Andersson, Miss. Ebba Iris Alfrida\", \"female\", 6.0, 4, 2, \"347082\", 31.275, \"NaN\", \"S\", 1], [815, 0, 3, \"Tomlin, Mr. Ernest Portage\", \"male\", 30.5, 0, 0, \"364499\", 8.05, \"NaN\", \"S\", 0], [816, 0, 1, \"Fry, Mr. Richard\", \"male\", NaN, 0, 0, \"112058\", 0.0, \"B102\", \"S\", 0], [817, 0, 3, \"Heininen, Miss. Wendla Maria\", \"female\", 23.0, 0, 0, \"STON/O2. 3101290\", 7.925, \"NaN\", \"S\", 0], [818, 0, 2, \"Mallet, Mr. Albert\", \"male\", 31.0, 1, 1, \"S.C./PARIS 2079\", 37.0042, \"NaN\", \"C\", 0], [819, 0, 3, \"Holm, Mr. John Fredrik Alexander\", \"male\", 43.0, 0, 0, \"C 7075\", 6.45, \"NaN\", \"S\", 0], [820, 0, 3, \"Skoog, Master. Karl Thorsten\", \"male\", 10.0, 3, 2, \"347088\", 27.9, \"NaN\", \"S\", 1], [821, 1, 1, \"Hays, Mrs. Charles Melville (Clara Jennings Gregg)\", \"female\", 52.0, 1, 1, \"12749\", 93.5, \"B69\", \"S\", 0], [822, 1, 3, \"Lulic, Mr. Nikola\", \"male\", 27.0, 0, 0, \"315098\", 8.6625, \"NaN\", \"S\", 0], [823, 0, 1, \"Reuchlin, Jonkheer. John George\", \"male\", 38.0, 0, 0, \"19972\", 0.0, \"NaN\", \"S\", 0], [824, 1, 3, \"Moor, Mrs. (Beila)\", \"female\", 27.0, 0, 1, \"392096\", 12.475, \"E121\", \"S\", 0], [825, 0, 3, \"Panula, Master. Urho Abraham\", \"male\", 2.0, 4, 1, \"3101295\", 39.6875, \"NaN\", \"S\", 1], [826, 0, 3, \"Flynn, Mr. John\", \"male\", NaN, 0, 0, \"368323\", 6.95, \"NaN\", \"Q\", 0], [827, 0, 3, \"Lam, Mr. Len\", \"male\", NaN, 0, 0, \"1601\", 56.4958, \"NaN\", \"S\", 0], [828, 1, 2, \"Mallet, Master. Andre\", \"male\", 1.0, 0, 2, \"S.C./PARIS 2079\", 37.0042, \"NaN\", \"C\", 1], [829, 1, 3, \"McCormack, Mr. Thomas Joseph\", \"male\", NaN, 0, 0, \"367228\", 7.75, \"NaN\", \"Q\", 0], [830, 1, 1, \"Stone, Mrs. George Nelson (Martha Evelyn)\", \"female\", 62.0, 0, 0, \"113572\", 80.0, \"B28\", \"NaN\", 0], [831, 1, 3, \"Yasbeck, Mrs. Antoni (Selini Alexander)\", \"female\", 15.0, 1, 0, \"2659\", 14.4542, \"NaN\", \"C\", 1], [832, 1, 2, \"Richards, Master. George Sibley\", \"male\", 0.83, 1, 1, \"29106\", 18.75, \"NaN\", \"S\", 1], [833, 0, 3, \"Saad, Mr. Amin\", \"male\", NaN, 0, 0, \"2671\", 7.2292, \"NaN\", \"C\", 0], [834, 0, 3, \"Augustsson, Mr. Albert\", \"male\", 23.0, 0, 0, \"347468\", 7.8542, \"NaN\", \"S\", 0], [835, 0, 3, \"Allum, Mr. Owen George\", \"male\", 18.0, 0, 0, \"2223\", 8.3, \"NaN\", \"S\", 0], [836, 1, 1, \"Compton, Miss. Sara Rebecca\", \"female\", 39.0, 1, 1, \"PC 17756\", 83.1583, \"E49\", \"C\", 0], [837, 0, 3, \"Pasic, Mr. Jakob\", \"male\", 21.0, 0, 0, \"315097\", 8.6625, \"NaN\", \"S\", 0], [838, 0, 3, \"Sirota, Mr. Maurice\", \"male\", NaN, 0, 0, \"392092\", 8.05, \"NaN\", \"S\", 0], [839, 1, 3, \"Chip, Mr. Chang\", \"male\", 32.0, 0, 0, \"1601\", 56.4958, \"NaN\", \"S\", 0], [840, 1, 1, \"Marechal, Mr. Pierre\", \"male\", NaN, 0, 0, \"11774\", 29.7, \"C47\", \"C\", 0], [841, 0, 3, \"Alhomaki, Mr. Ilmari Rudolf\", \"male\", 20.0, 0, 0, \"SOTON/O2 3101287\", 7.925, \"NaN\", \"S\", 0], [842, 0, 2, \"Mudd, Mr. Thomas Charles\", \"male\", 16.0, 0, 0, \"S.O./P.P. 3\", 10.5, \"NaN\", \"S\", 1], [843, 1, 1, \"Serepeca, Miss. Augusta\", \"female\", 30.0, 0, 0, \"113798\", 31.0, \"NaN\", \"C\", 0], [844, 0, 3, \"Lemberopolous, Mr. Peter L\", \"male\", 34.5, 0, 0, \"2683\", 6.4375, \"NaN\", \"C\", 0], [845, 0, 3, \"Culumovic, Mr. Jeso\", \"male\", 17.0, 0, 0, \"315090\", 8.6625, \"NaN\", \"S\", 1], [846, 0, 3, \"Abbing, Mr. Anthony\", \"male\", 42.0, 0, 0, \"C.A. 5547\", 7.55, \"NaN\", \"S\", 0], [847, 0, 3, \"Sage, Mr. Douglas Bullen\", \"male\", NaN, 8, 2, \"CA. 2343\", 69.55, \"NaN\", \"S\", 0], [848, 0, 3, \"Markoff, Mr. Marin\", \"male\", 35.0, 0, 0, \"349213\", 7.8958, \"NaN\", \"C\", 0], [849, 0, 2, \"Harper, Rev. John\", \"male\", 28.0, 0, 1, \"248727\", 33.0, \"NaN\", \"S\", 0], [850, 1, 1, \"Goldenberg, Mrs. Samuel L (Edwiga Grabowska)\", \"female\", NaN, 1, 0, \"17453\", 89.1042, \"C92\", \"C\", 0], [851, 0, 3, \"Andersson, Master. Sigvard Harald Elias\", \"male\", 4.0, 4, 2, \"347082\", 31.275, \"NaN\", \"S\", 1], [852, 0, 3, \"Svensson, Mr. Johan\", \"male\", 74.0, 0, 0, \"347060\", 7.775, \"NaN\", \"S\", 0], [853, 0, 3, \"Boulos, Miss. Nourelain\", \"female\", 9.0, 1, 1, \"2678\", 15.2458, \"NaN\", \"C\", 1], [854, 1, 1, \"Lines, Miss. Mary Conover\", \"female\", 16.0, 0, 1, \"PC 17592\", 39.4, \"D28\", \"S\", 1], [855, 0, 2, \"Carter, Mrs. Ernest Courtenay (Lilian Hughes)\", \"female\", 44.0, 1, 0, \"244252\", 26.0, \"NaN\", \"S\", 0], [856, 1, 3, \"Aks, Mrs. Sam (Leah Rosen)\", \"female\", 18.0, 0, 1, \"392091\", 9.35, \"NaN\", \"S\", 0], [857, 1, 1, \"Wick, Mrs. George Dennick (Mary Hitchcock)\", \"female\", 45.0, 1, 1, \"36928\", 164.8667, \"NaN\", \"S\", 0], [858, 1, 1, \"Daly, Mr. Peter Denis \", \"male\", 51.0, 0, 0, \"113055\", 26.55, \"E17\", \"S\", 0], [859, 1, 3, \"Baclini, Mrs. Solomon (Latifa Qurban)\", \"female\", 24.0, 0, 3, \"2666\", 19.2583, \"NaN\", \"C\", 0], [860, 0, 3, \"Razi, Mr. Raihed\", \"male\", NaN, 0, 0, \"2629\", 7.2292, \"NaN\", \"C\", 0], [861, 0, 3, \"Hansen, Mr. Claus Peter\", \"male\", 41.0, 2, 0, \"350026\", 14.1083, \"NaN\", \"S\", 0], [862, 0, 2, \"Giles, Mr. Frederick Edward\", \"male\", 21.0, 1, 0, \"28134\", 11.5, \"NaN\", \"S\", 0], [863, 1, 1, \"Swift, Mrs. Frederick Joel (Margaret Welles Barron)\", \"female\", 48.0, 0, 0, \"17466\", 25.9292, \"D17\", \"S\", 0], [864, 0, 3, \"Sage, Miss. Dorothy Edith \\\"Dolly\\\"\", \"female\", NaN, 8, 2, \"CA. 2343\", 69.55, \"NaN\", \"S\", 0], [865, 0, 2, \"Gill, Mr. John William\", \"male\", 24.0, 0, 0, \"233866\", 13.0, \"NaN\", \"S\", 0], [866, 1, 2, \"Bystrom, Mrs. (Karolina)\", \"female\", 42.0, 0, 0, \"236852\", 13.0, \"NaN\", \"S\", 0], [867, 1, 2, \"Duran y More, Miss. Asuncion\", \"female\", 27.0, 1, 0, \"SC/PARIS 2149\", 13.8583, \"NaN\", \"C\", 0], [868, 0, 1, \"Roebling, Mr. Washington Augustus II\", \"male\", 31.0, 0, 0, \"PC 17590\", 50.4958, \"A24\", \"S\", 0], [869, 0, 3, \"van Melkebeke, Mr. Philemon\", \"male\", NaN, 0, 0, \"345777\", 9.5, \"NaN\", \"S\", 0], [870, 1, 3, \"Johnson, Master. Harold Theodor\", \"male\", 4.0, 1, 1, \"347742\", 11.1333, \"NaN\", \"S\", 1], [871, 0, 3, \"Balkic, Mr. Cerin\", \"male\", 26.0, 0, 0, \"349248\", 7.8958, \"NaN\", \"S\", 0], [872, 1, 1, \"Beckwith, Mrs. Richard Leonard (Sallie Monypeny)\", \"female\", 47.0, 1, 1, \"11751\", 52.5542, \"D35\", \"S\", 0], [873, 0, 1, \"Carlsson, Mr. Frans Olof\", \"male\", 33.0, 0, 0, \"695\", 5.0, \"B51 B53 B55\", \"S\", 0], [874, 0, 3, \"Vander Cruyssen, Mr. Victor\", \"male\", 47.0, 0, 0, \"345765\", 9.0, \"NaN\", \"S\", 0], [875, 1, 2, \"Abelson, Mrs. Samuel (Hannah Wizosky)\", \"female\", 28.0, 1, 0, \"P/PP 3381\", 24.0, \"NaN\", \"C\", 0], [876, 1, 3, \"Najib, Miss. Adele Kiamie \\\"Jane\\\"\", \"female\", 15.0, 0, 0, \"2667\", 7.225, \"NaN\", \"C\", 1], [877, 0, 3, \"Gustafsson, Mr. Alfred Ossian\", \"male\", 20.0, 0, 0, \"7534\", 9.8458, \"NaN\", \"S\", 0], [878, 0, 3, \"Petroff, Mr. Nedelio\", \"male\", 19.0, 0, 0, \"349212\", 7.8958, \"NaN\", \"S\", 0], [879, 0, 3, \"Laleff, Mr. Kristo\", \"male\", NaN, 0, 0, \"349217\", 7.8958, \"NaN\", \"S\", 0], [880, 1, 1, \"Potter, Mrs. Thomas Jr (Lily Alexenia Wilson)\", \"female\", 56.0, 0, 1, \"11767\", 83.1583, \"C50\", \"C\", 0], [881, 1, 2, \"Shelley, Mrs. William (Imanita Parrish Hall)\", \"female\", 25.0, 0, 1, \"230433\", 26.0, \"NaN\", \"S\", 0], [882, 0, 3, \"Markun, Mr. Johann\", \"male\", 33.0, 0, 0, \"349257\", 7.8958, \"NaN\", \"S\", 0], [883, 0, 3, \"Dahlberg, Miss. Gerda Ulrika\", \"female\", 22.0, 0, 0, \"7552\", 10.5167, \"NaN\", \"S\", 0], [884, 0, 2, \"Banfield, Mr. Frederick James\", \"male\", 28.0, 0, 0, \"C.A./SOTON 34068\", 10.5, \"NaN\", \"S\", 0], [885, 0, 3, \"Sutehall, Mr. Henry Jr\", \"male\", 25.0, 0, 0, \"SOTON/OQ 392076\", 7.05, \"NaN\", \"S\", 0], [886, 0, 3, \"Rice, Mrs. William (Margaret Norton)\", \"female\", 39.0, 0, 5, \"382652\", 29.125, \"NaN\", \"Q\", 0], [887, 0, 2, \"Montvila, Rev. Juozas\", \"male\", 27.0, 0, 0, \"211536\", 13.0, \"NaN\", \"S\", 0], [888, 1, 1, \"Graham, Miss. Margaret Edith\", \"female\", 19.0, 0, 0, \"112053\", 30.0, \"B42\", \"S\", 0], [889, 0, 3, \"Johnston, Miss. Catherine Helen \\\"Carrie\\\"\", \"female\", NaN, 1, 2, \"W./C. 6607\", 23.45, \"NaN\", \"S\", 0], [890, 1, 1, \"Behr, Mr. Karl Howell\", \"male\", 26.0, 0, 0, \"111369\", 30.0, \"C148\", \"C\", 0], [891, 0, 3, \"Dooley, Mr. Patrick\", \"male\", 32.0, 0, 0, \"370376\", 7.75, \"NaN\", \"Q\", 0]];\n",
       "\n",
       "        // Define the dt_args\n",
       "        let dt_args = {\"layout\": {\"topStart\": \"pageLength\", \"topEnd\": \"search\", \"bottomStart\": \"info\", \"bottomEnd\": \"paging\"}, \"order\": [], \"warn_on_selected_rows_not_rendered\": true};\n",
       "        dt_args[\"data\"] = data;\n",
       "\n",
       "        \n",
       "        new DataTable(table, dt_args);\n",
       "    });\n",
       "</script>\n"
      ],
      "text/plain": [
       "<IPython.core.display.HTML object>"
      ]
     },
     "metadata": {},
     "output_type": "display_data"
    }
   ],
   "source": [
    "itables.show(titanic, maxBytes = 0)\n"
   ]
  },
  {
   "cell_type": "code",
   "execution_count": 336,
   "id": "ce96421f",
   "metadata": {},
   "outputs": [
    {
     "name": "stdout",
     "output_type": "stream",
     "text": [
      "     0   1\n",
      "0  159  93\n",
      "1    6  10\n"
     ]
    }
   ],
   "source": [
    "fare_threshold = 100\n",
    "titanic[\"rich\"] = [1 if x  < fare_threshold else 0 for x in titanic[\"Fare\"]]\n",
    "\n",
    "# predictors = [\"Sex\", \"is_child\", \"rich\"]\n",
    "predictors = [\"rich\"]\n",
    "target = \"Survived\"\n",
    "\n",
    "X = titanic[predictors]\n",
    "y = titanic[target]\n",
    "\n",
    "X_train, X_test, y_train, y_test = train_test_split(X, y, test_size = 0.3, random_state = 42, stratify = y)\n",
    "\n",
    "logreg = LogisticRegression()\n",
    "logreg.fit(X_train, y_train)\n",
    "y_pred = logreg.predict(X_test)\n",
    "\n",
    "print(pd.DataFrame(confusion_matrix(y_pred, y_test)))\n"
   ]
  },
  {
   "cell_type": "code",
   "execution_count": 337,
   "id": "518c600c",
   "metadata": {},
   "outputs": [
    {
     "name": "stdout",
     "output_type": "stream",
     "text": [
      "mean_accuracy = 0.7761194029850746\n",
      "AUC Score: 0.7729\n",
      "[[138  27]\n",
      " [ 33  70]]\n",
      "              precision    recall  f1-score   support\n",
      "\n",
      "           0       0.81      0.84      0.82       165\n",
      "           1       0.72      0.68      0.70       103\n",
      "\n",
      "    accuracy                           0.78       268\n",
      "   macro avg       0.76      0.76      0.76       268\n",
      "weighted avg       0.77      0.78      0.77       268\n",
      "\n",
      "     0   1\n",
      "0  138  33\n",
      "1   27  70\n"
     ]
    },
    {
     "data": {
      "application/vnd.plotly.v1+json": {
       "config": {
        "plotlyServerURL": "https://plot.ly"
       },
       "data": [
        {
         "hovertemplate": "False Positive Rate=%{x}<br>True Positive Rate=%{y}<extra></extra>",
         "legendgroup": "",
         "line": {
          "color": "#636efa",
          "dash": "solid"
         },
         "marker": {
          "symbol": "circle"
         },
         "mode": "lines",
         "name": "",
         "orientation": "v",
         "showlegend": false,
         "type": "scatter",
         "x": {
          "bdata": "AAAAAAAAAAAAAAAAAAAAALkViluhuKU/8pQgTwnyxD9GF1100UXHP3TRRRdddNE/AAAAAAAA8D8=",
          "dtype": "f8"
         },
         "xaxis": "x",
         "y": {
          "bdata": "AAAAAAAAAABD0x3st9qoP5PzsohPIMU/2xia7mC/5T9/q42h6Q7mP/utNoamO+g/AAAAAAAA8D8=",
          "dtype": "f8"
         },
         "yaxis": "y"
        }
       ],
       "layout": {
        "annotations": [
         {
          "bgcolor": "rgba(40, 40, 40, 0.8)",
          "bordercolor": "lightgrey",
          "borderpad": 4,
          "borderwidth": 1,
          "font": {
           "color": "white",
           "size": 12
          },
          "showarrow": false,
          "text": "AUC = 0.7729",
          "x": 0.95,
          "xref": "paper",
          "y": 0.12,
          "yref": "paper"
         }
        ],
        "legend": {
         "tracegroupgap": 0
        },
        "template": {
         "data": {
          "bar": [
           {
            "error_x": {
             "color": "#f2f5fa"
            },
            "error_y": {
             "color": "#f2f5fa"
            },
            "marker": {
             "line": {
              "color": "rgb(17,17,17)",
              "width": 0.5
             },
             "pattern": {
              "fillmode": "overlay",
              "size": 10,
              "solidity": 0.2
             }
            },
            "type": "bar"
           }
          ],
          "barpolar": [
           {
            "marker": {
             "line": {
              "color": "rgb(17,17,17)",
              "width": 0.5
             },
             "pattern": {
              "fillmode": "overlay",
              "size": 10,
              "solidity": 0.2
             }
            },
            "type": "barpolar"
           }
          ],
          "carpet": [
           {
            "aaxis": {
             "endlinecolor": "#A2B1C6",
             "gridcolor": "#506784",
             "linecolor": "#506784",
             "minorgridcolor": "#506784",
             "startlinecolor": "#A2B1C6"
            },
            "baxis": {
             "endlinecolor": "#A2B1C6",
             "gridcolor": "#506784",
             "linecolor": "#506784",
             "minorgridcolor": "#506784",
             "startlinecolor": "#A2B1C6"
            },
            "type": "carpet"
           }
          ],
          "choropleth": [
           {
            "colorbar": {
             "outlinewidth": 0,
             "ticks": ""
            },
            "type": "choropleth"
           }
          ],
          "contour": [
           {
            "colorbar": {
             "outlinewidth": 0,
             "ticks": ""
            },
            "colorscale": [
             [
              0,
              "#0d0887"
             ],
             [
              0.1111111111111111,
              "#46039f"
             ],
             [
              0.2222222222222222,
              "#7201a8"
             ],
             [
              0.3333333333333333,
              "#9c179e"
             ],
             [
              0.4444444444444444,
              "#bd3786"
             ],
             [
              0.5555555555555556,
              "#d8576b"
             ],
             [
              0.6666666666666666,
              "#ed7953"
             ],
             [
              0.7777777777777778,
              "#fb9f3a"
             ],
             [
              0.8888888888888888,
              "#fdca26"
             ],
             [
              1,
              "#f0f921"
             ]
            ],
            "type": "contour"
           }
          ],
          "contourcarpet": [
           {
            "colorbar": {
             "outlinewidth": 0,
             "ticks": ""
            },
            "type": "contourcarpet"
           }
          ],
          "heatmap": [
           {
            "colorbar": {
             "outlinewidth": 0,
             "ticks": ""
            },
            "colorscale": [
             [
              0,
              "#0d0887"
             ],
             [
              0.1111111111111111,
              "#46039f"
             ],
             [
              0.2222222222222222,
              "#7201a8"
             ],
             [
              0.3333333333333333,
              "#9c179e"
             ],
             [
              0.4444444444444444,
              "#bd3786"
             ],
             [
              0.5555555555555556,
              "#d8576b"
             ],
             [
              0.6666666666666666,
              "#ed7953"
             ],
             [
              0.7777777777777778,
              "#fb9f3a"
             ],
             [
              0.8888888888888888,
              "#fdca26"
             ],
             [
              1,
              "#f0f921"
             ]
            ],
            "type": "heatmap"
           }
          ],
          "histogram": [
           {
            "marker": {
             "pattern": {
              "fillmode": "overlay",
              "size": 10,
              "solidity": 0.2
             }
            },
            "type": "histogram"
           }
          ],
          "histogram2d": [
           {
            "colorbar": {
             "outlinewidth": 0,
             "ticks": ""
            },
            "colorscale": [
             [
              0,
              "#0d0887"
             ],
             [
              0.1111111111111111,
              "#46039f"
             ],
             [
              0.2222222222222222,
              "#7201a8"
             ],
             [
              0.3333333333333333,
              "#9c179e"
             ],
             [
              0.4444444444444444,
              "#bd3786"
             ],
             [
              0.5555555555555556,
              "#d8576b"
             ],
             [
              0.6666666666666666,
              "#ed7953"
             ],
             [
              0.7777777777777778,
              "#fb9f3a"
             ],
             [
              0.8888888888888888,
              "#fdca26"
             ],
             [
              1,
              "#f0f921"
             ]
            ],
            "type": "histogram2d"
           }
          ],
          "histogram2dcontour": [
           {
            "colorbar": {
             "outlinewidth": 0,
             "ticks": ""
            },
            "colorscale": [
             [
              0,
              "#0d0887"
             ],
             [
              0.1111111111111111,
              "#46039f"
             ],
             [
              0.2222222222222222,
              "#7201a8"
             ],
             [
              0.3333333333333333,
              "#9c179e"
             ],
             [
              0.4444444444444444,
              "#bd3786"
             ],
             [
              0.5555555555555556,
              "#d8576b"
             ],
             [
              0.6666666666666666,
              "#ed7953"
             ],
             [
              0.7777777777777778,
              "#fb9f3a"
             ],
             [
              0.8888888888888888,
              "#fdca26"
             ],
             [
              1,
              "#f0f921"
             ]
            ],
            "type": "histogram2dcontour"
           }
          ],
          "mesh3d": [
           {
            "colorbar": {
             "outlinewidth": 0,
             "ticks": ""
            },
            "type": "mesh3d"
           }
          ],
          "parcoords": [
           {
            "line": {
             "colorbar": {
              "outlinewidth": 0,
              "ticks": ""
             }
            },
            "type": "parcoords"
           }
          ],
          "pie": [
           {
            "automargin": true,
            "type": "pie"
           }
          ],
          "scatter": [
           {
            "marker": {
             "line": {
              "color": "#283442"
             }
            },
            "type": "scatter"
           }
          ],
          "scatter3d": [
           {
            "line": {
             "colorbar": {
              "outlinewidth": 0,
              "ticks": ""
             }
            },
            "marker": {
             "colorbar": {
              "outlinewidth": 0,
              "ticks": ""
             }
            },
            "type": "scatter3d"
           }
          ],
          "scattercarpet": [
           {
            "marker": {
             "colorbar": {
              "outlinewidth": 0,
              "ticks": ""
             }
            },
            "type": "scattercarpet"
           }
          ],
          "scattergeo": [
           {
            "marker": {
             "colorbar": {
              "outlinewidth": 0,
              "ticks": ""
             }
            },
            "type": "scattergeo"
           }
          ],
          "scattergl": [
           {
            "marker": {
             "line": {
              "color": "#283442"
             }
            },
            "type": "scattergl"
           }
          ],
          "scattermap": [
           {
            "marker": {
             "colorbar": {
              "outlinewidth": 0,
              "ticks": ""
             }
            },
            "type": "scattermap"
           }
          ],
          "scattermapbox": [
           {
            "marker": {
             "colorbar": {
              "outlinewidth": 0,
              "ticks": ""
             }
            },
            "type": "scattermapbox"
           }
          ],
          "scatterpolar": [
           {
            "marker": {
             "colorbar": {
              "outlinewidth": 0,
              "ticks": ""
             }
            },
            "type": "scatterpolar"
           }
          ],
          "scatterpolargl": [
           {
            "marker": {
             "colorbar": {
              "outlinewidth": 0,
              "ticks": ""
             }
            },
            "type": "scatterpolargl"
           }
          ],
          "scatterternary": [
           {
            "marker": {
             "colorbar": {
              "outlinewidth": 0,
              "ticks": ""
             }
            },
            "type": "scatterternary"
           }
          ],
          "surface": [
           {
            "colorbar": {
             "outlinewidth": 0,
             "ticks": ""
            },
            "colorscale": [
             [
              0,
              "#0d0887"
             ],
             [
              0.1111111111111111,
              "#46039f"
             ],
             [
              0.2222222222222222,
              "#7201a8"
             ],
             [
              0.3333333333333333,
              "#9c179e"
             ],
             [
              0.4444444444444444,
              "#bd3786"
             ],
             [
              0.5555555555555556,
              "#d8576b"
             ],
             [
              0.6666666666666666,
              "#ed7953"
             ],
             [
              0.7777777777777778,
              "#fb9f3a"
             ],
             [
              0.8888888888888888,
              "#fdca26"
             ],
             [
              1,
              "#f0f921"
             ]
            ],
            "type": "surface"
           }
          ],
          "table": [
           {
            "cells": {
             "fill": {
              "color": "#506784"
             },
             "line": {
              "color": "rgb(17,17,17)"
             }
            },
            "header": {
             "fill": {
              "color": "#2a3f5f"
             },
             "line": {
              "color": "rgb(17,17,17)"
             }
            },
            "type": "table"
           }
          ]
         },
         "layout": {
          "annotationdefaults": {
           "arrowcolor": "#f2f5fa",
           "arrowhead": 0,
           "arrowwidth": 1
          },
          "autotypenumbers": "strict",
          "coloraxis": {
           "colorbar": {
            "outlinewidth": 0,
            "ticks": ""
           }
          },
          "colorscale": {
           "diverging": [
            [
             0,
             "#8e0152"
            ],
            [
             0.1,
             "#c51b7d"
            ],
            [
             0.2,
             "#de77ae"
            ],
            [
             0.3,
             "#f1b6da"
            ],
            [
             0.4,
             "#fde0ef"
            ],
            [
             0.5,
             "#f7f7f7"
            ],
            [
             0.6,
             "#e6f5d0"
            ],
            [
             0.7,
             "#b8e186"
            ],
            [
             0.8,
             "#7fbc41"
            ],
            [
             0.9,
             "#4d9221"
            ],
            [
             1,
             "#276419"
            ]
           ],
           "sequential": [
            [
             0,
             "#0d0887"
            ],
            [
             0.1111111111111111,
             "#46039f"
            ],
            [
             0.2222222222222222,
             "#7201a8"
            ],
            [
             0.3333333333333333,
             "#9c179e"
            ],
            [
             0.4444444444444444,
             "#bd3786"
            ],
            [
             0.5555555555555556,
             "#d8576b"
            ],
            [
             0.6666666666666666,
             "#ed7953"
            ],
            [
             0.7777777777777778,
             "#fb9f3a"
            ],
            [
             0.8888888888888888,
             "#fdca26"
            ],
            [
             1,
             "#f0f921"
            ]
           ],
           "sequentialminus": [
            [
             0,
             "#0d0887"
            ],
            [
             0.1111111111111111,
             "#46039f"
            ],
            [
             0.2222222222222222,
             "#7201a8"
            ],
            [
             0.3333333333333333,
             "#9c179e"
            ],
            [
             0.4444444444444444,
             "#bd3786"
            ],
            [
             0.5555555555555556,
             "#d8576b"
            ],
            [
             0.6666666666666666,
             "#ed7953"
            ],
            [
             0.7777777777777778,
             "#fb9f3a"
            ],
            [
             0.8888888888888888,
             "#fdca26"
            ],
            [
             1,
             "#f0f921"
            ]
           ]
          },
          "colorway": [
           "#636efa",
           "#EF553B",
           "#00cc96",
           "#ab63fa",
           "#FFA15A",
           "#19d3f3",
           "#FF6692",
           "#B6E880",
           "#FF97FF",
           "#FECB52"
          ],
          "font": {
           "color": "#f2f5fa"
          },
          "geo": {
           "bgcolor": "rgb(17,17,17)",
           "lakecolor": "rgb(17,17,17)",
           "landcolor": "rgb(17,17,17)",
           "showlakes": true,
           "showland": true,
           "subunitcolor": "#506784"
          },
          "hoverlabel": {
           "align": "left"
          },
          "hovermode": "closest",
          "mapbox": {
           "style": "dark"
          },
          "paper_bgcolor": "rgb(17,17,17)",
          "plot_bgcolor": "rgb(17,17,17)",
          "polar": {
           "angularaxis": {
            "gridcolor": "#506784",
            "linecolor": "#506784",
            "ticks": ""
           },
           "bgcolor": "rgb(17,17,17)",
           "radialaxis": {
            "gridcolor": "#506784",
            "linecolor": "#506784",
            "ticks": ""
           }
          },
          "scene": {
           "xaxis": {
            "backgroundcolor": "rgb(17,17,17)",
            "gridcolor": "#506784",
            "gridwidth": 2,
            "linecolor": "#506784",
            "showbackground": true,
            "ticks": "",
            "zerolinecolor": "#C8D4E3"
           },
           "yaxis": {
            "backgroundcolor": "rgb(17,17,17)",
            "gridcolor": "#506784",
            "gridwidth": 2,
            "linecolor": "#506784",
            "showbackground": true,
            "ticks": "",
            "zerolinecolor": "#C8D4E3"
           },
           "zaxis": {
            "backgroundcolor": "rgb(17,17,17)",
            "gridcolor": "#506784",
            "gridwidth": 2,
            "linecolor": "#506784",
            "showbackground": true,
            "ticks": "",
            "zerolinecolor": "#C8D4E3"
           }
          },
          "shapedefaults": {
           "line": {
            "color": "#f2f5fa"
           }
          },
          "sliderdefaults": {
           "bgcolor": "#C8D4E3",
           "bordercolor": "rgb(17,17,17)",
           "borderwidth": 1,
           "tickwidth": 0
          },
          "ternary": {
           "aaxis": {
            "gridcolor": "#506784",
            "linecolor": "#506784",
            "ticks": ""
           },
           "baxis": {
            "gridcolor": "#506784",
            "linecolor": "#506784",
            "ticks": ""
           },
           "bgcolor": "rgb(17,17,17)",
           "caxis": {
            "gridcolor": "#506784",
            "linecolor": "#506784",
            "ticks": ""
           }
          },
          "title": {
           "x": 0.05
          },
          "updatemenudefaults": {
           "bgcolor": "#506784",
           "borderwidth": 0
          },
          "xaxis": {
           "automargin": true,
           "gridcolor": "#283442",
           "linecolor": "#506784",
           "ticks": "",
           "title": {
            "standoff": 15
           },
           "zerolinecolor": "#283442",
           "zerolinewidth": 2
          },
          "yaxis": {
           "automargin": true,
           "gridcolor": "#283442",
           "linecolor": "#506784",
           "ticks": "",
           "title": {
            "standoff": 15
           },
           "zerolinecolor": "#283442",
           "zerolinewidth": 2
          }
         }
        },
        "title": {
         "text": "ROC Curve"
        },
        "xaxis": {
         "anchor": "y",
         "domain": [
          0,
          1
         ],
         "showgrid": false,
         "title": {
          "text": "False Positive Rate"
         }
        },
        "yaxis": {
         "anchor": "x",
         "domain": [
          0,
          1
         ],
         "showgrid": false,
         "title": {
          "text": "True Positive Rate"
         }
        }
       }
      }
     },
     "metadata": {},
     "output_type": "display_data"
    },
    {
     "data": {
      "text/plain": [
       "<sklearn.metrics._plot.roc_curve.RocCurveDisplay at 0x133fc6350>"
      ]
     },
     "execution_count": 337,
     "metadata": {},
     "output_type": "execute_result"
    },
    {
     "data": {
      "image/png": "[encoded data removed]",
      "text/plain": [
       "<Figure size 640x480 with 1 Axes>"
      ]
     },
     "metadata": {},
     "output_type": "display_data"
    }
   ],
   "source": [
    "fare_threshold = 200\n",
    "titanic[\"rich\"] = [1 if x  < fare_threshold else 0 for x in titanic[\"Fare\"]]\n",
    "\n",
    "predictors = [\"Sex\", \"is_child\", \"rich\"]\n",
    "target = \"Survived\"\n",
    "\n",
    "X = titanic[predictors]\n",
    "y = titanic[target]\n",
    "\n",
    "X_train, X_test, y_train, y_test = train_test_split(X, y, test_size = 0.3, random_state = 42, stratify = y)\n",
    "\n",
    "ct = ColumnTransformer(\n",
    "    transformers=[\n",
    "        (\"imputer\", SimpleImputer(strategy=\"most_frequent\"), [\"is_child\"]),\n",
    "        (\"ohe\", OneHotEncoder(sparse_output=False, handle_unknown=\"ignore\"), [\"Sex\"]),\n",
    "    ],\n",
    "    remainder = \"passthrough\"\n",
    ")\n",
    "\n",
    "steps = [\n",
    "    (\"ct\", ct),\n",
    "    (\"logreg\", LogisticRegression())\n",
    "]\n",
    "\n",
    "pipeline = Pipeline(steps)\n",
    "pipeline.fit(X_train, y_train)\n",
    "y_pred = pipeline.predict(X_test)\n",
    "y_pred_proba = pipeline.predict_proba(X_test)[:, 1]\n",
    "\n",
    "print(f\"mean_accuracy = {pipeline.score(X_test, y_test)}\")\n",
    "print(f\"AUC Score: {roc_auc_score(y_test, y_pred_proba):.4f}\")\n",
    "print(confusion_matrix(y_test, y_pred))\n",
    "print(classification_report(y_test, y_pred))\n",
    "print(pd.DataFrame(confusion_matrix(y_pred, y_test)))\n",
    "\n",
    "fpr, tpr, thresholds = roc_curve(y_test, y_pred_proba)\n",
    "\n",
    "fig = px.line(\n",
    "    x = fpr,\n",
    "    y = tpr,\n",
    "    title='ROC Curve',\n",
    "    labels={'x': 'False Positive Rate', 'y': 'True Positive Rate'}, # Add labels\n",
    "    template = \"plotly_dark\" \n",
    ").update_layout(\n",
    "    xaxis = dict(showgrid = False),\n",
    "    yaxis = dict(showgrid = False),\n",
    "    annotations=[\n",
    "            dict(\n",
    "                xref=\"paper\",\n",
    "                yref=\"paper\",\n",
    "                x=0.95,  # Position X\n",
    "                y=0.12,  # Position Y\n",
    "                text=f\"AUC = {roc_auc_score(y_test, y_pred_proba):.4f}\",\n",
    "                showarrow = False,\n",
    "                font=dict(\n",
    "                    size=12,\n",
    "                    color=\"white\" # Ensure text is visible on dark background + box\n",
    "                ),\n",
    "                # --- Properties for the box ---\n",
    "                bgcolor=\"rgba(40, 40, 40, 0.8)\", # Semi-transparent dark background\n",
    "                bordercolor=\"lightgrey\",         # Color of the border\n",
    "                borderwidth=1,                 # Width of the border in pixels\n",
    "                borderpad=4                    # Padding between text and border\n",
    "            )\n",
    "    ]\n",
    ")\n",
    "fig.show()\n",
    "\n",
    "RocCurveDisplay.from_estimator(pipeline, X_test, y_test)\n"
   ]
  }
 ],
 "metadata": {
  "kernelspec": {
   "display_name": ".venv",
   "language": "python",
   "name": "python3"
  },
  "language_info": {
   "codemirror_mode": {
    "name": "ipython",
    "version": 3
   },
   "file_extension": ".py",
   "mimetype": "text/x-python",
   "name": "python",
   "nbconvert_exporter": "python",
   "pygments_lexer": "ipython3",
   "version": "3.11.11"
  }
 },
 "nbformat": 4,
 "nbformat_minor": 5
}
