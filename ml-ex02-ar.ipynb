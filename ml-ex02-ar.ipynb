{
 "cells": [
  {
   "cell_type": "markdown",
   "id": "5669c28f",
   "metadata": {},
   "source": [
    "<!-- ---\n",
    "title: \"ml exercise 2\"\n",
    "author: \"andrew richard\"\n",
    "format: \n",
    "    html:\n",
    "        code-fold: false\n",
    "output: html\n",
    "jupyter: python3\n",
    "execute:\n",
    "    enabled: true\n",
    "--- -->\n",
    "## Machine Learning Exercise 2: Classification Basics\n",
    "\n",
    "In this exercise, you'll be working with a dataset containing information about passengers on the Titanic. You can get more information about this dataset [here](https://www.kaggle.com/competitions/titanic). Our goal will be to build a model to predict whether a passenger survived the voyage.\n"
   ]
  },
  {
   "cell_type": "code",
   "execution_count": null,
   "id": "a9e6b303",
   "metadata": {},
   "outputs": [],
   "source": [
    "\n",
    "import pandas as pd\n",
    "import matplotlib.pyplot as plt\n",
    "import numpy as np\n",
    "import seaborn as sns\n",
    "from sklearn.preprocessing import OneHotEncoder, Normalizer\n",
    "from sklearn.model_selection import train_test_split, cross_val_score, KFold, GridSearchCV\n",
    "from sklearn.linear_model import LinearRegression, LogisticRegression, Ridge, Lasso \n",
    "from sklearn.neighbors import KNeighborsClassifier, KNeighborsRegressor\n",
    "from sklearn.tree import DecisionTreeClassifier\n",
    "from sklearn import metrics\n",
    "from sklearn.metrics import r2_score, mean_squared_error, mean_absolute_error, root_mean_squared_error, mean_absolute_percentage_error, confusion_matrix, classification_report, roc_curve, roc_auc_score, RocCurveDisplay\n",
    "from sklearn.compose import TransformedTargetRegressor, ColumnTransformer\n",
    "from sklearn.impute import SimpleImputer\n"
   ]
  },
  {
   "cell_type": "markdown",
   "id": "9d56200c",
   "metadata": {},
   "source": [
    "Let's start by building a model using Age as a predictor variable.\n",
    "\n",
    "When performing a train/test split, you usually want to make sure that the ratios of target values look the same in the training set and in the test set. This is especially true with imbalanced targets, where there are more observations in one class than the other. This can be done by, instead of a completely random split, by performing a **stratified** split.\n",
    "\n",
    "1.  Create a DataFrame, X, which contains one column, Age, and a Series, y, which contains the target variable. Perform a 70/30 train/test split, stratifying by the target variable. Make sure that you set a random_state during this split. \n"
   ]
  },
  {
   "cell_type": "markdown",
   "id": "1fc75a0b",
   "metadata": {},
   "source": [
    "**initial setup**"
   ]
  },
  {
   "cell_type": "code",
   "execution_count": 74,
   "id": "7ffc5939",
   "metadata": {},
   "outputs": [
    {
     "name": "stdout",
     "output_type": "stream",
     "text": [
      "(891, 1) (891,)\n"
     ]
    }
   ],
   "source": [
    "titanic = pd.DataFrame(pd.read_csv(\"./data/titanic.csv\"))\n",
    "X = titanic[[\"Age\"]]\n",
    "y = titanic[\"Survived\"]\n",
    "print(X.shape, y.shape)\n"
   ]
  },
  {
   "cell_type": "code",
   "execution_count": 75,
   "id": "e674b1fd",
   "metadata": {},
   "outputs": [
    {
     "name": "stdout",
     "output_type": "stream",
     "text": [
      "     PassengerId  Survived  Pclass  \\\n",
      "0              1         0       3   \n",
      "1              2         1       1   \n",
      "2              3         1       3   \n",
      "3              4         1       1   \n",
      "4              5         0       3   \n",
      "..           ...       ...     ...   \n",
      "886          887         0       2   \n",
      "887          888         1       1   \n",
      "888          889         0       3   \n",
      "889          890         1       1   \n",
      "890          891         0       3   \n",
      "\n",
      "                                                  Name     Sex   Age  SibSp  \\\n",
      "0                              Braund, Mr. Owen Harris    male  22.0      1   \n",
      "1    Cumings, Mrs. John Bradley (Florence Briggs Th...  female  38.0      1   \n",
      "2                               Heikkinen, Miss. Laina  female  26.0      0   \n",
      "3         Futrelle, Mrs. Jacques Heath (Lily May Peel)  female  35.0      1   \n",
      "4                             Allen, Mr. William Henry    male  35.0      0   \n",
      "..                                                 ...     ...   ...    ...   \n",
      "886                              Montvila, Rev. Juozas    male  27.0      0   \n",
      "887                       Graham, Miss. Margaret Edith  female  19.0      0   \n",
      "888           Johnston, Miss. Catherine Helen \"Carrie\"  female   NaN      1   \n",
      "889                              Behr, Mr. Karl Howell    male  26.0      0   \n",
      "890                                Dooley, Mr. Patrick    male  32.0      0   \n",
      "\n",
      "     Parch            Ticket     Fare Cabin Embarked  \n",
      "0        0         A/5 21171   7.2500   NaN        S  \n",
      "1        0          PC 17599  71.2833   C85        C  \n",
      "2        0  STON/O2. 3101282   7.9250   NaN        S  \n",
      "3        0            113803  53.1000  C123        S  \n",
      "4        0            373450   8.0500   NaN        S  \n",
      "..     ...               ...      ...   ...      ...  \n",
      "886      0            211536  13.0000   NaN        S  \n",
      "887      0            112053  30.0000   B42        S  \n",
      "888      2        W./C. 6607  23.4500   NaN        S  \n",
      "889      0            111369  30.0000  C148        C  \n",
      "890      0            370376   7.7500   NaN        Q  \n",
      "\n",
      "[891 rows x 12 columns]\n"
     ]
    }
   ],
   "source": [
    "print(titanic)"
   ]
  },
  {
   "cell_type": "markdown",
   "id": "547db44c",
   "metadata": {},
   "source": [
    "\n",
    "\n",
    "**train-test-split**\n"
   ]
  },
  {
   "cell_type": "code",
   "execution_count": 76,
   "id": "a997bd3e",
   "metadata": {},
   "outputs": [],
   "source": [
    "X_train, X_test, y_train, y_test = train_test_split(X, y, test_size = 0.3, random_state = 42, stratify = y)\n",
    "\n"
   ]
  },
  {
   "cell_type": "markdown",
   "id": "9ee621f5",
   "metadata": {},
   "source": [
    "\n",
    "2. Now, try and fit a logistic regression model using the [LogisticRegression class](https://scikit-learn.org/stable/modules/generated/sklearn.linear_model.LogisticRegression.html). When you do this, you're likely to encounter an error, that \"Input X contains NaN.\" If you check, you'll find that there are some missing values in the Age column. In the next step, we'll address this issue."
   ]
  },
  {
   "cell_type": "markdown",
   "id": "5ceeb6b7",
   "metadata": {},
   "source": [
    "**Logistic Regression attempt**"
   ]
  },
  {
   "cell_type": "markdown",
   "id": "4e756f86",
   "metadata": {},
   "source": [
    "```python\n",
    "logm = LogisticRegression()\n",
    "log_fit = logm.fit(X_train, y_train)\n",
    "```\n",
    "```\n",
    "ValueError: Input X contains NaN.\n",
    "LogisticRegression does not accept missing values encoded as NaN natively. For supervised learning, you might want to consider sklearn.ensemble.HistGradientBoostingClassifier and Regressor which accept missing values encoded as NaNs natively. Alternatively, it is possible to preprocess the data, for instance by using an imputer transformer in a pipeline or drop samples with missing values. See https://scikit-learn.org/stable/modules/impute.html You can find a list of all estimators that handle NaN values at the following page: https://scikit-learn.org/stable/modules/impute.html#estimators-that-handle-nan-values\n",
    "```\n",
    "One option when a column contains missing values is to **impute** them, meaning to replace the missing values with an estimate. A simple way to impute is to fill missing values using the mean value. **Important Note:** When imputing with the mean, you should calculate the mean value only on the training data. In order to have an unbiased estimate of model performance, it is important that the model has access to no information about the test set.\n"
   ]
  },
  {
   "cell_type": "markdown",
   "id": "d695cc2f",
   "metadata": {},
   "source": [
    "\n",
    "3. Using a [SimpleImputer](https://scikit-learn.org/stable/modules/generated/sklearn.impute.SimpleImputer.html), fit the training data and then use it to transform both the training and test data. \n"
   ]
  },
  {
   "cell_type": "code",
   "execution_count": 77,
   "id": "35414d8d",
   "metadata": {},
   "outputs": [],
   "source": [
    "\n",
    "\n",
    "imputer = SimpleImputer(missing_values = np.nan, strategy = \"mean\")\n",
    "X_train = imputer.fit_transform(X_train)\n",
    "X_test = imputer.transform(X_test) # don't want to refit to the test data, only transform\n"
   ]
  },
  {
   "cell_type": "markdown",
   "id": "0646b16d",
   "metadata": {},
   "source": [
    "\n",
    "4. Now, fit your logistic regression model to the training data and generate predictions on the test data.\n"
   ]
  },
  {
   "cell_type": "code",
   "execution_count": 78,
   "id": "58b7d430",
   "metadata": {},
   "outputs": [],
   "source": [
    "\n",
    "logm = LogisticRegression()\n",
    "logm.fit(X_train, y_train)\n",
    "y_pred = logm.predict(X_test)"
   ]
  },
  {
   "cell_type": "markdown",
   "id": "d2cf5111",
   "metadata": {},
   "source": [
    "There are multiple ways we can assess the performance of a classification model. A common way is put those predictions into a [confusion matrix](https://en.wikipedia.org/wiki/Confusion_matrix), which compares the predicted and actual values. \n",
    "\n",
    "5. Create a confusion matrix out of the predictions. What do you find?\n"
   ]
  },
  {
   "cell_type": "code",
   "execution_count": 79,
   "id": "d93bc431",
   "metadata": {},
   "outputs": [
    {
     "name": "stdout",
     "output_type": "stream",
     "text": [
      "<class 'pandas.core.frame.DataFrame'>      0  1\n",
      "0  165  0\n",
      "1  103  0\n"
     ]
    }
   ],
   "source": [
    "conf = pd.DataFrame(confusion_matrix(y_test, y_pred))\n",
    "print(type(conf), conf)"
   ]
  },
  {
   "cell_type": "markdown",
   "id": "d3daf8e9",
   "metadata": {},
   "source": [
    "6. Plot the ROC curve. How well does your model do? Hint: You can use the [RocCurveDisplay](https://scikit-learn.org/stable/modules/generated/sklearn.metrics.RocCurveDisplay.html) to create this plot.\n"
   ]
  },
  {
   "cell_type": "markdown",
   "id": "2b83aa99",
   "metadata": {},
   "source": [
    "TPR = TP / (TP + FN)\n",
    "FPR = FP / (TN + FP)"
   ]
  },
  {
   "cell_type": "code",
   "execution_count": 80,
   "id": "9d1a1f86",
   "metadata": {},
   "outputs": [
    {
     "data": {
      "image/png": "[encoded data removed]",
      "text/plain": [
       "<Figure size 640x480 with 1 Axes>"
      ]
     },
     "metadata": {},
     "output_type": "display_data"
    },
    {
     "name": "stdout",
     "output_type": "stream",
     "text": [
      "0.4984407178581936\n"
     ]
    },
    {
     "data": {
      "text/plain": [
       "<sklearn.metrics._plot.roc_curve.RocCurveDisplay at 0x12af4e0d0>"
      ]
     },
     "execution_count": 80,
     "metadata": {},
     "output_type": "execute_result"
    },
    {
     "data": {
      "image/png": "[encoded data removed]",
      "text/plain": [
       "<Figure size 640x480 with 1 Axes>"
      ]
     },
     "metadata": {},
     "output_type": "display_data"
    }
   ],
   "source": [
    "from sklearn import metrics\n",
    "# the datacamp way\n",
    "y_pred_probs = logm.predict_proba(X_test)[:, 1]\n",
    "fpr, tpr, thresholds = roc_curve(y_test, y_pred_probs)\n",
    "plt.plot(fpr, tpr)\n",
    "plt.xlabel('False Positive Rate')\n",
    "plt.ylabel('True Positive Rate')\n",
    "plt.title('ROC Curve')\n",
    "plt.show()\n",
    "\n",
    "# with RocCurveDisplay\n",
    "roc_auc = metrics.auc(fpr, tpr)\n",
    "print(roc_auc)\n",
    "RocCurveDisplay(fpr=fpr, tpr=tpr, roc_auc=roc_auc).plot()"
   ]
  },
  {
   "cell_type": "markdown",
   "id": "ff7725e4",
   "metadata": {},
   "source": [
    "\n",
    "You are likely to see that the model does not tend to predict that individuals survived the voyage. Let's see if we can determine why.\n",
    "\n",
    "7. Look at the average age of survivors vs. those that did not survive the voyage. What do you find?\n"
   ]
  },
  {
   "cell_type": "code",
   "execution_count": 81,
   "id": "83e6ad19",
   "metadata": {},
   "outputs": [
    {
     "name": "stdout",
     "output_type": "stream",
     "text": [
      "avg survivor age: 28.343689655172415, avg dead age: 30.62617924528302\n"
     ]
    }
   ],
   "source": [
    "survivors = titanic[titanic[\"Survived\"] == 1]\n",
    "dead = titanic[titanic[\"Survived\"] == 0]\n",
    "\n",
    "avg_surv_age = survivors[\"Age\"].mean()\n",
    "avg_dead_age = dead[\"Age\"].mean()\n",
    "\n",
    "print(f'avg survivor age: {avg_surv_age}, avg dead age: {avg_dead_age}')"
   ]
  },
  {
   "cell_type": "markdown",
   "id": "d4722222",
   "metadata": {},
   "source": [
    "8. Perhaps the actual age number is as important as whether a passenger was a child or an adult. Create a Boolean column that indicates whether a passenger was a child or an adult. Pick a cutoff age and if they were less than this age, label as a child. We'll see later on how we can make choosing the age part of our model building pipeline, but for now, choose an age or do some calculations to pick an age that you think might do well."
   ]
  },
  {
   "cell_type": "code",
   "execution_count": 82,
   "id": "5850406a",
   "metadata": {},
   "outputs": [
    {
     "name": "stdout",
     "output_type": "stream",
     "text": [
      "Number of children: 113\n"
     ]
    }
   ],
   "source": [
    "cutoff_age = 18\n",
    "\n",
    "titanic[\"is_child\"] = [1 if x  < cutoff_age else 0 for x in titanic[\"Age\"]]\n",
    "print(f'Number of children: {titanic[\"is_child\"].sum()}')"
   ]
  },
  {
   "cell_type": "markdown",
   "id": "9e4f6db5",
   "metadata": {},
   "source": [
    "9. When imputing the missing values, you'll need to change the strategy from mean to most_frequent. Impute the missing values, then fit the model using this new variable, generate predictions, and view the confusion matrix. How did your model do?"
   ]
  },
  {
   "cell_type": "code",
   "execution_count": 83,
   "id": "541102ae",
   "metadata": {},
   "outputs": [
    {
     "name": "stdout",
     "output_type": "stream",
     "text": [
      "[[143  22]\n",
      " [ 84  19]]\n"
     ]
    }
   ],
   "source": [
    "# specify target and predictor(s)\n",
    "predictors = ['is_child']\n",
    "target = 'Survived'\n",
    "\n",
    "X = titanic[predictors]\n",
    "y = titanic[target]\n",
    "\n",
    "X_train, X_test, y_train, y_test = train_test_split(X, y, test_size=.3, random_state=42, stratify=y)\n",
    "\n",
    "imputer = SimpleImputer(missing_values=np.nan, strategy='most_frequent')\n",
    "X_train = imputer.fit_transform(X_train)\n",
    "X_test = imputer.transform(X_test)\n",
    "\n",
    "# initializing our logistic regression model\n",
    "logreg = LogisticRegression()\n",
    "logreg.fit(X_train, y_train)\n",
    "y_pred = logreg.predict(X_test)\n",
    "\n",
    "# print confusion matrix for model\n",
    "print(confusion_matrix(y_test, y_pred))"
   ]
  },
  {
   "cell_type": "code",
   "execution_count": 84,
   "id": "4b91026f",
   "metadata": {},
   "outputs": [
    {
     "name": "stdout",
     "output_type": "stream",
     "text": [
      "<class 'pandas.core.frame.DataFrame'>      0   1\n",
      "0  143  22\n",
      "1   84  19\n"
     ]
    }
   ],
   "source": [
    "# declare new predictor variable\n",
    "X = titanic[['is_child']]\n",
    "\n",
    "# new train test split for new X\n",
    "X_train, X_test, y_train, y_test = train_test_split(X, y, test_size = 0.3, random_state=42, stratify=y)\n",
    "\n",
    "# Impute missing values\n",
    "imputer = SimpleImputer(missing_values = np.nan, strategy = \"most_frequent\")\n",
    "X_train = imputer.fit_transform(X_train)\n",
    "X_test = imputer.transform(X_test)\n",
    "\n",
    "# make predictions\n",
    "logm = LogisticRegression()\n",
    "logm.fit(X_train, y_train)\n",
    "y_pred = logm.predict(X_test)\n",
    "\n",
    "# confusion matrix\n",
    "conf = pd.DataFrame(confusion_matrix(y_test, y_pred))\n",
    "print(type(conf), conf)\n"
   ]
  },
  {
   "cell_type": "markdown",
   "id": "618a729c",
   "metadata": {},
   "source": [
    "\n",
    "Other common metrics for classification include accuracy, precision, and recall. For more information, see https://developers.google.com/machine-learning/crash-course/classification/accuracy-precision-recall. These metrics can be viewed using the [classification_report function](https://scikit-learn.org/stable/modules/generated/sklearn.metrics.classification_report.html). "
   ]
  },
  {
   "cell_type": "markdown",
   "id": "0a7832ec",
   "metadata": {},
   "source": [
    "10. Generate a classification report for your model."
   ]
  },
  {
   "cell_type": "code",
   "execution_count": 85,
   "id": "c7ff42a8",
   "metadata": {},
   "outputs": [
    {
     "name": "stdout",
     "output_type": "stream",
     "text": [
      "              precision    recall  f1-score   support\n",
      "\n",
      "        Died       0.63      0.87      0.73       165\n",
      "    Survived       0.46      0.18      0.26       103\n",
      "\n",
      "    accuracy                           0.60       268\n",
      "   macro avg       0.55      0.53      0.50       268\n",
      "weighted avg       0.57      0.60      0.55       268\n",
      "\n"
     ]
    }
   ],
   "source": [
    "target_names = ['Died', 'Survived']\n",
    "classification_rep = metrics.classification_report(y_test, y_pred, target_names=target_names)\n",
    "print(classification_rep)"
   ]
  },
  {
   "cell_type": "markdown",
   "id": "028829e4",
   "metadata": {},
   "source": [
    "\n",
    "Another important variable is the Sex variable. \n",
    "\n",
    "11. Create a DataFrame, X, which contains one column, Sex, and a Series, y, which contains the target variable. Perform a 70/30 train/test split, stratifying by the target variable. Make sure that you set a random_state during this split. "
   ]
  },
  {
   "cell_type": "code",
   "execution_count": 86,
   "id": "742aff4f",
   "metadata": {},
   "outputs": [],
   "source": [
    "predictors = [\"Sex\"]\n",
    "target = \"Survived\"\n",
    "\n",
    "X = titanic[predictors]\n",
    "y = titanic[target]\n",
    "\n",
    "X_train, X_test, y_train, y_test = train_test_split(\n",
    "    X, \n",
    "    y,\n",
    "    test_size = 0.3,\n",
    "    random_state = 42,\n",
    "    stratify = y\n",
    ")"
   ]
  },
  {
   "cell_type": "markdown",
   "id": "f11c80e0",
   "metadata": {},
   "source": [
    "If you inspect the Sex variable, you'll find that it is encoded as a string. We need to convert it to a numeric type so that our model can use it. We can do this using a [OneHotEncoder](https://scikit-learn.org/stable/modules/generated/sklearn.preprocessing.OneHotEncoder.html).\n"
   ]
  },
  {
   "cell_type": "markdown",
   "id": "404fdd72",
   "metadata": {},
   "source": [
    "\n",
    "12. Fit a OneHotEncoder to the training data and then transform both the training and test sets. Fit a model and evaluate the performance of this model.\n"
   ]
  },
  {
   "cell_type": "code",
   "execution_count": 91,
   "id": "b0cee0c2",
   "metadata": {},
   "outputs": [
    {
     "name": "stdout",
     "output_type": "stream",
     "text": [
      "     0   1\n",
      "0  138  33\n",
      "1   27  70\n"
     ]
    }
   ],
   "source": [
    "encoder = OneHotEncoder(sparse_output=False, handle_unknown='ignore')\n",
    "X_train_encoded = encoder.fit_transform(X_train)\n",
    "X_test_encoded = encoder.transform(X_test)\n",
    "\n",
    "logreg = LogisticRegression()\n",
    "logreg.fit(X_train_encoded, y_train)\n",
    "y_pred = logreg.predict(X_test_encoded)\n",
    "\n",
    "print(pd.DataFrame(confusion_matrix(y_pred, y_test)))"
   ]
  },
  {
   "cell_type": "markdown",
   "id": "e50cdfc5",
   "metadata": {},
   "source": [
    "\n",
    "Notice how we have used different types of transformations, an imputer for the age-related variables and a OneHotEncoder for the Sex variable. When we need to use multiple types of transformations, a [ColumnTransformer](https://scikit-learn.org/stable/modules/generated/sklearn.compose.ColumnTransformer.html) is useful. \n",
    "\n",
    "In the next part, we'll fit a model using both the Sex column and our column indicating whether the passenger was a child. \n",
    "\n",
    "13. Create a DataFrame, X, which contains two columns, Sex and the child indicator column, and a Series, y, which contains the target variable. Perform a 70/30 train/test split, stratifying by the target variable. Make sure that you set a random_state during this split. Then create a ColumnTransformer which will apply a SimpleImputer to the child column and a OneHotEncoder to the Sex column. Fit it on the training data and then transform the test data. Then fit a model on this and see how well it does.\n"
   ]
  },
  {
   "cell_type": "code",
   "execution_count": null,
   "id": "9011bafa",
   "metadata": {},
   "outputs": [],
   "source": [
    "# identify variables of interest\n",
    "predictors = [\"Sex\", \"is_child\"]\n",
    "target = \"Survived\"\n",
    "\n",
    "X = titanic[predictors]\n",
    "y = titanic[target]\n",
    "\n",
    "X_train, X_test, y_train, y_test = train_test_split(\n",
    "    X, \n",
    "    y,\n",
    "    test_size = 0.3,\n",
    "    random_state = 42,\n",
    "    stratify = y\n",
    ")\n",
    "\n",
    "ct = ColumnTransformer(\n",
    "    transformers=[\n",
    "        (\"imputer\", SimpleImputer, X_train[\"Sex\"]),\n",
    "        (\"ohe\", OneHotEncoder, X_train[\"is_child\"]),\n",
    "    ]\n",
    ")\n",
    "ct.fit_transform(X_train)\n",
    "ct.transform(X_test)\n",
    "\n",
    "logm = LogisticRegression()\n",
    "logm.fit(X_train, y_train)\n",
    "y_pred = logm.predict(X_test\n",
    "\n"
   ]
  },
  {
   "cell_type": "markdown",
   "id": "617df7d5",
   "metadata": {},
   "source": [
    "\n",
    "Finally, let's see how we can do all of this in a slightly more compact manner. We can use a [Pipeline](https://scikit-learn.org/stable/modules/generated/sklearn.pipeline.Pipeline.html) which allows us to specify preprocessing steps (like the ColumnTransformer we used earlier) as well as the model we want to fit. \n",
    "\n",
    "14. Create a Pipeline which contains the ColumnTransformer and the LogisticRegression model. \n",
    "\n",
    "** If you've reached this point, let your instructors know so that they can check in with you. **\n",
    "\n",
    "Stretch Goals\n",
    "\n",
    "1. Try adding additional features and see how this affects your model. Think carefully about if you want passenger class to be treated as a numeric or a categorical variable.\n"
   ]
  }
 ],
 "metadata": {
  "kernelspec": {
   "display_name": ".venv",
   "language": "python",
   "name": "python3"
  },
  "language_info": {
   "codemirror_mode": {
    "name": "ipython",
    "version": 3
   },
   "file_extension": ".py",
   "mimetype": "text/x-python",
   "name": "python",
   "nbconvert_exporter": "python",
   "pygments_lexer": "ipython3",
   "version": "3.11.11"
  }
 },
 "nbformat": 4,
 "nbformat_minor": 5
}
