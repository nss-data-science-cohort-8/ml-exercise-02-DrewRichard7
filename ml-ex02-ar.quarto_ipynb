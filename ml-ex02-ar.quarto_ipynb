{
  "cells": [
    {
      "cell_type": "markdown",
      "metadata": {},
      "source": [
        "---\n",
        "title: \"ml exercise 2\"\n",
        "author: \"andrew richard\"\n",
        "format: \n",
        "    html:\n",
        "        code-fold: false\n",
        "output: html\n",
        "jupyter: python3\n",
        "execute:\n",
        "    enabled: true\n",
        "---\n",
        "\n",
        "## Machine Learning Exercise 2: Classification Basics\n",
        "\n",
        "In this exercise, you'll be working with a dataset containing information about passengers on the Titanic. You can get more information about this dataset [here](https://www.kaggle.com/competitions/titanic). Our goal will be to build a model to predict whether a passenger survived the voyage.\n"
      ],
      "id": "952f9b17"
    },
    {
      "cell_type": "code",
      "metadata": {},
      "source": [
        "import pandas as pd\n",
        "import matplotlib.pyplot as plt\n",
        "import numpy as np\n",
        "import seaborn as sns\n",
        "from sklearn.preprocessing import OneHotEncoder, Normalizer\n",
        "from sklearn.model_selection import train_test_split, cross_val_score, KFold, GridSearchCV\n",
        "from sklearn.linear_model import LinearRegression, LogisticRegression, Ridge, Lasso \n",
        "from sklearn.neighbors import KNeighborsClassifier, KNeighborsRegressor\n",
        "from sklearn.tree import DecisionTreeClassifier\n",
        "from sklearn import metrics\n",
        "from sklearn.metrics import r2_score, mean_squared_error, mean_absolute_error, root_mean_squared_error, mean_absolute_percentage_error, confusion_matrix, classification_report, roc_curve, roc_auc_score, RocCurveDisplay\n",
        "from sklearn.compose import TransformedTargetRegressor, ColumnTransformer\n",
        "from sklearn.impute import SimpleImputer"
      ],
      "id": "cc36939c",
      "execution_count": null,
      "outputs": []
    },
    {
      "cell_type": "markdown",
      "metadata": {},
      "source": [
        "Let's start by building a model using Age as a predictor variable.\n",
        "\n",
        "When performing a train/test split, you usually want to make sure that the ratios of target values look the same in the training set and in the test set. This is especially true with imbalanced targets, where there are more observations in one class than the other. This can be done by, instead of a completely random split, by performing a **stratified** split.\n",
        "\n",
        "1.  Create a DataFrame, X, which contains one column, Age, and a Series, y, which contains the target variable. Perform a 70/30 train/test split, stratifying by the target variable. Make sure that you set a random_state during this split. \n",
        "\n",
        "**initial setup**"
      ],
      "id": "1d29364b"
    },
    {
      "cell_type": "code",
      "metadata": {},
      "source": [
        "titanic = pd.DataFrame(pd.read_csv(\"./data/titanic.csv\"))\n",
        "X = titanic[[\"Age\"]]\n",
        "y = titanic[\"Survived\"]\n",
        "print(X.shape, y.shape)"
      ],
      "id": "9062e843",
      "execution_count": null,
      "outputs": []
    },
    {
      "cell_type": "markdown",
      "metadata": {},
      "source": [
        "**train-test-split**"
      ],
      "id": "70cd39b4"
    },
    {
      "cell_type": "code",
      "metadata": {},
      "source": [
        "X_train, X_test, y_train, y_test = train_test_split(X, y, test_size = 0.3, random_state = 42, stratify = y)"
      ],
      "id": "a6bf6bc6",
      "execution_count": null,
      "outputs": []
    },
    {
      "cell_type": "markdown",
      "metadata": {},
      "source": [
        "2. Now, try and fit a logistic regression model using the [LogisticRegression class](https://scikit-learn.org/stable/modules/generated/sklearn.linear_model.LogisticRegression.html). When you do this, you're likely to encounter an error, that \"Input X contains NaN.\" If you check, you'll find that there are some missing values in the Age column. In the next step, we'll address this issue.\n",
        "\n",
        "**Logistic Regression attempt**\n",
        "```python\n",
        "logm = LogisticRegression()\n",
        "log_fit = logm.fit(X_train, y_train)\n",
        "```\n",
        "```\n",
        "ValueError: Input X contains NaN.\n",
        "LogisticRegression does not accept missing values encoded as NaN natively. For supervised learning, you might want to consider sklearn.ensemble.HistGradientBoostingClassifier and Regressor which accept missing values encoded as NaNs natively. Alternatively, it is possible to preprocess the data, for instance by using an imputer transformer in a pipeline or drop samples with missing values. See https://scikit-learn.org/stable/modules/impute.html You can find a list of all estimators that handle NaN values at the following page: https://scikit-learn.org/stable/modules/impute.html#estimators-that-handle-nan-values\n",
        "```\n",
        "One option when a column contains missing values is to **impute** them, meaning to replace the missing values with an estimate. A simple way to impute is to fill missing values using the mean value. **Important Note:** When imputing with the mean, you should calculate the mean value only on the training data. In order to have an unbiased estimate of model performance, it is important that the model has access to no information about the test set.\n",
        "\n",
        "3. Using a [SimpleImputer](https://scikit-learn.org/stable/modules/generated/sklearn.impute.SimpleImputer.html), fit the training data and then use it to transform both the training and test data. \n",
        "\n",
        "**Imputing**"
      ],
      "id": "32d15547"
    },
    {
      "cell_type": "code",
      "metadata": {},
      "source": [
        "imputer = SimpleImputer(missing_values = np.nan, strategy = \"mean\")\n",
        "X_train = imputer.fit_transform(X_train)\n",
        "X_test = imputer.transform(X_test)"
      ],
      "id": "a3106fed",
      "execution_count": null,
      "outputs": []
    },
    {
      "cell_type": "markdown",
      "metadata": {},
      "source": [
        "4. Now, fit your logistic regression model to the training data and generate predictions on the test data.\n"
      ],
      "id": "f36c173e"
    },
    {
      "cell_type": "code",
      "metadata": {},
      "source": [
        "logm = LogisticRegression()\n",
        "logm.fit(X_train, y_train)\n",
        "y_pred = logm.predict(X_test)"
      ],
      "id": "55d4fc19",
      "execution_count": null,
      "outputs": []
    },
    {
      "cell_type": "markdown",
      "metadata": {},
      "source": [
        "There are multiple ways we can assess the performance of a classification model. A common way is put those predictions into a [confusion matrix](https://en.wikipedia.org/wiki/Confusion_matrix), which compares the predicted and actual values. \n",
        "\n",
        "5. Create a confusion matrix out of the predictions. What do you find?\n"
      ],
      "id": "0dc16ebd"
    },
    {
      "cell_type": "code",
      "metadata": {},
      "source": [
        "conf = pd.DataFrame(confusion_matrix(y_test, y_pred))\n",
        "print(type(conf), conf)"
      ],
      "id": "86185944",
      "execution_count": null,
      "outputs": []
    },
    {
      "cell_type": "markdown",
      "metadata": {},
      "source": [
        "6. Plot the ROC curve. How well does your model do? Hint: You can use the [RocCurveDisplay](https://scikit-learn.org/stable/modules/generated/sklearn.metrics.RocCurveDisplay.html) to create this plot.\n"
      ],
      "id": "c4273dd0"
    },
    {
      "cell_type": "code",
      "metadata": {},
      "source": [
        "# the datacamp way\n",
        "y_pred_probs = logm.predict_proba(X_test)[:, 1]\n",
        "fpr, tpr, thresholds = roc_curve(y_test, y_pred_probs)\n",
        "plt.plot(fpr, tpr)\n",
        "plt.xlabel('False Positive Rate')\n",
        "plt.ylabel('True Positive Rate')\n",
        "plt.title('ROC Curve')\n",
        "plt.show()\n",
        "\n",
        "# with RocCurveDisplay\n",
        "roc_auc = metrics.auc(fpr, tpr)\n",
        "print(roc_auc)\n",
        "RocCurveDisplay(fpr=fpr, tpr=tpr, roc_auc=roc_auc).plot()"
      ],
      "id": "716bba54",
      "execution_count": null,
      "outputs": []
    },
    {
      "cell_type": "markdown",
      "metadata": {},
      "source": [
        "You are likely to see that the model does not tend to predict that individuals survived the voyage. Let's see if we can determine why.\n",
        "\n",
        "7. Look at the average age of survivors vs. those that did not survive the voyage. What do you find?\n"
      ],
      "id": "ae99426f"
    },
    {
      "cell_type": "code",
      "metadata": {},
      "source": [
        "survivors = titanic[titanic[\"Survived\"] == 1]\n",
        "dead = titanic[titanic[\"Survived\"] == 0]\n",
        "\n",
        "avg_surv_age = survivors[\"Age\"].mean()\n",
        "avg_dead_age = dead[\"Age\"].mean()\n",
        "\n",
        "print(f'avg survivor age: {avg_surv_age}, avg dead age: {avg_dead_age}')"
      ],
      "id": "e9a581cc",
      "execution_count": null,
      "outputs": []
    },
    {
      "cell_type": "markdown",
      "metadata": {},
      "source": [
        "8. Perhaps the actual age number is as important as whether a passenger was a child or an adult. Create a Boolean column that indicates whether a passenger was a child or an adult. Pick a cutoff age and if they were less than this age, label as a child. We'll see later on how we can make choosing the age part of our model building pipeline, but for now, choose an age or do some calculations to pick an age that you think might do well.\n"
      ],
      "id": "bad8405d"
    },
    {
      "cell_type": "code",
      "metadata": {},
      "source": [
        "cutoff_age = 18\n",
        "\n",
        "titanic[\"is_child\"] = [1 if x  < cutoff_age else 0 for x in titanic[\"Age\"]]\n",
        "print(f'Number of children: {titanic[\"is_child\"].sum()}')"
      ],
      "id": "1fe9e1a9",
      "execution_count": null,
      "outputs": []
    },
    {
      "cell_type": "markdown",
      "metadata": {},
      "source": [
        "9. When imputing the missing values, you'll need to change the strategy from mean to most_frequent. Impute the missing values, then fit the model using this new variable, generate predictions, and view the confusion matrix. How did your model do?\n"
      ],
      "id": "1d28ccd6"
    },
    {
      "cell_type": "code",
      "metadata": {},
      "source": [
        "# declare new predictor variable\n",
        "X = titanic[['is_child']]\n",
        "\n",
        "# new train test split for new X\n",
        "X_train, X_test, y_train, y_test = train_test_split(X, y, test_size = 0.3, random_state=42, stratify=y)\n",
        "\n",
        "# Impute missing values\n",
        "imputer = SimpleImputer(missing_values = np.nan, strategy = \"most_frequent\")\n",
        "X_train = imputer.fit_transform(X_train)\n",
        "X_test = imputer.transform(X_test)\n",
        "\n",
        "# make predictions\n",
        "logm = LogisticRegression()\n",
        "logm.fit(X_train, y_train)\n",
        "y_pred = logm.predict(X_test)\n",
        "\n",
        "# confusion matrix\n",
        "conf = pd.DataFrame(confusion_matrix(y_test, y_pred))\n",
        "print(type(conf), conf)"
      ],
      "id": "908265e7",
      "execution_count": null,
      "outputs": []
    },
    {
      "cell_type": "markdown",
      "metadata": {},
      "source": [
        "Other common metrics for classification include accuracy, precision, and recall. For more information, see https://developers.google.com/machine-learning/crash-course/classification/accuracy-precision-recall. These metrics can be viewed using the [classification_report function](https://scikit-learn.org/stable/modules/generated/sklearn.metrics.classification_report.html). \n",
        "\n",
        "10. Generate a classification report for your model.\n"
      ],
      "id": "b601fd8c"
    },
    {
      "cell_type": "code",
      "metadata": {},
      "source": [
        "target_names = ['Died', 'Survived']\n",
        "classification_rep = metrics.classification_report(y_test, y_pred, target_names=target_names)\n",
        "print(classification_rep)"
      ],
      "id": "2935e11e",
      "execution_count": null,
      "outputs": []
    },
    {
      "cell_type": "markdown",
      "metadata": {},
      "source": [
        "Another important variable is the Sex variable. \n",
        "\n",
        "11. Create a DataFrame, X, which contains one column, Sex, and a Series, y, which contains the target variable. Perform a 70/30 train/test split, stratifying by the target variable. Make sure that you set a random_state during this split. \n"
      ],
      "id": "e3aebe84"
    },
    {
      "cell_type": "code",
      "metadata": {},
      "source": [
        "predictors = [\"Sex\"]\n",
        "target = \"Survived\"\n",
        "\n",
        "X = titanic[predictors]\n",
        "y = titanic[target]\n",
        "\n",
        "X_train, X_test, y_train, y_test = train_test_split(\n",
        "    X, \n",
        "    y,\n",
        "    test_size = 0.3,\n",
        "    random_state = 42,\n",
        "    stratify = y\n",
        ")"
      ],
      "id": "7174595c",
      "execution_count": null,
      "outputs": []
    },
    {
      "cell_type": "markdown",
      "metadata": {},
      "source": [
        "If you inspect the Sex variable, you'll find that it is encoded as a string. We need to convert it to a numeric type so that our model can use it. We can do this using a [OneHotEncoder](https://scikit-learn.org/stable/modules/generated/sklearn.preprocessing.OneHotEncoder.html).\n",
        "\n",
        "12. Fit a OneHotEncoder to the training data and then transform both the training and test sets. Fit a model and evaluate the performance of this model.\n"
      ],
      "id": "b254872c"
    },
    {
      "cell_type": "code",
      "metadata": {},
      "source": [
        "encoder = OneHotEncoder(sparse_output=False, handle_unknown='ignore')\n",
        "X_train_encoded = encoder.fit_transform(X_train)\n",
        "X_test_encoded = encoder.transform(X_test)\n",
        "\n",
        "logreg = LogisticRegression()\n",
        "logreg.fit(X_train_encoded, y_train)\n",
        "y_pred = logreg.predict(X_test_encoded)\n",
        "\n",
        "print(pd.DataFrame(confusion_matrix(y_pred, y_test)))"
      ],
      "id": "a2a7a705",
      "execution_count": null,
      "outputs": []
    },
    {
      "cell_type": "markdown",
      "metadata": {},
      "source": [
        "Notice how we have used different types of transformations, an imputer for the age-related variables and a OneHotEncoder for the Sex variable. When we need to use multiple types of transformations, a [ColumnTransformer](https://scikit-learn.org/stable/modules/generated/sklearn.compose.ColumnTransformer.html) is useful. \n",
        "\n",
        "In the next part, we'll fit a model using both the Sex column and our column indicating whether the passenger was a child. \n",
        "\n",
        "13. Create a DataFrame, X, which contains two columns, Sex and the child indicator column, and a Series, y, which contains the target variable. Perform a 70/30 train/test split, stratifying by the target variable. Make sure that you set a random_state during this split. Then create a ColumnTransformer which will apply a SimpleImputer to the child column and a OneHotEncoder to the Sex column. Fit it on the training data and then transform the test data. Then fit a model on this and see how well it does.\n"
      ],
      "id": "db69506c"
    },
    {
      "cell_type": "code",
      "metadata": {},
      "source": [
        "# identify variables of interest\n",
        "predictors = [\"Sex\", \"is_child\"]\n",
        "target = \"Survived\"\n",
        "\n",
        "X = titanic[predictors]\n",
        "y = titanic[target]\n",
        "\n",
        "X_train, X_test, y_train, y_test = train_test_split(\n",
        "    X, \n",
        "    y,\n",
        "    test_size = 0.3,\n",
        "    random_state = 42,\n",
        "    stratify = y\n",
        ")\n",
        "\n",
        "ct = ColumnTransformer(\n",
        "    transformers=[\n",
        "        (\"imputer\", SimpleImputer, X_train[\"Sex\"]),\n",
        "        (\"ohe\", OneHotEncoder, X_train[\"is_child\"]),\n",
        "    ]\n",
        ")\n",
        "ct.fit_transform(X_train)\n",
        "ct.transform(X_test)\n",
        "\n",
        "logm = LogisticRegression()\n",
        "logm.fit(X_train, y_train)\n",
        "y_pred = logm.predict(X_test\n"
      ],
      "id": "41cdc695",
      "execution_count": null,
      "outputs": []
    },
    {
      "cell_type": "markdown",
      "metadata": {},
      "source": [
        "Finally, let's see how we can do all of this in a slightly more compact manner. We can use a [Pipeline](https://scikit-learn.org/stable/modules/generated/sklearn.pipeline.Pipeline.html) which allows us to specify preprocessing steps (like the ColumnTransformer we used earlier) as well as the model we want to fit. \n",
        "\n",
        "14. Create a Pipeline which contains the ColumnTransformer and the LogisticRegression model. \n",
        "\n",
        "** If you've reached this point, let your instructors know so that they can check in with you. **\n",
        "\n",
        "Stretch Goals\n",
        "\n",
        "1. Try adding additional features and see how this affects your model. Think carefully about if you want passenger class to be treated as a numeric or a categorical variable."
      ],
      "id": "86066c0f"
    }
  ],
  "metadata": {
    "kernelspec": {
      "name": "python3",
      "language": "python",
      "display_name": "Python 3 (ipykernel)",
      "path": "/Users/drewrichard/Documents/projects/nss/nss_projects/ml-exercise-02-DrewRichard7/.venv/share/jupyter/kernels/python3"
    }
  },
  "nbformat": 4,
  "nbformat_minor": 5
}